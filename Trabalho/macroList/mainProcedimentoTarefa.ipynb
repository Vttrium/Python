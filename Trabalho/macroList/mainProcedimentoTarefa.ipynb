{
 "cells": [
  {
   "cell_type": "code",
   "execution_count": 1,
   "metadata": {},
   "outputs": [],
   "source": [
    "import pyautogui as pa\n",
    "import time"
   ]
  },
  {
   "cell_type": "code",
   "execution_count": 11,
   "metadata": {},
   "outputs": [],
   "source": [
    "def play_verificacao(listNumbers):\n",
    "    for number in range(len(listNumbers)):\n",
    "        time.sleep(1)\n",
    "        pa.click(-196, 105)  # Mouse click at (-196, 105)\n",
    "        time.sleep(2.04)\n",
    "        pa.write(str(listNumbers[number]))  # Type: 3\n",
    "        time.sleep(1)\n",
    "        pa.hotkey('page down')  # Hotkey: page down\n",
    "        time.sleep(0.00)\n",
    "        pa.hotkey('tab')  # Hotkey: tab\n",
    "        time.sleep(0.75)\n",
    "        pa.hotkey('enter')  # Hotkey: enter\n",
    "        time.sleep(0.75)\n",
    "        pa.hotkey('enter')  # Hotkey: enter\n",
    "        time.sleep(1.40)\n",
    "        pa.click(-354, 250)  # Mouse click at (-354, 250)\n",
    "        time.sleep(1)\n",
    "        pa.click(-367, 293)  # Mouse click at (-367, 293)\n",
    "        time.sleep(1.50)\n",
    "        pa.click(-744, 367)  # Mouse click at (-744, 367)\n",
    "        time.sleep(1.25)\n",
    "        pa.click(-774, 436)  # Mouse click at (-774, 436)\n",
    "        time.sleep(2.50)\n",
    "        pa.click(-857, 865)  # Mouse click at (-857, 865)\n",
    "        time.sleep(1.25)\n",
    "        pa.click(-933, 79)  # Mouse click at (-933, 79)\n",
    "        time.sleep(1.50)\n",
    "        pa.click(265, 130)  # Mouse click at (265, 130)"
   ]
  },
  {
   "cell_type": "code",
   "execution_count": 5,
   "metadata": {},
   "outputs": [
    {
     "name": "stdout",
     "output_type": "stream",
     "text": [
      "Digite os números para adicionar à lista. Digite 'N' para finalizar.\n",
      "[3, 4, 5, 6, 7, 10, 11, 12, 13, 297, 300, 301, 303, 307, 309, 733, 1404, 1405, 1408, 1410, 1414, 1415]\n"
     ]
    },
    {
     "ename": "KeyboardInterrupt",
     "evalue": "",
     "output_type": "error",
     "traceback": [
      "\u001b[1;31m---------------------------------------------------------------------------\u001b[0m",
      "\u001b[1;31mKeyboardInterrupt\u001b[0m                         Traceback (most recent call last)",
      "Cell \u001b[1;32mIn[5], line 22\u001b[0m\n\u001b[0;32m     19\u001b[0m         \u001b[38;5;28mprint\u001b[39m(\u001b[38;5;124m\"\u001b[39m\u001b[38;5;124mEntrada inválida. Por favor, digite um número ou \u001b[39m\u001b[38;5;124m'\u001b[39m\u001b[38;5;124mN\u001b[39m\u001b[38;5;124m'\u001b[39m\u001b[38;5;124m para sair.\u001b[39m\u001b[38;5;124m\"\u001b[39m)\n\u001b[0;32m     21\u001b[0m \u001b[38;5;28mprint\u001b[39m(numbers)\n\u001b[1;32m---> 22\u001b[0m \u001b[43mplay_verificacao\u001b[49m\u001b[43m(\u001b[49m\u001b[43mnumbers\u001b[49m\u001b[43m)\u001b[49m\n",
      "Cell \u001b[1;32mIn[4], line 3\u001b[0m, in \u001b[0;36mplay_verificacao\u001b[1;34m(listNumbers)\u001b[0m\n\u001b[0;32m      1\u001b[0m \u001b[38;5;28;01mdef\u001b[39;00m \u001b[38;5;21mplay_verificacao\u001b[39m(listNumbers):\n\u001b[0;32m      2\u001b[0m     \u001b[38;5;28;01mfor\u001b[39;00m number \u001b[38;5;129;01min\u001b[39;00m listNumbers:\n\u001b[1;32m----> 3\u001b[0m         \u001b[43mtime\u001b[49m\u001b[38;5;241;43m.\u001b[39;49m\u001b[43msleep\u001b[49m\u001b[43m(\u001b[49m\u001b[38;5;241;43m1.66\u001b[39;49m\u001b[43m)\u001b[49m\n\u001b[0;32m      4\u001b[0m         pa\u001b[38;5;241m.\u001b[39mclick(\u001b[38;5;241m-\u001b[39m\u001b[38;5;241m196\u001b[39m, \u001b[38;5;241m105\u001b[39m)  \u001b[38;5;66;03m# Mouse click at (-196, 105)\u001b[39;00m\n\u001b[0;32m      5\u001b[0m         time\u001b[38;5;241m.\u001b[39msleep(\u001b[38;5;241m4.04\u001b[39m)\n",
      "\u001b[1;31mKeyboardInterrupt\u001b[0m: "
     ]
    }
   ],
   "source": [
    "# Inicializa a lista para armazenar os números\n",
    "numbers = []\n",
    "\n",
    "print(\"Digite os números para adicionar à lista. Digite 'N' para finalizar.\")\n",
    "\n",
    "while True:\n",
    "    # Solicita entrada do usuário\n",
    "    user_input = input(\"Número: \")\n",
    "    \n",
    "    # Verifica se o usuário deseja sair\n",
    "    if user_input.upper() == 'N':\n",
    "        break\n",
    "    \n",
    "    # Tenta converter a entrada em número\n",
    "    try:\n",
    "        number = int(user_input)  # Pode usar int(user_input) se quiser apenas inteiros\n",
    "        numbers.append(number)\n",
    "    except ValueError:\n",
    "        print(\"Entrada inválida. Por favor, digite um número ou 'N' para sair.\")\n",
    "\n",
    "print(numbers)"
   ]
  },
  {
   "cell_type": "code",
   "execution_count": 12,
   "metadata": {},
   "outputs": [
    {
     "ename": "KeyboardInterrupt",
     "evalue": "",
     "output_type": "error",
     "traceback": [
      "\u001b[1;31m---------------------------------------------------------------------------\u001b[0m",
      "\u001b[1;31mKeyboardInterrupt\u001b[0m                         Traceback (most recent call last)",
      "Cell \u001b[1;32mIn[12], line 2\u001b[0m\n\u001b[0;32m      1\u001b[0m numbersTeste \u001b[38;5;241m=\u001b[39m [\u001b[38;5;241m3\u001b[39m, \u001b[38;5;241m4\u001b[39m, \u001b[38;5;241m5\u001b[39m, \u001b[38;5;241m6\u001b[39m, \u001b[38;5;241m7\u001b[39m, \u001b[38;5;241m10\u001b[39m, \u001b[38;5;241m11\u001b[39m, \u001b[38;5;241m12\u001b[39m, \u001b[38;5;241m13\u001b[39m, \u001b[38;5;241m297\u001b[39m, \u001b[38;5;241m300\u001b[39m, \u001b[38;5;241m301\u001b[39m, \u001b[38;5;241m303\u001b[39m, \u001b[38;5;241m307\u001b[39m, \u001b[38;5;241m309\u001b[39m, \u001b[38;5;241m733\u001b[39m, \u001b[38;5;241m1404\u001b[39m, \u001b[38;5;241m1405\u001b[39m, \u001b[38;5;241m1408\u001b[39m, \u001b[38;5;241m1410\u001b[39m, \u001b[38;5;241m1414\u001b[39m, \u001b[38;5;241m1415\u001b[39m]\n\u001b[1;32m----> 2\u001b[0m \u001b[43mplay_verificacao\u001b[49m\u001b[43m(\u001b[49m\u001b[43mnumbersTeste\u001b[49m\u001b[43m)\u001b[49m\n",
      "Cell \u001b[1;32mIn[11], line 6\u001b[0m, in \u001b[0;36mplay_verificacao\u001b[1;34m(listNumbers)\u001b[0m\n\u001b[0;32m      4\u001b[0m pa\u001b[38;5;241m.\u001b[39mclick(\u001b[38;5;241m-\u001b[39m\u001b[38;5;241m196\u001b[39m, \u001b[38;5;241m105\u001b[39m)  \u001b[38;5;66;03m# Mouse click at (-196, 105)\u001b[39;00m\n\u001b[0;32m      5\u001b[0m time\u001b[38;5;241m.\u001b[39msleep(\u001b[38;5;241m2.04\u001b[39m)\n\u001b[1;32m----> 6\u001b[0m \u001b[43mpa\u001b[49m\u001b[38;5;241;43m.\u001b[39;49m\u001b[43mwrite\u001b[49m\u001b[43m(\u001b[49m\u001b[38;5;28;43mstr\u001b[39;49m\u001b[43m(\u001b[49m\u001b[43mlistNumbers\u001b[49m\u001b[43m[\u001b[49m\u001b[43mnumber\u001b[49m\u001b[43m]\u001b[49m\u001b[43m)\u001b[49m\u001b[43m)\u001b[49m  \u001b[38;5;66;03m# Type: 3\u001b[39;00m\n\u001b[0;32m      7\u001b[0m time\u001b[38;5;241m.\u001b[39msleep(\u001b[38;5;241m0.74\u001b[39m)\n\u001b[0;32m      8\u001b[0m pa\u001b[38;5;241m.\u001b[39mhotkey(\u001b[38;5;124m'\u001b[39m\u001b[38;5;124mpage down\u001b[39m\u001b[38;5;124m'\u001b[39m)  \u001b[38;5;66;03m# Hotkey: page down\u001b[39;00m\n",
      "File \u001b[1;32m~\\AppData\\Local\\Packages\\PythonSoftwareFoundation.Python.3.11_qbz5n2kfra8p0\\LocalCache\\local-packages\\Python311\\site-packages\\pyautogui\\__init__.py:595\u001b[0m, in \u001b[0;36m_genericPyAutoGUIChecks.<locals>.wrapper\u001b[1;34m(*args, **kwargs)\u001b[0m\n\u001b[0;32m    593\u001b[0m failSafeCheck()\n\u001b[0;32m    594\u001b[0m returnVal \u001b[38;5;241m=\u001b[39m wrappedFunction(\u001b[38;5;241m*\u001b[39margs, \u001b[38;5;241m*\u001b[39m\u001b[38;5;241m*\u001b[39mkwargs)\n\u001b[1;32m--> 595\u001b[0m \u001b[43m_handlePause\u001b[49m\u001b[43m(\u001b[49m\u001b[43mkwargs\u001b[49m\u001b[38;5;241;43m.\u001b[39;49m\u001b[43mget\u001b[49m\u001b[43m(\u001b[49m\u001b[38;5;124;43m\"\u001b[39;49m\u001b[38;5;124;43m_pause\u001b[39;49m\u001b[38;5;124;43m\"\u001b[39;49m\u001b[43m,\u001b[49m\u001b[43m \u001b[49m\u001b[38;5;28;43;01mTrue\u001b[39;49;00m\u001b[43m)\u001b[49m\u001b[43m)\u001b[49m\n\u001b[0;32m    596\u001b[0m \u001b[38;5;28;01mreturn\u001b[39;00m returnVal\n",
      "File \u001b[1;32m~\\AppData\\Local\\Packages\\PythonSoftwareFoundation.Python.3.11_qbz5n2kfra8p0\\LocalCache\\local-packages\\Python311\\site-packages\\pyautogui\\__init__.py:639\u001b[0m, in \u001b[0;36m_handlePause\u001b[1;34m(_pause)\u001b[0m\n\u001b[0;32m    637\u001b[0m \u001b[38;5;28;01mif\u001b[39;00m _pause:\n\u001b[0;32m    638\u001b[0m     \u001b[38;5;28;01massert\u001b[39;00m \u001b[38;5;28misinstance\u001b[39m(PAUSE, \u001b[38;5;28mint\u001b[39m) \u001b[38;5;129;01mor\u001b[39;00m \u001b[38;5;28misinstance\u001b[39m(PAUSE, \u001b[38;5;28mfloat\u001b[39m)\n\u001b[1;32m--> 639\u001b[0m     time\u001b[38;5;241m.\u001b[39msleep(PAUSE)\n",
      "\u001b[1;31mKeyboardInterrupt\u001b[0m: "
     ]
    }
   ],
   "source": [
    "numbersTeste = [3, 4, 5, 6, 7, 10, 11, 12, 13, 297, 300, 301, 303, 307, 309, 733, 1404, 1405, 1408, 1410, 1414, 1415]\n",
    "play_verificacao(numbersTeste)"
   ]
  }
 ],
 "metadata": {
  "kernelspec": {
   "display_name": "Python 3",
   "language": "python",
   "name": "python3"
  },
  "language_info": {
   "codemirror_mode": {
    "name": "ipython",
    "version": 3
   },
   "file_extension": ".py",
   "mimetype": "text/x-python",
   "name": "python",
   "nbconvert_exporter": "python",
   "pygments_lexer": "ipython3",
   "version": "3.11.9"
  }
 },
 "nbformat": 4,
 "nbformat_minor": 2
}
