{
 "cells": [
  {
   "cell_type": "code",
   "execution_count": 1,
   "metadata": {},
   "outputs": [],
   "source": [
    "import webbrowser\n",
    "\n",
    "links = [\n",
    "    \"http://138.219.35.13:8090/IDSSaude/IDSSaude.dll\",\n",
    "    \"https://sa.sinnc.app/drpedrinho/2/IDSSaude.dll\",\n",
    "    \"http://177.84.3.1:8087/IDSSaude/idssaude.dll\",\n",
    "    \"https://sa.sinnc.app/agronomica/1/IDSSaude.dll\",\n",
    "    \"http://138.219.35.12:8087/IDSSaude/IDSSaude.dll\",\n",
    "    \"http://saude.pmtb.pr.gov.br:8087/IDSSaude/IDSSaude.dll\",\n",
    "    \"https://sa.sinnc.app/mangueirinha/1/IDSSaude.dll\",\n",
    "    \"https://sa.sinnc.app/novatebas/1/IDSSaude.dll\",\n",
    "    \"https://sa.sinnc.app/curiuva/2/IDSSaude.dll\",\n",
    "    \"https://sa.sinnc.app/mariopolis/1/IDSSaude.dll\",\n",
    "    \"https://sa.sinnc.app/santamariana/2/IDSSaude.dll\",\n",
    "    \"https://sa.sinnc.app/conims/1/IDSSaude.dll\",\n",
    "    \"https://sa.sinnc.app/ijui/5/IDSSaude.dll\",\n",
    "    \"https://sa.sinnc.app/sinncsp/\",\n",
    "    \"https://sa.sinnc.app/ciaps/1/IDSSaude.dll\",\n",
    "    \"https://sa.sinnc.app/taio/1/IDSSaude.dll\",\n",
    "    \"https://sa.sinnc.app/vidalramos/2/IDSSaude.dll\",\n",
    "    \"https://sa.sinnc.app/riodoscedros/2/IDSSaude.dll\",\n",
    "    \"https://sa.sinnc.app/salete/1/IDSSaude.dll\",\n",
    "    \"https://sa.sinnc.app/pomerode/2/IDSSaude.dll\",\n",
    "    \"https://sa.sinnc.app/laurentino/1/IDSSaude.dll\",\n",
    "    \"https://sa.sinnc.app/lontras/2/IDSSaude.dll\",\n",
    "    \"https://sa.sinnc.app/guabiruba/2/IDSSaude.dll\",\n",
    "    \"https://chapeco-saude.ids.inf.br/chapeco/4/IDSSaude.dll\",\n",
    "    \"https://sa.sinnc.app/campoere/1/IDSSaude.dll\",\n",
    "    \"https://sa.sinnc.app/canoinhas/2/IDSSaude.dll\",\n",
    "    \"https://sa.sinnc.app/botuvera/1/IDSSaude.dll\",\n",
    "    \"https://sa.sinnc.app/ascurra/2/IDSSaude.dll\",\n",
    "    \"https://sa.sinnc.app/apiuna/1/IDSSaude.dll\",\n",
    "    \"https://sa.sinnc.app/indaial/3/IDSSaude.dll\",\n",
    "    \"https://sa.sinnc.app/donaemma/2/IDSSaude.dll\",\n",
    "    \"https://sa.sinnc.app/bcs/3/IDSSaude.dll\",\n",
    "    \"https://sa.sinnc.app/presidente/2/IDSSaude.dll\",\n",
    "    \"https://sa.sinnc.app/conims/2/IDSSaude.dll\",\n",
    "    \"https://sa.sinnc.app/aurora/1/IDSSaude.dll\",\n",
    "    \"https://sa.sinnc.app/ouroverde/1/IDSSaude.dll\",\n",
    "    \"https://sa.sinnc.app/rodeio/1/IDSSaude.dll\",\n",
    "    \"https://sa.sinnc.app/ascurra/1/IDSSaude.dll\"\n",
    "]\n",
    "\n",
    "for link in links:\n",
    "    webbrowser.open(link)"
   ]
  },
  {
   "cell_type": "code",
   "execution_count": null,
   "metadata": {},
   "outputs": [],
   "source": []
  }
 ],
 "metadata": {
  "kernelspec": {
   "display_name": "Python 3",
   "language": "python",
   "name": "python3"
  },
  "language_info": {
   "codemirror_mode": {
    "name": "ipython",
    "version": 3
   },
   "file_extension": ".py",
   "mimetype": "text/x-python",
   "name": "python",
   "nbconvert_exporter": "python",
   "pygments_lexer": "ipython3",
   "version": "3.11.9"
  }
 },
 "nbformat": 4,
 "nbformat_minor": 2
}
