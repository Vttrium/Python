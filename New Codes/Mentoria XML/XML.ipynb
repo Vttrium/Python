{
 "cells": [
  {
   "cell_type": "code",
   "execution_count": 1,
   "metadata": {},
   "outputs": [],
   "source": [
    "import xmltodict\n",
    "import os"
   ]
  },
  {
   "cell_type": "code",
   "execution_count": 5,
   "metadata": {
    "notebookRunGroups": {
     "groupValue": ""
    }
   },
   "outputs": [],
   "source": [
    "def ler_xml_danfe(nota):\n",
    "    with open(f'{nota}', 'rb') as arquivo:\n",
    "        documento = xmltodict.parse(arquivo)\n",
    "    dic_notafiscal = documento['nfeProc']['NFe']['infNFe']\n",
    "    valor_total = dic_notafiscal['total']['ICMSTot']['vNF']\n",
    "    cnpj = dic_notafiscal['emit']['CNPJ']\n",
    "    nome_do_vendedor = dic_notafiscal['emit']['xNome']\n",
    "    cpfcnpj_doComprador = dic_notafiscal['dest']['CPF']\n",
    "    Nome_doComprador = dic_notafiscal['dest']['xNome']\n",
    "    produtos = dic_notafiscal['det']\n",
    "    lista_produtos = []\n",
    "    for produto in produtos:\n",
    "        valor_produto = produto['prod']['vProd']\n",
    "        nome_produto = produto['prod']['xProd']\n",
    "        lista_produtos.append((nome_produto, valor_produto))\n",
    "    resultado = {\n",
    "        'valor_total': valor_total,\n",
    "        'cnpj_vendeu': cnpj,\n",
    "        'nome_do_vendedor': nome_do_vendedor,\n",
    "        'nome_do_comprador': Nome_doComprador,\n",
    "        'cpf_do_comprador': cpfcnpj_doComprador,\n",
    "        'lista_produtos': lista_produtos,\n",
    "    }\n",
    "    return resultado\n",
    "\n",
    "def ler_xml_servico(nota):\n",
    "    with open(f'{nota}', 'rb') as arquivo:\n",
    "        documento = xmltodict.parse(arquivo)\n",
    "    dic_notafiscal = documento['ConsultarNfseResposta']['ListaNfse']['CompNfse']['Nfse']['InfNfse']\n",
    "    valor_total = dic_notafiscal['Servico']['Valores']['ValorServicos']\n",
    "    cnpj = dic_notafiscal['PrestadorServico']['IdentificacaoPrestador']['Cnpj']\n",
    "    nome_do_prestador = dic_notafiscal['PrestadorServico']['RazaoSocial']\n",
    "    cpfcnpj_doComprador = dic_notafiscal['TomadorServico']['IdentificacaoTomador']['CpfCnpj']['Cnpj']\n",
    "    Nome_doComprador = dic_notafiscal['TomadorServico']['RazaoSocial']\n",
    "    servicos = dic_notafiscal['Servico']['Discriminacao']\n",
    "\n",
    "    resultado = {\n",
    "        'valor_total': valor_total,\n",
    "        'cnpj_vendeu': cnpj,\n",
    "        'nome_do_vendedor': nome_do_prestador,\n",
    "        'nome_do_comprador': Nome_doComprador,\n",
    "        'cpf_do_comprador': cpfcnpj_doComprador,\n",
    "        'lista_produtos': servicos,\n",
    "    }\n",
    "    return resultado\n",
    "            "
   ]
  },
  {
   "cell_type": "code",
   "execution_count": 3,
   "metadata": {},
   "outputs": [],
   "source": [
    "import pandas as pd\n",
    "import numpy as np  \n",
    "import openpyxl as opx"
   ]
  },
  {
   "cell_type": "code",
   "execution_count": 6,
   "metadata": {},
   "outputs": [],
   "source": [
    "arquivos = os.listdir('C:/Users/phsau/Vscode Files/Python/Dados/NFs Finais')\n",
    "\n",
    "lista_de_resultados = []\n",
    "for arquivo in arquivos:\n",
    "    if 'xml' in arquivo:\n",
    "        if 'DANFE' in arquivo:\n",
    "            resultado = ler_xml_danfe('C:/Users/phsau/Vscode Files/Python/Dados/NFs Finais/{}'.format(arquivo))\n",
    "            lista_de_resultados.append(resultado)\n",
    "        else:\n",
    "            resultado = ler_xml_servico('C:/Users/phsau/Vscode Files/Python/Dados/NFs Finais/{}'.format(arquivo))\n",
    "            lista_de_resultados.append(resultado)\n",
    "\n",
    "tabela = pd.DataFrame(lista_de_resultados)\n",
    "tabela.to_excel('NFS.xlsx', index=False)\n"
   ]
  }
 ],
 "metadata": {
  "kernelspec": {
   "display_name": "Python 3",
   "language": "python",
   "name": "python3"
  },
  "language_info": {
   "codemirror_mode": {
    "name": "ipython",
    "version": 3
   },
   "file_extension": ".py",
   "mimetype": "text/x-python",
   "name": "python",
   "nbconvert_exporter": "python",
   "pygments_lexer": "ipython3",
   "version": "3.11.3"
  },
  "orig_nbformat": 4
 },
 "nbformat": 4,
 "nbformat_minor": 2
}
