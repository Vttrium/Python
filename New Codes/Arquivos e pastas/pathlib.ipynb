{
 "cells": [
  {
   "cell_type": "code",
   "execution_count": 14,
   "metadata": {},
   "outputs": [],
   "source": [
    "from pathlib import Path\n",
    "import shutil"
   ]
  },
  {
   "cell_type": "code",
   "execution_count": 7,
   "metadata": {},
   "outputs": [
    {
     "name": "stdout",
     "output_type": "stream",
     "text": [
      "Arquivos_Lojas\\201801_Amazonas Shopping_AM.csv\n",
      "Arquivos_Lojas\\201801_Barra Shopping_RJ.csv\n",
      "Arquivos_Lojas\\201801_BH Shopping_MG.csv\n",
      "Arquivos_Lojas\\201801_Bourbon_SP.csv\n",
      "Arquivos_Lojas\\201801_Buriti Shopping_GO.csv\n",
      "Arquivos_Lojas\\201801_Cidade de Sao Paulo_SP.csv\n",
      "Arquivos_Lojas\\201801_Goiania Shopping_GO.csv\n",
      "Arquivos_Lojas\\201801_Ibirapuera_SP.csv\n",
      "Arquivos_Lojas\\201801_Iguatemi_SP.csv\n",
      "Arquivos_Lojas\\201801_Independência Shopping_MG.csv\n",
      "Arquivos_Lojas\\201801_JK Iguatemi_SP.csv\n",
      "Arquivos_Lojas\\201801_Minas Shopping_MG.csv\n",
      "Arquivos_Lojas\\201801_Morumbi_SP.csv\n",
      "Arquivos_Lojas\\201801_Plaza Shopping_RJ.csv\n",
      "Arquivos_Lojas\\201801_Rio Sul_RJ.csv\n",
      "Arquivos_Lojas\\201801_Shopping Cidade_MG.csv\n",
      "Arquivos_Lojas\\201801_Shopping Leblon_RJ.csv\n",
      "Arquivos_Lojas\\201801_Shopping Tijuca_RJ.csv\n",
      "Arquivos_Lojas\\201802_Amazonas Shopping_AM.csv\n",
      "Arquivos_Lojas\\201802_Barra Shopping_RJ.csv\n",
      "Arquivos_Lojas\\201802_BH Shopping_MG.csv\n",
      "Arquivos_Lojas\\201802_Bourbon_SP.csv\n",
      "Arquivos_Lojas\\201802_Buriti Shopping_GO.csv\n",
      "Arquivos_Lojas\\201802_Cidade de Sao Paulo_SP.csv\n",
      "Arquivos_Lojas\\201802_Goiania Shopping_GO.csv\n",
      "Arquivos_Lojas\\201802_Ibirapuera_SP.csv\n",
      "Arquivos_Lojas\\201802_Iguatemi_SP.csv\n",
      "Arquivos_Lojas\\201802_Independência Shopping_MG.csv\n",
      "Arquivos_Lojas\\201802_JK Iguatemi_SP.csv\n",
      "Arquivos_Lojas\\201802_Minas Shopping_MG.csv\n",
      "Arquivos_Lojas\\201802_Morumbi_SP.csv\n",
      "Arquivos_Lojas\\201802_Plaza Shopping_RJ.csv\n",
      "Arquivos_Lojas\\201802_Rio Sul_RJ.csv\n",
      "Arquivos_Lojas\\201802_Shopping Cidade_MG.csv\n",
      "Arquivos_Lojas\\201802_Shopping Leblon_RJ.csv\n",
      "Arquivos_Lojas\\201802_Shopping Tijuca_RJ.csv\n",
      "Arquivos_Lojas\\201803_Amazonas Shopping_AM.csv\n",
      "Arquivos_Lojas\\201803_Barra Shopping_RJ.csv\n",
      "Arquivos_Lojas\\201803_BH Shopping_MG.csv\n",
      "Arquivos_Lojas\\201803_Bourbon_SP.csv\n",
      "Arquivos_Lojas\\201803_Buriti Shopping_GO.csv\n",
      "Arquivos_Lojas\\201803_Cidade de Sao Paulo_SP.csv\n",
      "Arquivos_Lojas\\201803_Goiania Shopping_GO.csv\n",
      "Arquivos_Lojas\\201803_Ibirapuera_SP.csv\n",
      "Arquivos_Lojas\\201803_Iguatemi_SP.csv\n",
      "Arquivos_Lojas\\201803_Independência Shopping_MG.csv\n",
      "Arquivos_Lojas\\201803_JK Iguatemi_SP.csv\n",
      "Arquivos_Lojas\\201803_Minas Shopping_MG.csv\n",
      "Arquivos_Lojas\\201803_Morumbi_SP.csv\n",
      "Arquivos_Lojas\\201803_Plaza Shopping_RJ.csv\n",
      "Arquivos_Lojas\\201803_Rio Sul_RJ.csv\n",
      "Arquivos_Lojas\\201803_Shopping Cidade_MG.csv\n",
      "Arquivos_Lojas\\201803_Shopping Leblon_RJ.csv\n",
      "Arquivos_Lojas\\201803_Shopping Tijuca_RJ.csv\n",
      "Arquivos_Lojas\\201804_Amazonas Shopping_AM.csv\n",
      "Arquivos_Lojas\\201804_Barra Shopping_RJ.csv\n",
      "Arquivos_Lojas\\201804_BH Shopping_MG.csv\n",
      "Arquivos_Lojas\\201804_Bourbon_SP.csv\n",
      "Arquivos_Lojas\\201804_Buriti Shopping_GO.csv\n",
      "Arquivos_Lojas\\201804_Cidade de Sao Paulo_SP.csv\n",
      "Arquivos_Lojas\\201804_Goiania Shopping_GO.csv\n",
      "Arquivos_Lojas\\201804_Ibirapuera_SP.csv\n",
      "Arquivos_Lojas\\201804_Iguatemi_SP.csv\n",
      "Arquivos_Lojas\\201804_Independência Shopping_MG.csv\n",
      "Arquivos_Lojas\\201804_JK Iguatemi_SP.csv\n",
      "Arquivos_Lojas\\201804_Minas Shopping_MG.csv\n",
      "Arquivos_Lojas\\201804_Morumbi_SP.csv\n",
      "Arquivos_Lojas\\201804_Plaza Shopping_RJ.csv\n",
      "Arquivos_Lojas\\201804_Rio Sul_RJ.csv\n",
      "Arquivos_Lojas\\201804_Shopping Cidade_MG.csv\n",
      "Arquivos_Lojas\\201804_Shopping Leblon_RJ.csv\n",
      "Arquivos_Lojas\\201804_Shopping Tijuca_RJ.csv\n",
      "Arquivos_Lojas\\201901_Amazonas Shopping_AM.csv\n",
      "Arquivos_Lojas\\201901_Barra Shopping_RJ.csv\n",
      "Arquivos_Lojas\\201901_BH Shopping_MG.csv\n",
      "Arquivos_Lojas\\201901_Bourbon_SP.csv\n",
      "Arquivos_Lojas\\201901_Buriti Shopping_GO.csv\n",
      "Arquivos_Lojas\\201901_Cidade de Sao Paulo_SP.csv\n",
      "Arquivos_Lojas\\201901_Goiania Shopping_GO.csv\n",
      "Arquivos_Lojas\\201901_Ibirapuera_SP.csv\n",
      "Arquivos_Lojas\\201901_Iguatemi_SP.csv\n",
      "Arquivos_Lojas\\201901_Independência Shopping_MG.csv\n",
      "Arquivos_Lojas\\201901_JK Iguatemi_SP.csv\n",
      "Arquivos_Lojas\\201901_Minas Shopping_MG.csv\n",
      "Arquivos_Lojas\\201901_Morumbi_SP.csv\n",
      "Arquivos_Lojas\\201901_Plaza Shopping_RJ.csv\n",
      "Arquivos_Lojas\\201901_Rio Sul_RJ.csv\n",
      "Arquivos_Lojas\\201901_Shopping Cidade_MG.csv\n",
      "Arquivos_Lojas\\201901_Shopping Leblon_RJ.csv\n",
      "Arquivos_Lojas\\201901_Shopping Tijuca_RJ.csv\n",
      "Arquivos_Lojas\\201902_Amazonas Shopping_AM.csv\n",
      "Arquivos_Lojas\\201902_Barra Shopping_RJ.csv\n",
      "Arquivos_Lojas\\201902_BH Shopping_MG.csv\n",
      "Arquivos_Lojas\\201902_Bourbon_SP.csv\n",
      "Arquivos_Lojas\\201902_Buriti Shopping_GO.csv\n",
      "Arquivos_Lojas\\201902_Cidade de Sao Paulo_SP.csv\n",
      "Arquivos_Lojas\\201902_Goiania Shopping_GO.csv\n",
      "Arquivos_Lojas\\201902_Ibirapuera_SP.csv\n",
      "Arquivos_Lojas\\201902_Iguatemi_SP.csv\n",
      "Arquivos_Lojas\\201902_Independência Shopping_MG.csv\n",
      "Arquivos_Lojas\\201902_JK Iguatemi_SP.csv\n",
      "Arquivos_Lojas\\201902_Minas Shopping_MG.csv\n",
      "Arquivos_Lojas\\201902_Morumbi_SP.csv\n",
      "Arquivos_Lojas\\201902_Plaza Shopping_RJ.csv\n",
      "Arquivos_Lojas\\201902_Rio Sul_RJ.csv\n",
      "Arquivos_Lojas\\201902_Shopping Cidade_MG.csv\n",
      "Arquivos_Lojas\\201902_Shopping Leblon_RJ.csv\n",
      "Arquivos_Lojas\\201902_Shopping Tijuca_RJ.csv\n",
      "Arquivos_Lojas\\201903_Amazonas Shopping_AM.csv\n",
      "Arquivos_Lojas\\201903_Barra Shopping_RJ.csv\n",
      "Arquivos_Lojas\\201903_BH Shopping_MG.csv\n",
      "Arquivos_Lojas\\201903_Bourbon_SP.csv\n",
      "Arquivos_Lojas\\201903_Buriti Shopping_GO.csv\n",
      "Arquivos_Lojas\\201903_Cidade de Sao Paulo_SP.csv\n",
      "Arquivos_Lojas\\201903_Goiania Shopping_GO.csv\n",
      "Arquivos_Lojas\\201903_Ibirapuera_SP.csv\n",
      "Arquivos_Lojas\\201903_Iguatemi_SP.csv\n",
      "Arquivos_Lojas\\201903_Independência Shopping_MG.csv\n",
      "Arquivos_Lojas\\201903_JK Iguatemi_SP.csv\n",
      "Arquivos_Lojas\\201903_Minas Shopping_MG.csv\n",
      "Arquivos_Lojas\\201903_Morumbi_SP.csv\n",
      "Arquivos_Lojas\\201903_Plaza Shopping_RJ.csv\n",
      "Arquivos_Lojas\\201903_Rio Sul_RJ.csv\n",
      "Arquivos_Lojas\\201903_Shopping Cidade_MG.csv\n",
      "Arquivos_Lojas\\201903_Shopping Leblon_RJ.csv\n",
      "Arquivos_Lojas\\201903_Shopping Tijuca_RJ.csv\n",
      "Arquivos_Lojas\\201904_Amazonas Shopping_AM.csv\n",
      "Arquivos_Lojas\\201904_Barra Shopping_RJ.csv\n",
      "Arquivos_Lojas\\201904_BH Shopping_MG.csv\n",
      "Arquivos_Lojas\\201904_Bourbon_SP.csv\n",
      "Arquivos_Lojas\\201904_Buriti Shopping_GO.csv\n",
      "Arquivos_Lojas\\201904_Cidade de Sao Paulo_SP.csv\n",
      "Arquivos_Lojas\\201904_Goiania Shopping_GO.csv\n",
      "Arquivos_Lojas\\201904_Ibirapuera_SP.csv\n",
      "Arquivos_Lojas\\201904_Iguatemi_SP.csv\n",
      "Arquivos_Lojas\\201904_Independência Shopping_MG.csv\n",
      "Arquivos_Lojas\\201904_JK Iguatemi_SP.csv\n",
      "Arquivos_Lojas\\201904_Minas Shopping_MG.csv\n",
      "Arquivos_Lojas\\201904_Morumbi_SP.csv\n",
      "Arquivos_Lojas\\201904_Plaza Shopping_RJ.csv\n",
      "Arquivos_Lojas\\201904_Rio Sul_RJ.csv\n",
      "Arquivos_Lojas\\201904_Shopping Cidade_MG.csv\n",
      "Arquivos_Lojas\\201904_Shopping Leblon_RJ.csv\n",
      "Arquivos_Lojas\\201904_Shopping Tijuca_RJ.csv\n",
      "Arquivos_Lojas\\202001_Amazonas Shopping_AM.csv\n",
      "Arquivos_Lojas\\202001_Barra Shopping_RJ.csv\n",
      "Arquivos_Lojas\\202001_BH Shopping_MG.csv\n",
      "Arquivos_Lojas\\202001_Bourbon_SP.csv\n",
      "Arquivos_Lojas\\202001_Buriti Shopping_GO.csv\n",
      "Arquivos_Lojas\\202001_Cidade de Sao Paulo_SP.csv\n",
      "Arquivos_Lojas\\202001_Goiania Shopping_GO.csv\n",
      "Arquivos_Lojas\\202001_Ibirapuera_SP.csv\n",
      "Arquivos_Lojas\\202001_Iguatemi_SP.csv\n",
      "Arquivos_Lojas\\202001_Independência Shopping_MG.csv\n",
      "Arquivos_Lojas\\202001_JK Iguatemi_SP.csv\n",
      "Arquivos_Lojas\\202001_Minas Shopping_MG.csv\n",
      "Arquivos_Lojas\\202001_Morumbi_SP.csv\n",
      "Arquivos_Lojas\\202001_Plaza Shopping_RJ.csv\n",
      "Arquivos_Lojas\\202001_Rio Sul_RJ.csv\n",
      "Arquivos_Lojas\\202001_Shopping Cidade_MG.csv\n",
      "Arquivos_Lojas\\202001_Shopping Leblon_RJ.csv\n",
      "Arquivos_Lojas\\202001_Shopping Tijuca_RJ.csv\n",
      "Arquivos_Lojas\\202002_Amazonas Shopping_AM.csv\n",
      "Arquivos_Lojas\\202002_Barra Shopping_RJ.csv\n",
      "Arquivos_Lojas\\202002_BH Shopping_MG.csv\n",
      "Arquivos_Lojas\\202002_Bourbon_SP.csv\n",
      "Arquivos_Lojas\\202002_Buriti Shopping_GO.csv\n",
      "Arquivos_Lojas\\202002_Cidade de Sao Paulo_SP.csv\n",
      "Arquivos_Lojas\\202002_Goiania Shopping_GO.csv\n",
      "Arquivos_Lojas\\202002_Ibirapuera_SP.csv\n",
      "Arquivos_Lojas\\202002_Iguatemi_SP.csv\n",
      "Arquivos_Lojas\\202002_Independência Shopping_MG.csv\n",
      "Arquivos_Lojas\\202002_JK Iguatemi_SP.csv\n",
      "Arquivos_Lojas\\202002_Minas Shopping_MG.csv\n",
      "Arquivos_Lojas\\202002_Morumbi_SP.csv\n",
      "Arquivos_Lojas\\202002_Plaza Shopping_RJ.csv\n",
      "Arquivos_Lojas\\202002_Rio Sul_RJ.csv\n",
      "Arquivos_Lojas\\202002_Shopping Cidade_MG.csv\n",
      "Arquivos_Lojas\\202002_Shopping Leblon_RJ.csv\n",
      "Arquivos_Lojas\\202002_Shopping Tijuca_RJ.csv\n",
      "Arquivos_Lojas\\202003_Amazonas Shopping_AM.csv\n",
      "Arquivos_Lojas\\202003_Barra Shopping_RJ.csv\n",
      "Arquivos_Lojas\\202003_BH Shopping_MG.csv\n",
      "Arquivos_Lojas\\202003_Bourbon_SP.csv\n",
      "Arquivos_Lojas\\202003_Buriti Shopping_GO.csv\n",
      "Arquivos_Lojas\\202003_Cidade de Sao Paulo_SP.csv\n",
      "Arquivos_Lojas\\202003_Goiania Shopping_GO.csv\n",
      "Arquivos_Lojas\\202003_Ibirapuera_SP.csv\n",
      "Arquivos_Lojas\\202003_Iguatemi_SP.csv\n",
      "Arquivos_Lojas\\202003_Independência Shopping_MG.csv\n",
      "Arquivos_Lojas\\202003_JK Iguatemi_SP.csv\n",
      "Arquivos_Lojas\\202003_Minas Shopping_MG.csv\n",
      "Arquivos_Lojas\\202003_Morumbi_SP.csv\n",
      "Arquivos_Lojas\\202003_Plaza Shopping_RJ.csv\n",
      "Arquivos_Lojas\\202003_Rio Sul_RJ.csv\n",
      "Arquivos_Lojas\\202003_Shopping Cidade_MG.csv\n",
      "Arquivos_Lojas\\202003_Shopping Leblon_RJ.csv\n",
      "Arquivos_Lojas\\202003_Shopping Tijuca_RJ.csv\n",
      "Arquivos_Lojas\\202004_Amazonas Shopping_AM.csv\n",
      "Arquivos_Lojas\\202004_Barra Shopping_RJ.csv\n",
      "Arquivos_Lojas\\202004_BH Shopping_MG.csv\n",
      "Arquivos_Lojas\\202004_Bourbon_SP.csv\n",
      "Arquivos_Lojas\\202004_Buriti Shopping_GO.csv\n",
      "Arquivos_Lojas\\202004_Cidade de Sao Paulo_SP.csv\n",
      "Arquivos_Lojas\\202004_Goiania Shopping_GO.csv\n",
      "Arquivos_Lojas\\202004_Ibirapuera_SP.csv\n",
      "Arquivos_Lojas\\202004_Iguatemi_SP.csv\n",
      "Arquivos_Lojas\\202004_Independência Shopping_MG.csv\n",
      "Arquivos_Lojas\\202004_JK Iguatemi_SP.csv\n",
      "Arquivos_Lojas\\202004_Minas Shopping_MG.csv\n",
      "Arquivos_Lojas\\202004_Morumbi_SP.csv\n",
      "Arquivos_Lojas\\202004_Plaza Shopping_RJ.csv\n",
      "Arquivos_Lojas\\202004_Rio Sul_RJ.csv\n",
      "Arquivos_Lojas\\202004_Shopping Cidade_MG.csv\n",
      "Arquivos_Lojas\\202004_Shopping Leblon_RJ.csv\n",
      "Arquivos_Lojas\\202004_Shopping Tijuca_RJ.csv\n"
     ]
    }
   ],
   "source": [
    "# print(Path.cwd())\n",
    "\n",
    "caminho = Path('Arquivos_Lojas')\n",
    "arquivos = caminho.iterdir()\n",
    "for arquivo in arquivos:\n",
    "    print(arquivo)"
   ]
  },
  {
   "cell_type": "code",
   "execution_count": 11,
   "metadata": {},
   "outputs": [
    {
     "name": "stdout",
     "output_type": "stream",
     "text": [
      "Existe\n"
     ]
    }
   ],
   "source": [
    "if (caminho / Path('201801_Amazonas Shopping_AM.csv')).exists():\n",
    "    print('Existe')"
   ]
  },
  {
   "cell_type": "code",
   "execution_count": 17,
   "metadata": {},
   "outputs": [
    {
     "data": {
      "text/plain": [
       "WindowsPath('Pasta Auxiliar/201801_Amazonas Shopping_AM_versao2.csv')"
      ]
     },
     "execution_count": 17,
     "metadata": {},
     "output_type": "execute_result"
    }
   ],
   "source": [
    "# Path('Pasta Auxiliar/Pasta2').mkdir()\n",
    "arquivo_copiar = caminho / Path('201801_Amazonas Shopping_AM.csv')\n",
    "arquivo_colar = Path('Pasta Auxiliar/201801_Amazonas Shopping_AM_versao2.csv')\n",
    "shutil.copy2(arquivo_copiar,arquivo_colar)"
   ]
  },
  {
   "cell_type": "code",
   "execution_count": 18,
   "metadata": {},
   "outputs": [
    {
     "data": {
      "text/plain": [
       "WindowsPath('Pasta Auxiliar/Pasta2/201801_Amazonas Shopping_AM_versao2.csv')"
      ]
     },
     "execution_count": 18,
     "metadata": {},
     "output_type": "execute_result"
    }
   ],
   "source": [
    "arquivo_para_mover = Path('Pasta Auxiliar/201801_Amazonas Shopping_AM_versao2.csv')\n",
    "paracá = Path('Pasta Auxiliar/Pasta2/201801_Amazonas Shopping_AM_versao2.csv')\n",
    "shutil.move(arquivo_para_mover, paracá)"
   ]
  },
  {
   "attachments": {},
   "cell_type": "markdown",
   "metadata": {},
   "source": [
    "Começo do Desafio mostrado em aula:"
   ]
  },
  {
   "cell_type": "code",
   "execution_count": 42,
   "metadata": {},
   "outputs": [],
   "source": [
    "from pathlib import Path\n",
    "import shutil"
   ]
  },
  {
   "cell_type": "code",
   "execution_count": 43,
   "metadata": {},
   "outputs": [
    {
     "name": "stdout",
     "output_type": "stream",
     "text": [
      "c:/Users/phsau/Vscode Files/Python/New Codes/Arquivos e pastas/Pasta Auxiliar/\n"
     ]
    }
   ],
   "source": [
    "# print(Path.cwd())\n",
    "caminho = (r'c:/Users/phsau/Vscode Files/Python/New Codes/Arquivos e pastas/Pasta Auxiliar/')\n",
    "caminho = caminho.replace('\\\\', '/')\n",
    "print(caminho)"
   ]
  },
  {
   "cell_type": "code",
   "execution_count": 49,
   "metadata": {},
   "outputs": [
    {
     "ename": "FileExistsError",
     "evalue": "[WinError 183] Não é possível criar um arquivo já existente: 'c:\\\\Users\\\\phsau\\\\Vscode Files\\\\Python\\\\New Codes\\\\Arquivos e pastas\\\\Pasta Auxiliar\\\\RJ'",
     "output_type": "error",
     "traceback": [
      "\u001b[1;31m---------------------------------------------------------------------------\u001b[0m",
      "\u001b[1;31mFileExistsError\u001b[0m                           Traceback (most recent call last)",
      "Cell \u001b[1;32mIn[49], line 1\u001b[0m\n\u001b[1;32m----> 1\u001b[0m Path(\u001b[39mf\u001b[39;49m\u001b[39m'\u001b[39;49m\u001b[39m{\u001b[39;49;00mcaminho\u001b[39m}\u001b[39;49;00m\u001b[39mRJ\u001b[39;49m\u001b[39m'\u001b[39;49m)\u001b[39m.\u001b[39;49mmkdir()\n\u001b[0;32m      2\u001b[0m Path(\u001b[39mf\u001b[39m\u001b[39m'\u001b[39m\u001b[39m{\u001b[39;00mcaminho\u001b[39m}\u001b[39;00m\u001b[39mAM\u001b[39m\u001b[39m'\u001b[39m)\u001b[39m.\u001b[39mmkdir()\n\u001b[0;32m      3\u001b[0m Path(\u001b[39mf\u001b[39m\u001b[39m'\u001b[39m\u001b[39m{\u001b[39;00mcaminho\u001b[39m}\u001b[39;00m\u001b[39mGO\u001b[39m\u001b[39m'\u001b[39m)\u001b[39m.\u001b[39mmkdir()\n",
      "File \u001b[1;32mC:\\Program Files\\WindowsApps\\PythonSoftwareFoundation.Python.3.11_3.11.1008.0_x64__qbz5n2kfra8p0\\Lib\\pathlib.py:1116\u001b[0m, in \u001b[0;36mPath.mkdir\u001b[1;34m(self, mode, parents, exist_ok)\u001b[0m\n\u001b[0;32m   1112\u001b[0m \u001b[39m\u001b[39m\u001b[39m\"\"\"\u001b[39;00m\n\u001b[0;32m   1113\u001b[0m \u001b[39mCreate a new directory at this given path.\u001b[39;00m\n\u001b[0;32m   1114\u001b[0m \u001b[39m\"\"\"\u001b[39;00m\n\u001b[0;32m   1115\u001b[0m \u001b[39mtry\u001b[39;00m:\n\u001b[1;32m-> 1116\u001b[0m     os\u001b[39m.\u001b[39mmkdir(\u001b[39mself\u001b[39m, mode)\n\u001b[0;32m   1117\u001b[0m \u001b[39mexcept\u001b[39;00m \u001b[39mFileNotFoundError\u001b[39;00m:\n\u001b[0;32m   1118\u001b[0m     \u001b[39mif\u001b[39;00m \u001b[39mnot\u001b[39;00m parents \u001b[39mor\u001b[39;00m \u001b[39mself\u001b[39m\u001b[39m.\u001b[39mparent \u001b[39m==\u001b[39m \u001b[39mself\u001b[39m:\n",
      "\u001b[1;31mFileExistsError\u001b[0m: [WinError 183] Não é possível criar um arquivo já existente: 'c:\\\\Users\\\\phsau\\\\Vscode Files\\\\Python\\\\New Codes\\\\Arquivos e pastas\\\\Pasta Auxiliar\\\\RJ'"
     ]
    }
   ],
   "source": [
    "Path(f'{caminho}RJ').mkdir()\n",
    "Path(f'{caminho}AM').mkdir()\n",
    "Path(f'{caminho}GO').mkdir()\n",
    "Path(f'{caminho}MG').mkdir()\n",
    "Path(f'{caminho}SP').mkdir()"
   ]
  },
  {
   "cell_type": "code",
   "execution_count": 50,
   "metadata": {},
   "outputs": [],
   "source": [
    "arquivos = Path('Arquivos_Lojas').iterdir()\n",
    "for arquivo in arquivos:\n",
    "  arquivo = f'{arquivo}'\n",
    "  arquivo = arquivo.replace('Arquivos_Lojas\\\\', '')\n",
    "  if \"AM\" in arquivo:\n",
    "    arquivo_copiar = Path(f'c:/Users/phsau/Vscode Files/Python/New Codes/Arquivos e pastas/Arquivos_Lojas/{arquivo}')\n",
    "    arquivo_colar = Path(f'c:/Users/phsau/Vscode Files/Python/New Codes/Arquivos e pastas/Pasta Auxiliar/AM/Copy-{arquivo}')\n",
    "    shutil.copy2(arquivo_copiar, arquivo_colar)\n",
    "  elif \"RJ\" in arquivo:\n",
    "    arquivo_copiar = Path(f'c:/Users/phsau/Vscode Files/Python/New Codes/Arquivos e pastas/Arquivos_Lojas/{arquivo}')\n",
    "    arquivo_colar = Path(f'c:/Users/phsau/Vscode Files/Python/New Codes/Arquivos e pastas/Pasta Auxiliar/RJ/Copy-{arquivo}')\n",
    "    shutil.copy2(arquivo_copiar, arquivo_colar)\n",
    "  elif \"GO\" in arquivo:\n",
    "    arquivo_copiar = Path(f'c:/Users/phsau/Vscode Files/Python/New Codes/Arquivos e pastas/Arquivos_Lojas/{arquivo}')\n",
    "    arquivo_colar = Path(f'c:/Users/phsau/Vscode Files/Python/New Codes/Arquivos e pastas/Pasta Auxiliar/GO/Copy-{arquivo}')\n",
    "    shutil.copy2(arquivo_copiar, arquivo_colar)\n",
    "  elif \"MG\" in arquivo:\n",
    "    arquivo_copiar = Path(f'c:/Users/phsau/Vscode Files/Python/New Codes/Arquivos e pastas/Arquivos_Lojas/{arquivo}')\n",
    "    arquivo_colar = Path(f'c:/Users/phsau/Vscode Files/Python/New Codes/Arquivos e pastas/Pasta Auxiliar/MG/Copy-{arquivo}')\n",
    "    shutil.copy2(arquivo_copiar, arquivo_colar)\n",
    "  elif \"SP\" in arquivo:\n",
    "    arquivo_copiar = Path(f'c:/Users/phsau/Vscode Files/Python/New Codes/Arquivos e pastas/Arquivos_Lojas/{arquivo}')\n",
    "    arquivo_colar = Path(f'c:/Users/phsau/Vscode Files/Python/New Codes/Arquivos e pastas/Pasta Auxiliar/SP/Copy-{arquivo}')\n",
    "    shutil.copy2(arquivo_copiar, arquivo_colar)\n"
   ]
  }
 ],
 "metadata": {
  "kernelspec": {
   "display_name": "Python 3",
   "language": "python",
   "name": "python3"
  },
  "language_info": {
   "codemirror_mode": {
    "name": "ipython",
    "version": 3
   },
   "file_extension": ".py",
   "mimetype": "text/x-python",
   "name": "python",
   "nbconvert_exporter": "python",
   "pygments_lexer": "ipython3",
   "version": "3.11.3"
  },
  "orig_nbformat": 4
 },
 "nbformat": 4,
 "nbformat_minor": 2
}
