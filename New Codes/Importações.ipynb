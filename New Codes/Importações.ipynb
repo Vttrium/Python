{
 "cells": [
  {
   "cell_type": "markdown",
   "id": "a9552575",
   "metadata": {},
   "source": [
    "# Concatenação: variáveis diferentes"
   ]
  },
  {
   "cell_type": "code",
   "execution_count": 3,
   "id": "db3a4d62",
   "metadata": {},
   "outputs": [
    {
     "name": "stdout",
     "output_type": "stream",
     "text": [
      "O faturamento foi de 2000. O custo foi de 500. Assim o lucro foi de 1500 reais.\n",
      "O faturamento foi de 2000.\n",
      "O faturamento foi de 2000. O custo foi de 500. Assim, o lucro foi de 1500.\n",
      "O faturamento foi de 2000. O lucro foi de 1500.\n",
      "Insira o valor do Faturamento:1000\n",
      "Insira o valor do custo:300\n",
      "700\n"
     ]
    }
   ],
   "source": [
    "faturamento = 2000\n",
    "custo = 500\n",
    "lucro = faturamento - custo\n",
    "\n",
    "print('O faturamento foi de ' + str(faturamento) + '. O custo foi de ' + str(custo) + '. Assim o lucro foi de ' + str(lucro) + ' reais.')\n",
    "\n",
    "## Método .format:\n",
    "\n",
    "print('O faturamento foi de {}.'.format(faturamento)) # {} no lugar que a variável deve ocupar/ .format(variável)\n",
    "\n",
    "print('O faturamento foi de {}. O custo foi de {}. Assim, o lucro foi de {}.'.format(faturamento, custo, lucro))\n",
    "# Só seguir as posições das chaves para escrever no format em ordem também.\n",
    "\n",
    "## Método f-string:\n",
    "print(f'O faturamento foi de {faturamento}. O lucro foi de {lucro}.') # f no começo. as chaves se tornam interativas.\n",
    "\n",
    "### input recebe tudo como TEXTO, assim mesmo que responda um número terá que mudar o tipo da variável para fazer contas.\n",
    "\n",
    "# -> str() muda para string/texto\n",
    "# -> int() muda para núm inteiro\n",
    "# -> float() muda para núm com decimais\n",
    "\n",
    "faturamento = int(input('Insira o valor do Faturamento:'))\n",
    "custo = int(input('Insira o valor do custo:'))\n",
    "lucro = faturamento - custo\n",
    "print(lucro)"
   ]
  },
  {
   "cell_type": "markdown",
   "id": "03a7b636",
   "metadata": {},
   "source": [
    "# Operações Básicas:"
   ]
  },
  {
   "cell_type": "code",
   "execution_count": null,
   "id": "20248456",
   "metadata": {},
   "outputs": [],
   "source": [
    "print(1 + 1) # Adição\n",
    "print(1 - 1) # Subtração\n",
    "print(2.2 * 1) # Multiplicação\n",
    "print(1 / 1) # Divisão\n",
    "print(1 ** 2) # Exponenciação\n",
    "print(7 % 3) #Resto da divisão, no exemplo, o resto de 7/3 é 1."
   ]
  },
  {
   "cell_type": "code",
   "execution_count": 1,
   "id": "8c1d382d",
   "metadata": {},
   "outputs": [
    {
     "name": "stdout",
     "output_type": "stream",
     "text": [
      "Meu nome é Pedro\n",
      "True\n"
     ]
    }
   ],
   "source": [
    "print('Meu nome é' + ' Pedro') # junta textos e conta espaços.\n",
    "print('Agulha' in 'Agulha a agulha perfurante') # Verifica se o primeiro termo está no segundo termo. (Termo exato!)"
   ]
  },
  {
   "cell_type": "markdown",
   "id": "fb379e92",
   "metadata": {},
   "source": [
    "# Imput"
   ]
  },
  {
   "cell_type": "code",
   "execution_count": 2,
   "id": "7ced8c57",
   "metadata": {},
   "outputs": [
    {
     "name": "stdout",
     "output_type": "stream",
     "text": [
      "Qual é o seu nome?Pedro\n",
      "Qual é o seu sobrenome?Sauthier\n",
      "Pedro\n",
      "Sauthier\n",
      "Pedro Sauthier\n"
     ]
    }
   ],
   "source": [
    "Nome = input('Qual é o seu nome? ')\n",
    "Sobrenome = input('Qual é o seu sobrenome? ')\n",
    "\n",
    "variável = variável.replace(\"algo\",\"por isso\")\n",
    "\n",
    "print(Nome)\n",
    "print(Sobrenome)\n",
    "print(Nome + ' ' + Sobrenome)"
   ]
  },
  {
   "cell_type": "markdown",
   "id": "215326ce",
   "metadata": {},
   "source": [
    "# If"
   ]
  },
  {
   "cell_type": "code",
   "execution_count": null,
   "id": "d17a13ef",
   "metadata": {},
   "outputs": [],
   "source": [
    "# COMPARADORES:\n",
    "Sinal de igual: ==\n",
    "Sinal de diferente: !=\n",
    "Sinal de maior: > / maior ou igual: >=\n",
    "Sinal de menor: < / menor ou igual: <=\n",
    "Sinal de in: existe um texto dentro de outro texto.\n",
    "Sinal de not: verifica o oposto da comparação.\n",
    "pass: não faz nada(na comparação)\n",
    "and / or: \n",
    "    if condição 1 and condição 2:\n",
    "        se ambas forem verdade executa.\n",
    "    if condição 1 or condição 2:\n",
    "        se uma for verdade.\n",
    "\n",
    "# COMANDOS:\n",
    "\n",
    "if condição 1:\n",
    "    Comandos se a 1° condição for verdade.\n",
    "elif Condição 2:\n",
    "    Aqui comandos caso a condição 1 seja falsa e essa segunda sim.\n",
    "    if condição 3:\n",
    "        Comandos se a condição 1 e 3 forem verdadeiras.\n",
    "    else:\n",
    "        Aqui comando condição 1 for verdadeira e a terceira não.\n",
    "else: \n",
    "    Aqui comandos caso nem a primeira condição for verdade.\n",
    "\n",
    "if vendas >  2 * meta:\n",
    "    bonus = 0.07 * vendas\n",
    "    print(f'O bônus é de {bonus}.')\n",
    "elif vendas > meta:\n",
    "    bonus = 0.03 * vendas\n",
    "    print(f'O bônus é de {bonus}.')\n",
    "else: \n",
    "    bonus = 0\n",
    "    print(f'O bônus é de {bonus}.')"
   ]
  },
  {
   "cell_type": "markdown",
   "id": "7d78de1f",
   "metadata": {},
   "source": [
    "# Strings:"
   ]
  },
  {
   "cell_type": "code",
   "execution_count": 9,
   "id": "02fb6ffc",
   "metadata": {},
   "outputs": [
    {
     "name": "stdout",
     "output_type": "stream",
     "text": [
      "ped\n",
      "pedro@gmail.\n",
      "ro@gmail.com\n",
      "com\n",
      "il.\n",
      "r\n",
      ".\n"
     ]
    }
   ],
   "source": [
    "texto = 'pedro@gmail.com'\n",
    "\n",
    "-15 -14 -13 -12 -11 -10 -9 -8 -7 -6 -5 -4 -3 -2 -1\n",
    "  p   e   d   r   o   @  g  m  a  i  l  .  c  o  m\n",
    "  0   1   2   3   4   5  6  7  8  9  10 11 12 13 14\n",
    "\n",
    "# COMANDOS:\n",
    "\n",
    "texto[índice] Acha o índice que fôr indicado.\n",
    "texto.capitalize() # Primeira palavra do texto tem seu primeiro caractere colocado em maiuscúlo.\n",
    "texto.casefold() Primeira palavra do texto tem seu primeiro caractere colocado em miniscúlo.\n",
    "texto.title() # Primeira letra de todas as palavras em maiuscúlo.\n",
    "texto.upper() Texto TODO em maiuscúlo.\n",
    "texto.count('o caractere')\n",
    "\n",
    "texto.startswith('BEB') # verifica se o inicio comtém o q vc deseja.\n",
    "texto.endswith('') Verifica se o final comtém o q vc deseja.\n",
    "texto.find('@') # RESULTA no indice que esse caractere representa.\n",
    "texto.split('@') Mostra uma lista com o que vem antes do caractere indicado e com o que vem depois dele.\n",
    "texto.splitlines() # Separa um texto em vários textos de acordo com os \"enters\" do texto\n",
    "texto.replace('.', ',')\n",
    "texto.strip() \n",
    "\n",
    "texto.isalnum() Verifica se todos os caracteres do texto são letras ou números, ou se não tem caracteres especiais, tipo: ./,#\n",
    "texto.isalpha()  Verifica se todos os caracteres do texto são letras\n",
    "texto.isnumeric() Verifica se todos os caracteres do texto são números\n",
    "\n",
    "len(texto) # calcula o número de variáveis.\n",
    "# PARTES de um texto:\n",
    "texto[:índice] # imprime ATÉ o indice indicado.\n",
    "texto[índice:] # imprite o DEPOIS do indice indicado\n",
    "texto[indice:indice] # imprime o que está ENTRE os indices indicados.\n",
    "print(texto[:3]) # não imprime o próprio indice.\n",
    "print(texto[:-3]) # não imprime o próprio indice.\n",
    "print(texto[3:]) # imprime o próprio indice.\n",
    "print(texto[-3:]) # imprime o próprio indice.\n",
    "print(texto[-6:-3]) # intervalos de indices negativos tem que ser postos do menor ao maior, assim como nos positivos.\n",
    "print(texto[3:4]) # em intervalo de 1, imprime o de menor valor como o 3:4 = 3 ou -6:-5 = -6."
   ]
  },
  {
   "cell_type": "markdown",
   "id": "a3f3859e",
   "metadata": {},
   "source": [
    "# Formatação:"
   ]
  },
  {
   "cell_type": "code",
   "execution_count": 4,
   "id": "ef33bcd5",
   "metadata": {},
   "outputs": [
    {
     "name": "stdout",
     "output_type": "stream",
     "text": [
      "Meu e-mail não é           pedro onaicnaoincãpo, show?\n"
     ]
    }
   ],
   "source": [
    ":<\t\tAlinha o texto à esquerda (se tiver espaço na tela para isso)\n",
    ":>\t\tAlinha o texto à direita (se tiver espaço na tela para isso)\n",
    ":^\t\tAlinha o texto ao centro (se tiver espaço na tela para isso)\n",
    ":+\t\tColoca o sinal sempre na frente do número (independente se é positivo ou negativo)\n",
    ":,\t\tColoca a vírgula como separador de milhar\n",
    ":_\t\tColoca o _ como separador de milhar\n",
    ":e\t\tFormato Científico\n",
    ":f\t\tNúmero com quantidade fixa de casas decimais\n",
    ":x\t\tFormato HEX minúscula (para cores)\n",
    ":X\t\tFormato HEX maiúscula (para cores)\n",
    ":%\t\tFormato Percentual\n",
    "    \n",
    "EXEMPLO: print('Meu e-mail não é {:<30}, show?'.format(email))\n",
    "    \n",
    "# COMANDOS:\n",
    "\n",
    "variável2 = round(variável, número de casas decimais.)\n",
    "'R${:_.2f}'.format(variável)"
   ]
  },
  {
   "cell_type": "markdown",
   "id": "60b89d2a",
   "metadata": {},
   "source": [
    "# Sobre listas:"
   ]
  },
  {
   "cell_type": "code",
   "execution_count": 5,
   "id": "80bf74cc",
   "metadata": {},
   "outputs": [
    {
     "name": "stdout",
     "output_type": "stream",
     "text": [
      "apple\n",
      "tv\n",
      "['apple', 'hq', 'hent :)']\n"
     ]
    }
   ],
   "source": [
    "mangá = 'superman'\n",
    "produtos = ['apple', 'tv', 'hq', mangá]\n",
    "print(produtos[0])\n",
    "indice = produtos.index('tv')\n",
    "print(produtos[indice])\n",
    "produtos.append('hent :)')\n",
    "item_removido = produtos.pop(3)\n",
    "produtos.remove('tv')\n",
    "print(produtos)\n",
    "len(lista) # Número de indices\n",
    "maior valor na lista = max(lista)\n",
    "menor valor na lista = min(lista)\n",
    "lista1.extend(lista2) # edita a lista ORIGINAL\n",
    "nova_lista = lista1 + lista2 # CRIA uma nova variável\n",
    "print('\\n'.join(produtos)) '\\n' = enter\n",
    "produtos = 'Mac, iphone, iphone x, tv'\n",
    "produtos.split(delimitador dentro do texto, exemplo: ', ')\n",
    "resultado: produtos = ['Mac', 'iphone', 'iphone x', 'tv']\n",
    "lista.count(valor)\n",
    "lista.sort(reverse=False)\n",
    "lista.reverse()\n",
    "lista.copy() / lista2 = lista1[:]\n",
    "lista.clear()\n",
    "lista.pop(posicao)\n",
    "lista.insert(posicao, valor)\n",
    "lista.remove(valor)\n",
    "break \n",
    "continue"
   ]
  },
  {
   "cell_type": "code",
   "execution_count": 12,
   "id": "7c423bf7",
   "metadata": {},
   "outputs": [
    {
     "name": "stdout",
     "output_type": "stream",
     "text": [
      "Mac\n",
      "iphone\n",
      "iphone x\n",
      "tv\n"
     ]
    },
    {
     "data": {
      "text/plain": [
       "1"
      ]
     },
     "execution_count": 12,
     "metadata": {},
     "output_type": "execute_result"
    }
   ],
   "source": [
    "produtos = ['Mac', 'iphone', 'iphone x', 'tv']\n",
    "print('\\n'.join(produtos))"
   ]
  },
  {
   "cell_type": "markdown",
   "id": "e8d6edfd",
   "metadata": {},
   "source": [
    "# Tuplas:"
   ]
  },
  {
   "cell_type": "code",
   "execution_count": 6,
   "id": "47efb717",
   "metadata": {},
   "outputs": [
    {
     "name": "stdout",
     "output_type": "stream",
     "text": [
      "valor\n"
     ]
    }
   ],
   "source": [
    "# Tuplas são imútaveis:\n",
    "\n",
    "Tupla = ('valor', 'valor', 3000, 300.6)\n",
    "Tupla[0] = 'algo' # Não funciona\n",
    "tupla = Tupla[0]\n",
    "print(tupla)"
   ]
  },
  {
   "cell_type": "markdown",
   "id": "01397813",
   "metadata": {},
   "source": [
    "# Dicionários:"
   ]
  },
  {
   "cell_type": "code",
   "execution_count": null,
   "id": "df21d442",
   "metadata": {},
   "outputs": [],
   "source": [
    "Dicionário = {}\n",
    "Dicionário[chave] = valor\n",
    "\n",
    "# Comandos:\n",
    "\n",
    "Dicionário.update(chave: valor, chave: valor)\n",
    "del Dicionário[chave]\n",
    "valor = Dicionário.pop('chave')\n",
    "Dicionário.clear() -> Deleta todos os elementos do Dicionário\n",
    "Dicionário.copy() -> Cria uma cópia do dicionário (semelhante ao que aprendemos em listas)\n",
    "chaves = ('jan', 'fev', 'mar')\n",
    "vendas = 100\n",
    "Dicionário = dict.fromkeys(chaves, vendas) -> Cria um dicionário com as chaves e o mesmo valor padrão para todas as chaves\n",
    "Dicionário.get(chave) # -> Retorna o valor especificado pela chave (Semelhante a fazer dicionário[chave])\n",
    "Dicionário.items() -> Retorna uma lista em que cada item é uma tupla com (chave, valor)\n",
    "Dicionário.keys() # -> Retorna uma lista com todas as chaves do dicionário\n",
    "Dicionário.values() -> Retorna uma lista com todos os valores do dicionários\n",
    "Dicionário.pop(chave) -> Retira o item do dicionário e retorna o valor dele para ser usado\n",
    "Dicionário.popitem() -> Retira o último item adicionado ao dicionário, e guarda seu valor.\n",
    "setdefault(chave, valor) # -> Retorna o valor da chave passada, mas caso a chave não exista, cria no dicionário o item com a chave e valor passados.\n",
    "Dicionário.update(dicionario) -> Adiciona o dicionário passado como parâmetro ao dicionário original"
   ]
  },
  {
   "cell_type": "markdown",
   "id": "02c56a1a",
   "metadata": {},
   "source": [
    "# For:"
   ]
  },
  {
   "cell_type": "code",
   "execution_count": null,
   "id": "814a1420",
   "metadata": {},
   "outputs": [],
   "source": [
    "for i in range():\n",
    "    usa o indice\n",
    "for item in lista:\n",
    "    usa cada item da lista\n",
    "for ch in texto:\n",
    "    usa cada caractere do texto\n",
    "for i, item in enumerate(lista):\n",
    "    pega ambos os dados.\n",
    "for i, ch in enumerate(texto):\n",
    "    print('O indice {} é do caractere {}.'.format(i, ch))"
   ]
  },
  {
   "cell_type": "markdown",
   "id": "d0c6d72d",
   "metadata": {},
   "source": [
    "# SQL FUNÇÃO DE BUSCA:"
   ]
  },
  {
   "cell_type": "code",
   "execution_count": 1,
   "id": "d4b9aa29",
   "metadata": {},
   "outputs": [],
   "source": [
    "def consultar(base, tabela='', *args, subquery='',allc=False, Describe=False, D=False, W='', WN='', GB=False, Count=False, AVG=False, INN=False, IN=False, OB='asc', diff='',diffSt='',diffEnd=''):\n",
    "    '''Paramêtros:\n",
    "       base: a Base de dados;\n",
    "       tabela: onde ficam as colunas ou dados que devem ser fitrados, na base;\n",
    "       *args: Colunas da tabela que devem ser selecionadas;\n",
    "       subquery: Transforma o dado tabela em Uma SUBQUERY passada;\n",
    "       allc: Padrão == False, caso == True, seleciona todas as colunas;\n",
    "       Describe: calcula as estatísticas da coluna passada, só pode passar 1;\n",
    "       D: DISTINCT, ativa o distinct;\n",
    "       W: WHERE, Condições que você quer passar as colunas;\n",
    "       WN: WHERE NOT, Condições Inversas;\n",
    "       GB: GROUP BY, se as duas colunas devem ou não ser mescladas, deve ser passado Count ou AVG;\n",
    "       Count: Se a operação do group by se de contagem;\n",
    "       AVG: Se a operação do group by se de média;\n",
    "       INN: IS NOT NULL, Mostra os valores NÃO nulos da PRIMEIRA coluna passada;\n",
    "       IN: IS NULL, Mostra os valores NULOS da PRIMEIRA coluna passada;\n",
    "       OB: ORDER BY, padrão Ascendente, desc = Descendente;\n",
    "       Diff: Caso queira passar um comando completo\n",
    "           diffSt: Tudo que você queira passar QUE VENHA ANTES do table/tabela;\n",
    "           diffEnd: Tudo que você queira passar QUE VENHA DEPOIS do dado tabela.'''\n",
    "    import sqlite3 as sql\n",
    "    import pandas as pd\n",
    "    import numpy as np\n",
    "    import os\n",
    "    pasta_db = os.getcwd()\n",
    "    con = sql.connect(f\"{base}\")\n",
    "    cur = con.cursor()\n",
    "    con.commit()\n",
    "    texto = ','.join(['[{}]' for _ in range(len(args))])\n",
    "    textos = [f\"{arg}\" for arg in args]\n",
    "    if subquery != '':\n",
    "        tabela = subquery\n",
    "    if tabela == '':\n",
    "        return base, con, cur, pasta_db, sql, pd, np\n",
    "    else:\n",
    "        if allc == True:\n",
    "            if D == True:\n",
    "                resultado = cur.execute('SELECT DISTINCT * FROM {}'.format(tabela)).fetchall()\n",
    "                data = pd.DataFrame(resultado)\n",
    "                data.columns = [i[0] for i in cur.description]\n",
    "                print(data.shape)\n",
    "                return data\n",
    "            elif W != '':\n",
    "                resultado = cur.execute('SELECT * FROM {} WHERE ({})'.format(tabela, W)).fetchall()\n",
    "                data = pd.DataFrame(resultado)\n",
    "                data.columns = [i[0] for i in cur.description]\n",
    "                print(data.shape)\n",
    "                return data\n",
    "            elif WN != '':\n",
    "                resultado = cur.execute('SELECT * FROM {} WHERE NOT ({})'.format(tabela, WN)).fetchall()\n",
    "                data = pd.DataFrame(resultado)\n",
    "                data.columns = [i[0] for i in cur.description]\n",
    "                print(data.shape)\n",
    "                return data\n",
    "            elif diff != '':\n",
    "                resultado_diff = cur.execute(f\"{diff}\").fetchall()\n",
    "                data = pd.DataFrame(resultado_diff)\n",
    "                data.columns = [i[0] for i in cur.description]\n",
    "                return data\n",
    "            elif diffSt != '':\n",
    "                resultado_diff = cur.execute(f\"{diffSt} {tabela} {diffEnd}\").fetchall()\n",
    "                data = pd.DataFrame(resultado_diff)\n",
    "                data_T = pd.DataFrame([resultado_diff], columns=[i[0] for i in cur.description])\n",
    "                data = data_T\n",
    "                data.columns = [i[0] for i in cur.description]\n",
    "                return data\n",
    "            else:\n",
    "                resultado = cur.execute('SELECT * FROM {}'.format(tabela)).fetchall()\n",
    "                data = pd.DataFrame(resultado)\n",
    "                data.columns = [i[0] for i in cur.description] \n",
    "                print(data.shape)\n",
    "                return data\n",
    "        elif allc == False:\n",
    "            if D == True:\n",
    "                resultado = cur.execute(f\"SELECT DISTINCT\" + texto.format(*textos) + f\" FROM {tabela}\").fetchall()\n",
    "                data = pd.DataFrame(resultado)\n",
    "                data.columns = [i[0] for i in cur.description]\n",
    "                print(data.shape)\n",
    "                return data\n",
    "            elif diff != '':\n",
    "                resultado_diff = cur.execute(f\"{diff}\").fetchall()\n",
    "                data = pd.DataFrame(resultado_diff)\n",
    "                data.columns = [i[0] for i in cur.description]\n",
    "                return data\n",
    "            elif INN == True:\n",
    "                resultado = cur.execute(f\"SELECT \" + texto.format(*textos) + f\" FROM {tabela} WHERE {textos[0]} IS NOT NULL\").fetchall()\n",
    "                data = pd.DataFrame(resultado)\n",
    "                data.columns = [i[0] for i in cur.description]\n",
    "                print(data.shape)\n",
    "                return data\n",
    "            elif IN == True:\n",
    "                resultado = cur.execute(f\"SELECT \" + texto.format(*textos) + f\" FROM {tabela} WHERE {textos[0]} IS NULL\").fetchall()\n",
    "                data = pd.DataFrame(resultado)\n",
    "                data.columns = [i[0] for i in cur.description]\n",
    "                print(data.shape)\n",
    "                return data\n",
    "            elif GB == True:\n",
    "                if Count == True:\n",
    "                    resultado = cur.execute(f\"SELECT [{textos[0]}], COUNT({textos[1]}) as Contagem\" + f\" FROM {tabela} GROUP BY([{textos[0]}]) ORDER BY COUNT({textos[1]}) {OB}\").fetchall()\n",
    "                    data = pd.DataFrame(resultado)\n",
    "                    data.columns = [i[0] for i in cur.description]\n",
    "                    print(data.shape)\n",
    "                    return data\n",
    "                elif AVG == True:\n",
    "                    resultado = cur.execute(f\"SELECT [{textos[0]}], AVG({textos[1]}) as Média\" + f\" FROM {tabela} GROUP BY([{textos[0]}]) ORDER BY AVG({textos[1]}) {OB}\").fetchall()\n",
    "                    data = pd.DataFrame(resultado)\n",
    "                    data.columns = [i[0] for i in cur.description]\n",
    "                    print(data.shape)\n",
    "                    return data\n",
    "            elif Describe == True:\n",
    "                resultado = cur.execute(f\"SELECT MIN(\" + texto.format(*textos) + f\") as Mínimo, MAX(\" + texto.format(*textos) + f\") as Máximo, AVG(\" + texto.format(*textos) + f\") as Média FROM {tabela}\").fetchall()\n",
    "                data = pd.DataFrame(resultado)\n",
    "                data.columns = [i[0] for i in cur.description]\n",
    "                print(data.shape)\n",
    "                return data\n",
    "            elif W != '':\n",
    "                resultado = cur.execute(f\"SELECT \" + texto.format(*textos) + f\" FROM {tabela} WHERE ({W})\").fetchall()\n",
    "                data = pd.DataFrame(resultado)\n",
    "                data.columns = [i[0] for i in cur.description]\n",
    "                print(data.shape)\n",
    "                return data\n",
    "            elif WN != '':\n",
    "                resultado = cur.execute(f\"SELECT \" + texto.format(*textos) + f\" FROM {tabela} WHERE NOT ({WN})\").fetchall()\n",
    "                data = pd.DataFrame(resultado)\n",
    "                data.columns = [i[0] for i in cur.description]\n",
    "                print(data.shape)\n",
    "                return data\n",
    "            elif diffSt != '':\n",
    "                resultado_diff = cur.execute(f\"{diffSt} {tabela} {diffEnd}\").fetchall()\n",
    "                data = pd.DataFrame(resultado_diff)\n",
    "                data.columns = [i[0] for i in cur.description]\n",
    "                return data\n",
    "            else:\n",
    "                resultado = cur.execute(f\"SELECT \" + texto.format(*textos) + f\" FROM {tabela}\").fetchall()\n",
    "                data = pd.DataFrame(resultado)\n",
    "                data.columns = [i[0] for i in cur.description]\n",
    "                return data"
   ]
  },
  {
   "cell_type": "markdown",
   "id": "c5e51034",
   "metadata": {},
   "source": [
    "# Functions:"
   ]
  },
  {
   "cell_type": "code",
   "execution_count": 15,
   "id": "cc6f5746",
   "metadata": {},
   "outputs": [
    {
     "ename": "IndentationError",
     "evalue": "expected an indented block (3149429508.py, line 66)",
     "output_type": "error",
     "traceback": [
      "\u001b[1;36m  File \u001b[1;32m\"C:\\Users\\phsau\\AppData\\Local\\Temp\\ipykernel_9836\\3149429508.py\"\u001b[1;36m, line \u001b[1;32m66\u001b[0m\n\u001b[1;33m    except:\u001b[0m\n\u001b[1;37m    ^\u001b[0m\n\u001b[1;31mIndentationError\u001b[0m\u001b[1;31m:\u001b[0m expected an indented block\n"
     ]
    }
   ],
   "source": [
    "vendas = {'VE0001': (9868,'Concluído',''), 'VE0005': (18752,'Cancelado','Estoque em Falta')}\n",
    "def stockout(lista):\n",
    "    perdidos = 0\n",
    "    concluidos = 0\n",
    "    for item in lista:\n",
    "        if vendas[item][1] == 'Concluído':\n",
    "            concluidos += vendas[item][0]\n",
    "        elif vendas[item][1] == 'Cancelado' and vendas[item][2] == 'Estoque em Falta':\n",
    "            perdidos += vendas[item][0]\n",
    "    perc_stockout = perdidos / (perdidos + concluidos)\n",
    "    return perc_stockout\n",
    "print(stockout(vendas))\n",
    "\n",
    "# --------------------------------- #\n",
    "\n",
    "clientes_devedores = [('462.286.561-65',14405,24),('251.569.170-81',16027,1)]\n",
    "def inadiplência(lista):\n",
    "    inadp = []\n",
    "    for item in lista:\n",
    "        if item[1] >= 1000 and item[2] >= 20:\n",
    "            inadp.append(item[0])\n",
    "    return inadp\n",
    "print(inadiplência(clientes_devedores))\n",
    "\n",
    "# --------------------------------- #\n",
    "\n",
    "meta = 10000\n",
    "vendas = {'João': 15000, 'Julia': 27000, 'Marcus': 9900,}\n",
    "def meta_percent(dicio, meta):\n",
    "    vend_meta = []\n",
    "    for chave in dicio:\n",
    "        if dicio[chave] > meta:\n",
    "            vend_meta.append(chave)\n",
    "    percentual = len(vend_meta) / len(dicio)\n",
    "    return (vend_meta, percentual)\n",
    "print('Os vendedores que bateram a meta foram {}, e eles correspondem a {:.1%} porcento do total.'.format(meta_percent(vendas, meta)[0],meta_percent(vendas, meta)[1]))\n",
    "\n",
    "# --------------------------------- #\n",
    "\n",
    "precos_imoveis = [2.17,1.54,1.45,1.94,2.37,2.3,1.79,1.8,2.25,1.37,2.4,1.72,2,1.69,1.63,2.01,2.25,1.61,1.02,1.19,1.86,2.15,2.03,1.61,1.52,1.56,1.69,1.47,1.09,2.47,1.62,2.15,1.81,2.49,2.08,1.02,1.68,1.53,1.2,1.29,1.88,1.92,2.14,1.95,2.48,2.44,1.41,1.98,1.89,1.69,1.95,1.42,1.57,2.32,1.23,1.43,1.35,1.49,2.39,2.37,1.3,2.25,1.5,1.35,2.06,1.05,1.7,2.29,2.44,2.09,1.81,2.04,2.45,1.42,2.09,2.19,2.09,1,2.23,1.39,2,1.29,1.55,1.67,2.06,1.89,2.07,2.39,1.93,1.51,1.73,1.66,1.18,1.13,1.69,2.48,1.26,1.75, 1.51, 1.73]\n",
    "tamanho_imoveis = [207,148,130,203,257,228,160,194,232,147,222,165,184,175,147,217,214,171,86,111,180,211,210,168,156,154,179,163,99,246,162,205,195,263,198,121,149,140,122,119,197,210,218,202,258,256,135,203,173,152,197,145,154,252,141,141,151,133,232,229,134,215,155,138,186,120,152,213,256,219,200,210,238,140,224,233,222,120,233,151,185,111,149,186,194,194,222,223,185,157,154,164,129,128,169,240,136,191, 157, 154]\n",
    "def separador(lista_precos: 'Lista de valores (float)', lista_tamanho: 'Lista de valores (float)', fator = 0.2) -> '4 listas':\n",
    "    '''separador é uma função que retorna pronto os dados para treinar uma AI\n",
    "    \n",
    "       Paramêtros:\n",
    "       lista_precos = lista com os valores de cada imóvel.\n",
    "       lista_tamamho = lista com o tamanho de cada imóvel.\n",
    "       fator = porcentagem de quanto deve ser separado dor dados de cada lista para treino, valor padrão = 0.2\n",
    "       \n",
    "       return = preco_treino, preco_teste, tamanho_treino, tamanho_teste'''\n",
    "    qtde_valores = len(lista_precos)\n",
    "    if qtde_valores == len(lista_tamanho):\n",
    "        i = int((1 - fator) * len(lista_precos))\n",
    "        preco_treino = lista_precos[:i]\n",
    "        preco_teste = lista_precos[i:]\n",
    "        tamanho_treino = lista_tamanho[:i]\n",
    "        tamanho_teste = lista_tamanho[i:]\n",
    "        return preco_treino, preco_teste, tamanho_treino, tamanho_teste\n",
    "    else:\n",
    "        print('Listas de tamanhos diferentes, favor corriga!')\n",
    "        return \n",
    "x_treino, x_teste, y_treino, y_teste = separador(precos_imoveis, tamanho_imoveis, fator = 0.3)\n",
    "\n",
    "# --------------------------------- #\n",
    "\n",
    "def envio_email_gmail(destinatario, assunto, conteúdo):\n",
    "    pa.hotkey('ctrl', 't')\n",
    "    pa.write('https://mail.google.com/mail/u/0/#inbox')\n",
    "    pa.press('ENTER')\n",
    "    time.sleep(6)\n",
    "    pa.click(x=128, y=253)\n",
    "    time.sleep(2)\n",
    "    pa.write(destinatario)\n",
    "    pa.press('tab')\n",
    "    pa.press('tab')\n",
    "    pa.write(assunto)\n",
    "    pa.press('tab')\n",
    "    pa.write(conteúdo)\n",
    "    time.sleep(2)\n",
    "    pa.press('tab')\n",
    "    pa.press('enter')\n",
    "\n",
    "try:\n",
    "except:\n",
    "else:\n",
    "finally:\n",
    "raise ZeroDivisionError\n",
    "raise IndexError ou KeyError # Quando tentamos pegar um índice que não existe\n",
    "raise TypeError ou AttributeError # Quando tentamos atribuir um parâmetro para uma função que não tem parâmetros\n",
    "raise ImportError ou ModuleNotFoundError # Quando tentamos importar um módulo não instalado no nosso computador\n",
    "raise NameError # Quando tentamos usar uma variável que não existe\n",
    "raise SyntaxError # Quando fizemos algum erro de escrita no código\n",
    "raise IndentationError ou TabError # Quando damos mais ou menos vezes Tab do que deveria em alguma linha\n",
    "raise TypeError # Quando tentamos fazer uma operação com um tipo de variável que não pode ser feito nela\n",
    "raise UnicodeError # Quando o programa não conseguiu usar o método de encoding correto. \n",
    "Normalmente isso sinaliza a existência de algum caractere especial como ~, ç\n",
    "raise ValueError # Quando passamos um valor que não pode ser passado"
   ]
  },
  {
   "cell_type": "markdown",
   "id": "19563e49",
   "metadata": {},
   "source": [
    "# Módulo Time:"
   ]
  },
  {
   "cell_type": "code",
   "execution_count": null,
   "id": "774c7441",
   "metadata": {},
   "outputs": [],
   "source": [
    "import time\n",
    "segundos_hoje = time.time() # time() retorna quantos segundos se passaram desde a EPOCH\n",
    "\n",
    "data_hoje = time.ctime() # desde modo e nessa ordem -> Fri Feb  3 19:13:05 2023\n",
    "Um uso útil:\n",
    "    tempo_inicial = time_ctime()\n",
    "    código que vc quer descobrir quanto tempo leva pra ser realizado\n",
    "    tempo_final = time_ctime()\n",
    "    duracao = tempo_final - tempo_inicial\n",
    "time.sleep()\n",
    "\n",
    "data_atual = time.gmtime()\n",
    "gmtime().parâmetro\n",
    "ano = data_atual.tm_year\n",
    "mes = data_atual.tm_mon\n",
    "dia = data_atual.tm_mday\n",
    "hora = data_atual.tm_hour\n",
    "dia_da_semana = data_atual.tm_wday"
   ]
  },
  {
   "cell_type": "markdown",
   "id": "3af71158",
   "metadata": {},
   "source": [
    "# Tabelas:"
   ]
  },
  {
   "cell_type": "code",
   "execution_count": null,
   "id": "1fa90e96",
   "metadata": {},
   "outputs": [],
   "source": [
    "import pandas as pd\n",
    "import requests\n",
    "import io \n",
    "\n",
    "encoding='latin1', encoding='ISO-8859-1', encoding='utf-8' ou então encoding='cp1252' \n",
    "# encoding para passar como parametro no .read\n",
    "\n",
    "# axis = 1 Coluna / axis = 0 Linha\n",
    "\n",
    "pd.read_\n",
    "variável_df.head() # 5 primeiros \n",
    "variável_df.tail() # últimos\n",
    "dataframe.isnull().sum()\n",
    "(dataframe.count() # Conta o que tem nas colunas\n",
    "dataframe.mean() # calcula a média de cada coluna\n",
    "dataframe.median() # calcula a mediana\n",
    "dataframe.std() # calcula o Desvio Padrão):\n",
    " dataframe.describe()\n",
    "variável_df = variável_df.merge(outra_df, on='Coluna QUE TEM EM AMBAS DATAFRAMES COM O MESMO NOME')\n",
    "variável_df = variável.drop([Coluna/Linha], axis=1) \n",
    "variável_df.info()\n",
    "variável_df.plot() # tabela\n",
    "nova_df = variável_df.groupby['Coluna']# .sum(), .max(), .mean(), .idxmax(), .idxmin(), .min()...\n",
    "nova_df = nova_df.sort_values('Coluna')\n",
    "nova_df = variável_df['Coluna desejada'].value_counts()\n",
    "variável_df[\"Coluna/Linha\"] = pd.to_numeric(variável_df[\"Coluna/Linha\"], errors=\"coerce/raise/ignore\")\n",
    "variável_df = variável_df.dropna(how='all/any', axis=1/0)\n",
    "display(variável_df['Coluna/Linha'].value_counts(normalize=True).map('{:.1%}'.format)) \n",
    "# (normalize=True) exibe informação em porcentagem. .map('{:.1%}'.format) formata.\n",
    "tabela.loc[tabela[Coluna/Linha] == \"Dado 1\",\"Dado 2\"] = float(variável)\n",
    "df.corr() # CORRELAÇÃO de dados.\n",
    "variável_df['Data da Venda'] = pd.to_datetime(variável_df['Data da Venda'], format = '%d/%m/%Y')\n",
    "variável_df['Ano da compra'] = variável_df['Data da Venda'].dt.year\n",
    "variável_df['Mês da compra'] = variável_df['Data da Venda'].dt.month\n",
    "variável_df['Dia da compra'] = variável_df['Data da Venda'].dt.day\n",
    "dataframe['Coluna'].str.contains('Algo')\n",
    "dataframe.fillna('algo')"
   ]
  },
  {
   "cell_type": "markdown",
   "id": "98a081a2",
   "metadata": {},
   "source": [
    "# Gráficos:"
   ]
  },
  {
   "cell_type": "code",
   "execution_count": null,
   "id": "d1144c0a",
   "metadata": {},
   "outputs": [],
   "source": [
    "import plotly.express as px\n",
    "import seaborn as sns\n",
    "import matplotlib.pyplot as plt\n",
    "\n",
    "import matplotlib\n",
    "matplotlib.use('TkAgg')\n",
    "\n",
    "# COMANDOS:\n",
    "# LINHA DO PERCEPtron:\n",
    "a = Per.coef_[0][0]\n",
    "b = Per.coef_[0][1]\n",
    "c = Per.intercept_\n",
    "X = np.arange(1,6)\n",
    "Y = (-a*X - c)/b\n",
    "ax.plot(X,Y)\n",
    "\n",
    "for dados in uma_tabela:\n",
    "    if dados != \"Coluna/Linha\":\n",
    "        fig = px.histogram(tabela, x=dados, color=\"Dado em comparação\")\n",
    "        fig.show()\n",
    "        variável.pivot_table(index='Coluna/Linha', columns=dados, aggfunc=\"count\",)[\"Coluna para por fora\"]\n",
    "        \n",
    "gridspec_kw={'width_ratios':[3,1]} / gridspec_kw={'height_ratios':[3,1]} / ncols=2, nrows=1\n",
    "sns.heatmap(dados, cmap=\"Greens\", annot=True) # annot = anotações\n",
    "ax.tick_params('eixo', labelrotation=45)\n",
    "# tipos usados:\n",
    "plt.plot(lista(x), lista(y))\n",
    "plt.scatter()\n",
    "plt.bar()\n",
    "# algumas modificações:\n",
    "plt.xlabel('Vendas/Exemplo')\n",
    "plt.ylabel('Meses/Exemplo também')\n",
    "plt.axis([x_min, x_máx, y_min, y_máx])\n",
    "plt.show()\n",
    "# configuração de espaço\n",
    "plt.figure(1, figsize=(15, 3))\n",
    "plt.subplot(1, 3, 1)\n",
    "um gráfico\n",
    "plt.subplot(1, 3, 2)\n",
    "outro grafico\n",
    "plt.subplot(1, 3, 3)\n",
    "outro gráfico\n",
    "plt.show()"
   ]
  },
  {
   "cell_type": "markdown",
   "id": "beddb861",
   "metadata": {},
   "source": [
    "# Numpy:"
   ]
  },
  {
   "cell_type": "code",
   "execution_count": 33,
   "id": "87a61ffa",
   "metadata": {},
   "outputs": [
    {
     "data": {
      "text/plain": [
       "array([[[ 0,  1,  2,  3,  4],\n",
       "        [ 5,  6,  7,  8,  9],\n",
       "        [10, 11, 12, 13, 14],\n",
       "        [15, 16, 17, 18, 19],\n",
       "        [20, 21, 22, 23, 24]],\n",
       "\n",
       "       [[25, 26, 27, 28, 29],\n",
       "        [30, 31, 32, 33, 34],\n",
       "        [35, 36, 37, 38, 39],\n",
       "        [40, 41, 42, 43, 44],\n",
       "        [45, 46, 47, 48, 49]]])"
      ]
     },
     "execution_count": 33,
     "metadata": {},
     "output_type": "execute_result"
    }
   ],
   "source": [
    "import numpy as np\n",
    "\n",
    "np.random.randint(Valor min(inclusive), Valor máx(excluido), números a serem gerados)\n",
    "np.arange(1, 51, quanto pular).reshape(linha, coluna)\n",
    "nps = np.array([[1, 2, 3, 1,2,3,4]])\n",
    "nps*nps\n",
    "array.ndim()\n",
    "array.shape()\n",
    "array.dtype()\n",
    "np.zeros(9).reshape()\n",
    "np.linspace(inicial, final, qtde.de numeros) # espaça a qtde de números indo do inicial ao final.\n",
    "nps = np.arange(0,50).reshape(2,5,5)\n",
    "nps\n",
    "ass = np.arange(1,16).reshape(3,5)\n",
    "ass[(ass>5) &(and) |(or) (ass<11)]\n",
    "nps.sum/.cumsum/.mean/.max/.min(axis = 1(linha) / 0(coluna))\n",
    "np.median(array)"
   ]
  },
  {
   "cell_type": "markdown",
   "id": "80973cc9",
   "metadata": {},
   "source": [
    "# Automação física:"
   ]
  },
  {
   "cell_type": "code",
   "execution_count": null,
   "id": "7a18777b",
   "metadata": {},
   "outputs": [],
   "source": [
    "import pyautogui as pa\n",
    "import pyperclip as pe\n",
    "\n",
    "# COMANDOS:\n",
    "pa.PAUSE =\n",
    "pa.alert\n",
    "pa.hotkey\n",
    "pe.copy\n",
    "pa.press\n",
    "pa.click(POSIÇÃO, clicks = , button = 'left/right')\n",
    "pa.write\n",
    "pa.position()"
   ]
  },
  {
   "cell_type": "markdown",
   "id": "38a5755c",
   "metadata": {},
   "source": [
    "# Automação Web:"
   ]
  },
  {
   "cell_type": "code",
   "execution_count": null,
   "id": "5ef36600",
   "metadata": {},
   "outputs": [],
   "source": [
    "from selenium import webdriver\n",
    "from selenium.webdriver.common.keys import Keys\n",
    "from selenium.webdriver.common.by import By\n",
    "\n",
    "# COMANDOS:\n",
    "\n",
    "nav = webdriver.Chrome()\n",
    "nav.get('link').send_keys('')/.send_keys(Keys.ENTER)\n",
    "nav.find_element('xpath','xpath(ctrl + u').get_attribute(\"tá no xpath\")\n",
    "nav.click('xpath','xpath(ctrl + u')\n",
    "nav.quit()\n",
    "nav.save_screenshot('Piada1.png')\n"
   ]
  },
  {
   "cell_type": "markdown",
   "id": "8c28279e",
   "metadata": {},
   "source": [
    "# AI"
   ]
  },
  {
   "cell_type": "code",
   "execution_count": 1,
   "id": "5bc6a0bc",
   "metadata": {},
   "outputs": [
    {
     "ename": "NameError",
     "evalue": "name 'variável' is not defined",
     "output_type": "error",
     "traceback": [
      "\u001b[1;31m---------------------------------------------------------------------------\u001b[0m",
      "\u001b[1;31mNameError\u001b[0m                                 Traceback (most recent call last)",
      "\u001b[1;32m~\\AppData\\Local\\Temp\\ipykernel_8904\\2721433927.py\u001b[0m in \u001b[0;36m<module>\u001b[1;34m\u001b[0m\n\u001b[0;32m     11\u001b[0m \u001b[1;31m# COMANDOS:\u001b[0m\u001b[1;33m\u001b[0m\u001b[1;33m\u001b[0m\u001b[0m\n\u001b[0;32m     12\u001b[0m \u001b[1;33m\u001b[0m\u001b[0m\n\u001b[1;32m---> 13\u001b[1;33m \u001b[0mx\u001b[0m \u001b[1;33m=\u001b[0m \u001b[0mvariável\u001b[0m\u001b[1;33m/\u001b[0m\u001b[0mtabela\u001b[0m\u001b[1;33m.\u001b[0m\u001b[0mdrop\u001b[0m\u001b[1;33m(\u001b[0m\u001b[1;34m\"Dados de resultado\"\u001b[0m\u001b[1;33m,\u001b[0m \u001b[0maxis\u001b[0m\u001b[1;33m=\u001b[0m\u001b[1;36m1\u001b[0m\u001b[1;33m)\u001b[0m \u001b[1;31m# Tudo menos os RESULTADOS\u001b[0m\u001b[1;33m\u001b[0m\u001b[1;33m\u001b[0m\u001b[0m\n\u001b[0m\u001b[0;32m     14\u001b[0m \u001b[0my\u001b[0m \u001b[1;33m=\u001b[0m \u001b[0mvariável\u001b[0m\u001b[1;33m/\u001b[0m\u001b[0mtabela\u001b[0m\u001b[1;33m[\u001b[0m\u001b[1;34m\"Resultados\"\u001b[0m\u001b[1;33m]\u001b[0m \u001b[1;31m# Os RESULTADOS\u001b[0m\u001b[1;33m\u001b[0m\u001b[1;33m\u001b[0m\u001b[0m\n\u001b[0;32m     15\u001b[0m \u001b[0mx_train\u001b[0m\u001b[1;33m,\u001b[0m \u001b[0mx_train\u001b[0m\u001b[1;33m,\u001b[0m \u001b[0my_train\u001b[0m\u001b[1;33m,\u001b[0m \u001b[0my_train\u001b[0m \u001b[1;33m=\u001b[0m \u001b[0mtrain_test_split\u001b[0m\u001b[1;33m(\u001b[0m\u001b[0mX\u001b[0m\u001b[1;33m,\u001b[0m\u001b[0my\u001b[0m\u001b[1;33m,\u001b[0m \u001b[0mtest_size\u001b[0m \u001b[1;33m=\u001b[0m \u001b[1;36m0.3\u001b[0m\u001b[1;33m,\u001b[0m \u001b[0mrandom_state\u001b[0m\u001b[1;33m=\u001b[0m\u001b[1;36m1\u001b[0m\u001b[1;33m)\u001b[0m\u001b[1;33m\u001b[0m\u001b[1;33m\u001b[0m\u001b[0m\n",
      "\u001b[1;31mNameError\u001b[0m: name 'variável' is not defined"
     ]
    }
   ],
   "source": [
    "from sklearn.ensemble import RandomForestRegressor\n",
    "from sklearn.linear_model import LinearRegression\n",
    "from sklearn.metrics import confusion_matrix\n",
    "from sklearn.metrics import accuracy_score\n",
    "from sklearn.metrics import precision_score\n",
    "from sklearn.metrics import recall_score\n",
    "from sklearn import metrics\n",
    "import numpy as np\n",
    "\n",
    "# COMANDOS:\n",
    "\n",
    "x = variável/tabela.drop(\"Dados de resultado\", axis=1) # Tudo menos os RESULTADOS\n",
    "y = variável/tabela[\"Resultados\"] # Os RESULTADOS\n",
    "from sklearn.model_selection import train_test_split\n",
    "x_train, x_test, y_train, y_test = train_test_split(x,y, test_size = 0.3, random_state=1)\n",
    "y_true = base.Situacao\n",
    "y_pred = base.Predict\n",
    "\n",
    "confusion_matrix(y_true, y_pred,labels=[0, 1])\n",
    "accuracy_score(y_true, y_pred)\n",
    "precision_score(y_true, y_pred, pos_label=(1)) # Vê a precisão vertical\n",
    "recall_score(y_true, y_pred,pos_label=(0)) # Vê a precisão Horizontal\n",
    "\n",
    "modelo.intercept_  # Mostra o coeficiente linear\n",
    "modelo.coef_  # Mostra o coeficiente Angular\n",
    "\n",
    "Linear = LinearRegression()\n",
    "Linear.fit(x_treino, y_treino)\n",
    "Predição_Linear = Linear.predict(x_teste)\n",
    "r2_Linear = metrics.r2_score(y_teste, Predição_Linear)\n",
    "print(r2_Linear)\n",
    "\n",
    "Arvore = RandomForestRegressor()\n",
    "Arvore.fit(x_treino, y_treino)\n",
    "Predição_Arvore = Arvore.predict(x_teste)\n",
    "r2_Arvore = metrics.r2_score(y_teste, Predição_Arvore)\n",
    "print(r2_Arvore)\n",
    "\n",
    "Predict = Arvore.predict(Dados)\n",
    "Predict = Linear.predict(Dados)"
   ]
  },
  {
   "cell_type": "code",
   "execution_count": null,
   "id": "161e8a43",
   "metadata": {},
   "outputs": [],
   "source": []
  }
 ],
 "metadata": {
  "kernelspec": {
   "display_name": "Python 3 (ipykernel)",
   "language": "python",
   "name": "python3"
  },
  "language_info": {
   "codemirror_mode": {
    "name": "ipython",
    "version": 3
   },
   "file_extension": ".py",
   "mimetype": "text/x-python",
   "name": "python",
   "nbconvert_exporter": "python",
   "pygments_lexer": "ipython3",
   "version": "3.9.13"
  }
 },
 "nbformat": 4,
 "nbformat_minor": 5
}
