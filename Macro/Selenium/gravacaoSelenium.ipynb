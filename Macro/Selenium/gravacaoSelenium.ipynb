{
 "cells": [
  {
   "cell_type": "code",
   "execution_count": 4,
   "metadata": {},
   "outputs": [
    {
     "name": "stdout",
     "output_type": "stream",
     "text": [
      "Script injetado. Realize ações no navegador e pressione ESC para finalizar.\n",
      "Ações registradas salvas em 'actions.json'\n"
     ]
    }
   ],
   "source": [
    "from selenium import webdriver\n",
    "from selenium.webdriver.common.by import By\n",
    "import json\n",
    "\n",
    "# Inicializa o driver\n",
    "driver = webdriver.Chrome()\n",
    "driver.get(\"https://sa.sinnc.app/conims/5/IDSSaude.dll\")\n",
    "\n",
    "# Injetar o script de monitoramento\n",
    "script = \"\"\"\n",
    "(function() {\n",
    "    window.actions = [];\n",
    "\n",
    "    document.addEventListener('click', function(event) {\n",
    "        let path = event.composedPath();\n",
    "        let element = path[0];\n",
    "        let selector = element.tagName.toLowerCase();\n",
    "\n",
    "        if (element.id) {\n",
    "            selector += `#${element.id}`;\n",
    "        } else if (element.className) {\n",
    "            selector += `.${element.className.split(' ').join('.')}`;\n",
    "        }\n",
    "\n",
    "        window.actions.push({\n",
    "            type: 'click',\n",
    "            selector: selector,\n",
    "            timestamp: Date.now()\n",
    "        });\n",
    "    });\n",
    "\n",
    "    document.addEventListener('input', function(event) {\n",
    "        let path = event.composedPath();\n",
    "        let element = path[0];\n",
    "        let selector = element.tagName.toLowerCase();\n",
    "\n",
    "        if (element.id) {\n",
    "            selector += `#${element.id}`;\n",
    "        } else if (element.className) {\n",
    "            selector += `.${element.className.split(' ').join('.')}`;\n",
    "        }\n",
    "\n",
    "        window.actions.push({\n",
    "            type: 'input',\n",
    "            selector: selector,\n",
    "            value: element.value,\n",
    "            timestamp: Date.now()\n",
    "        });\n",
    "    });\n",
    "\n",
    "    document.addEventListener('keydown', function(event) {\n",
    "        if (event.key === 'Escape') {\n",
    "            // Retorna as ações gravadas para o Python\n",
    "            return JSON.stringify(window.actions);\n",
    "        }\n",
    "    });\n",
    "})();\n",
    "\"\"\"\n",
    "driver.execute_script(script)\n",
    "\n",
    "print(\"Script injetado. Realize ações no navegador e pressione ESC para finalizar.\")\n",
    "\n",
    "# Aguardar até que ESC seja pressionado\n",
    "input(\"Pressione Enter após pressionar ESC no navegador para finalizar...\")\n",
    "\n",
    "# Recuperar as ações registradas\n",
    "actions = driver.execute_script(\"return JSON.stringify(window.actions);\")\n",
    "\n",
    "# Salvar no arquivo JSON\n",
    "with open(\"actions.json\", \"w\") as file:\n",
    "    file.write(actions)\n",
    "\n",
    "print(\"Ações registradas salvas em 'actions.json'\")\n"
   ]
  }
 ],
 "metadata": {
  "kernelspec": {
   "display_name": "Python 3",
   "language": "python",
   "name": "python3"
  },
  "language_info": {
   "codemirror_mode": {
    "name": "ipython",
    "version": 3
   },
   "file_extension": ".py",
   "mimetype": "text/x-python",
   "name": "python",
   "nbconvert_exporter": "python",
   "pygments_lexer": "ipython3",
   "version": "3.11.9"
  }
 },
 "nbformat": 4,
 "nbformat_minor": 2
}
