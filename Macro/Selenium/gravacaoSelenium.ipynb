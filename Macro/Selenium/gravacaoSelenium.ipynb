{
 "cells": [
  {
   "cell_type": "code",
   "execution_count": 2,
   "metadata": {},
   "outputs": [
    {
     "name": "stdout",
     "output_type": "stream",
     "text": [
      "O script foi injetado. Realize ações no navegador e pressione ESC para finalizar.\n"
     ]
    }
   ],
   "source": [
    "from selenium import webdriver\n",
    "from selenium.webdriver.common.by import By\n",
    "import json\n",
    "\n",
    "# Inicializa o driver\n",
    "driver = webdriver.Chrome()\n",
    "driver.get(\"https://sa.sinnc.app/conims/5/IDSSaude.dll\")\n",
    "\n",
    "# Injetar o script de monitoramento\n",
    "script = open(\"capture_events.js\", \"r\").read()\n",
    "driver.execute_script(script)\n",
    "\n",
    "print(\"O script foi injetado. Realize ações no navegador e pressione ESC para finalizar.\")\n"
   ]
  }
 ],
 "metadata": {
  "kernelspec": {
   "display_name": "Python 3",
   "language": "python",
   "name": "python3"
  },
  "language_info": {
   "codemirror_mode": {
    "name": "ipython",
    "version": 3
   },
   "file_extension": ".py",
   "mimetype": "text/x-python",
   "name": "python",
   "nbconvert_exporter": "python",
   "pygments_lexer": "ipython3",
   "version": "3.11.9"
  }
 },
 "nbformat": 4,
 "nbformat_minor": 2
}
