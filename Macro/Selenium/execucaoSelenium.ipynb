{
 "cells": [
  {
   "cell_type": "code",
   "execution_count": null,
   "metadata": {},
   "outputs": [
    {
     "name": "stdout",
     "output_type": "stream",
     "text": [
      "Executando ação: {'type': 'click', 'selector': 'input#O53_id-inputEl', 'timestamp': 1735044207255}\n",
      "Executando ação: {'type': 'input', 'selector': 'input#O53_id-inputEl', 'value': 's', 'timestamp': 1735044208547}\n",
      "Executando ação: {'type': 'input', 'selector': 'input#O53_id-inputEl', 'value': 'si', 'timestamp': 1735044208766}\n",
      "Executando ação: {'type': 'input', 'selector': 'input#O53_id-inputEl', 'value': 'sin', 'timestamp': 1735044209041}\n",
      "Executando ação: {'type': 'input', 'selector': 'input#O53_id-inputEl', 'value': 'sinn', 'timestamp': 1735044209248}\n",
      "Executando ação: {'type': 'input', 'selector': 'input#O53_id-inputEl', 'value': 'sinnc', 'timestamp': 1735044209352}\n",
      "Executando ação: {'type': 'input', 'selector': 'input#O53_id-inputEl', 'value': 'sinncs', 'timestamp': 1735044209581}\n",
      "Executando ação: {'type': 'input', 'selector': 'input#O53_id-inputEl', 'value': 'sinnc', 'timestamp': 1735044211060}\n",
      "Executando ação: {'type': 'click', 'selector': 'span#O5B_id-btnInnerEl', 'timestamp': 1735044216087}\n",
      "Reprodução de ações concluída.\n"
     ]
    }
   ],
   "source": [
    "from selenium import webdriver\n",
    "from selenium.webdriver.common.by import By\n",
    "from selenium.common.exceptions import NoSuchElementException, ElementNotInteractableException\n",
    "from utils import load_actions, perform_action\n",
    "from selenium.webdriver.support.ui import WebDriverWait\n",
    "from selenium.webdriver.support import expected_conditions as EC\n",
    "import time\n",
    "import json\n",
    "\n",
    "# Função auxiliar para aguardar elemento\n",
    "def wait_for_element(driver, selector, timeout=10):\n",
    "    \"\"\"Espera que um elemento seja encontrado no DOM até o limite de tempo.\"\"\"\n",
    "    for _ in range(timeout * 2):  # 2 tentativas por segundo\n",
    "        try:\n",
    "            element = driver.find_element(By.CSS_SELECTOR, selector)\n",
    "            if element.is_displayed():\n",
    "                return element\n",
    "        except NoSuchElementException:\n",
    "            pass\n",
    "        time.sleep(0.5)\n",
    "    return None\n",
    "\n",
    "# Carregando o JSON com URL\n",
    "with open(\"actions.json\", \"r\") as file:\n",
    "    data = json.load(file)\n",
    "\n",
    "driver.get(data['url'])  # Abre a URL onde as ações foram gravadas\n",
    "data = load_actions(\"actions.json\")\n",
    "actions = data[\"actions\"]\n",
    "\n",
    "# Reproduz ações\n",
    "def find_element(driver, selector):\n",
    "    try:\n",
    "        return WebDriverWait(driver, 10).until(\n",
    "            EC.presence_of_element_located((By.CSS_SELECTOR, selector))\n",
    "        )\n",
    "    except:\n",
    "        print(f\"Elemento não encontrado: {selector}\")\n",
    "        return None\n",
    "\n",
    "# Reproduz ações\n",
    "log = []\n",
    "\n",
    "for action in actions:\n",
    "    try:\n",
    "        perform_action(driver, action)\n",
    "        log.append({\"action\": action, \"status\": \"success\"})\n",
    "    except Exception as e:\n",
    "        log.append({\"action\": action, \"status\": \"failed\", \"error\": str(e)})\n",
    "\n",
    "with open(\"execution_log.json\", \"w\") as file:\n",
    "    json.dump(log, file, indent=4)\n",
    "    \n",
    "print(\"Reprodução de ações concluída.\")\n",
    "driver.quit()\n"
   ]
  }
 ],
 "metadata": {
  "kernelspec": {
   "display_name": "Python 3",
   "language": "python",
   "name": "python3"
  },
  "language_info": {
   "codemirror_mode": {
    "name": "ipython",
    "version": 3
   },
   "file_extension": ".py",
   "mimetype": "text/x-python",
   "name": "python",
   "nbconvert_exporter": "python",
   "pygments_lexer": "ipython3",
   "version": "3.11.9"
  }
 },
 "nbformat": 4,
 "nbformat_minor": 2
}
