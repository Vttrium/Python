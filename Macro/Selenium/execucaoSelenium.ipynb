{
 "cells": [
  {
   "cell_type": "code",
   "execution_count": null,
   "metadata": {},
   "outputs": [],
   "source": [
    "from selenium import webdriver\n",
    "from selenium.webdriver.common.by import By\n",
    "import time\n",
    "import json\n",
    "\n",
    "# Carrega o JSON gerado\n",
    "with open(\"actions.json\", \"r\") as file:\n",
    "    actions = json.load(file)\n",
    "\n",
    "# Inicializa o driver\n",
    "driver = webdriver.Chrome()\n",
    "driver.get(\"https://exemplo.com\")\n",
    "\n",
    "# Reproduz ações\n",
    "for action in actions:\n",
    "    if action['type'] == 'click':\n",
    "        element = driver.find_element(By.CSS_SELECTOR, action['selector'])\n",
    "        element.click()\n",
    "    elif action['type'] == 'input':\n",
    "        element = driver.find_element(By.CSS_SELECTOR, action['selector'])\n",
    "        element.send_keys(action['value'])\n",
    "    time.sleep(0.5)"
   ]
  }
 ],
 "metadata": {
  "language_info": {
   "name": "python"
  }
 },
 "nbformat": 4,
 "nbformat_minor": 2
}
