{
 "cells": [
  {
   "cell_type": "code",
   "execution_count": 3,
   "metadata": {},
   "outputs": [],
   "source": [
    "from selenium import webdriver\n",
    "from selenium.webdriver.common.by import By\n",
    "import time\n",
    "import json\n",
    "\n",
    "# Carrega o JSON gerado\n",
    "with open(\"actions.json\", \"r\") as file:\n",
    "    actions = json.load(file)\n",
    "\n",
    "# Inicializa o driver\n",
    "driver = webdriver.Chrome()\n",
    "driver.get(\"https://sa.sinnc.app/conims/5/IDSSaude.dll\")\n",
    "\n",
    "# Reproduz ações\n",
    "for action in actions:\n",
    "    if action['type'] == 'click':\n",
    "        element = driver.find_element(By.CSS_SELECTOR, action['selector'])\n",
    "        element.click()\n",
    "    elif action['type'] == 'input':\n",
    "        element = driver.find_element(By.CSS_SELECTOR, action['selector'])\n",
    "        element.send_keys(action['value'])\n",
    "    time.sleep(0.5)"
   ]
  }
 ],
 "metadata": {
  "kernelspec": {
   "display_name": "Python 3",
   "language": "python",
   "name": "python3"
  },
  "language_info": {
   "codemirror_mode": {
    "name": "ipython",
    "version": 3
   },
   "file_extension": ".py",
   "mimetype": "text/x-python",
   "name": "python",
   "nbconvert_exporter": "python",
   "pygments_lexer": "ipython3",
   "version": "3.11.9"
  }
 },
 "nbformat": 4,
 "nbformat_minor": 2
}
