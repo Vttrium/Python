{
 "cells": [
  {
   "cell_type": "markdown",
   "metadata": {},
   "source": [
    "# Projeto Independende: Script HalfBold"
   ]
  },
  {
   "cell_type": "markdown",
   "metadata": {},
   "source": [
    "### Intuito: Criar um script que coloque a primeira metade de todas as palavras de um texto em negrito. Com propósito de melhorar a velocidade de leitura."
   ]
  },
  {
   "cell_type": "code",
   "execution_count": 2,
   "metadata": {},
   "outputs": [],
   "source": [
    "from docx import Document\n",
    "from docx.shared import Pt, RGBColor, Cm\n",
    "from docx.enum.style import WD_STYLE_TYPE\n",
    "from docx.enum.text import WD_PARAGRAPH_ALIGNMENT\n",
    "import re"
   ]
  },
  {
   "cell_type": "code",
   "execution_count": 5,
   "metadata": {},
   "outputs": [],
   "source": [
    "nome_arquivo = input(\"Qual o nome/titulo do Projeto? \")\n",
    "texto = input(\"Qual o texto do Projeto? \")\n",
    "\n",
    "def remover_caracteres_especiais(texto):\n",
    "    padrao = re.compile(r'[^\\w\\s]', re.UNICODE)\n",
    "    texto_sem_especiais = re.sub(padrao, '', texto)\n",
    "    return texto_sem_especiais\n",
    "\n",
    "documento = Document()\n",
    "\n",
    "paragrafo1 = documento.add_paragraph('Texto:', 'Title')\n",
    "\n",
    "paragrafo = documento.add_paragraph('')\n",
    "\n",
    "paragrafo.style = documento.styles.add_style(\"EstiloPedro\", WD_STYLE_TYPE.PARAGRAPH)\n",
    "paragrafo.style.font.name = \"Yu Gothic\"\n",
    "paragrafo.style.font.size = Pt(13)\n",
    "\n",
    "paragrafo = documento.add_paragraph('', 'EstiloPedro')\n",
    "\n",
    "paragrafo.alignment = WD_PARAGRAPH_ALIGNMENT.JUSTIFY\n",
    "\n",
    "texto = texto.replace('\\n', ' AAAAA ')\n",
    "\n",
    "texto = texto.split()\n",
    "\n",
    "for letra in texto:\n",
    "    letraAl = remover_caracteres_especiais(letra)\n",
    "    if len(letraAl) % 2 == 0:\n",
    "        quantidadeHL = len(letraAl) / 2\n",
    "        quantidadeHL = int(quantidadeHL)\n",
    "        firstH = letraAl[:quantidadeHL]\n",
    "        secondH = letra[quantidadeHL:]\n",
    "        if letraAl == \"AAAAA\":\n",
    "            paragrafo.add_run('\\n')\n",
    "        else:\n",
    "            paragrafo.add_run(firstH).bold = True\n",
    "            paragrafo.add_run(f'{secondH}').underline = True\n",
    "            paragrafo.add_run(' ').underline = False\n",
    "    else:\n",
    "        quantidadeHL = len(letraAl) / 2 + 1\n",
    "        quantidadeHL = int(quantidadeHL)\n",
    "        firstH = letraAl[:quantidadeHL]\n",
    "        secondH = letra[quantidadeHL:]\n",
    "        if letraAl == \"AAAAA\":\n",
    "            paragrafo.add_run('\\n')\n",
    "        else:\n",
    "            paragrafo.add_run(firstH).bold = True\n",
    "            paragrafo.add_run(f'{secondH}').underline = True\n",
    "            paragrafo.add_run(' ').underline = False\n",
    "\n",
    "documento.save(f'C:/Users/phsau/Vscode Files/Python/Textos Half Bold/Textos/{nome_arquivo} Otimizado.docx')"
   ]
  }
 ],
 "metadata": {
  "kernelspec": {
   "display_name": "Python 3",
   "language": "python",
   "name": "python3"
  },
  "language_info": {
   "codemirror_mode": {
    "name": "ipython",
    "version": 3
   },
   "file_extension": ".py",
   "mimetype": "text/x-python",
   "name": "python",
   "nbconvert_exporter": "python",
   "pygments_lexer": "ipython3",
   "version": "3.11.3"
  },
  "orig_nbformat": 4
 },
 "nbformat": 4,
 "nbformat_minor": 2
}
