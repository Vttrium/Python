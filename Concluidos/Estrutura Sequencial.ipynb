{
 "cells": [
  {
   "cell_type": "markdown",
   "id": "bb0f9514",
   "metadata": {},
   "source": [
    "# Lista de Estrutura Sequencial"
   ]
  },
  {
   "cell_type": "markdown",
   "id": "4e7a8c30",
   "metadata": {},
   "source": [
    "#### 1. Faça um Programa que mostre a mensagem (print) \"Alo mundo\" na tela."
   ]
  },
  {
   "cell_type": "code",
   "execution_count": 1,
   "id": "883bfe85",
   "metadata": {},
   "outputs": [
    {
     "name": "stdout",
     "output_type": "stream",
     "text": [
      "Alô mundo!\n"
     ]
    }
   ],
   "source": [
    "print('Alô mundo!')"
   ]
  },
  {
   "cell_type": "markdown",
   "id": "71d6d6a2",
   "metadata": {},
   "source": [
    "#### 2. Faça um Programa que peça um número (input) e então mostre a mensagem: \"O número informado foi [número].\""
   ]
  },
  {
   "cell_type": "code",
   "execution_count": 4,
   "id": "30cfffcf",
   "metadata": {},
   "outputs": [
    {
     "name": "stdout",
     "output_type": "stream",
     "text": [
      "Informe o número:1000\n",
      "O número informado foi 1000.\n"
     ]
    }
   ],
   "source": [
    "numero = input('Informe o número:')\n",
    "print(f'O número informado foi {numero}.')"
   ]
  },
  {
   "cell_type": "markdown",
   "id": "c5e43160",
   "metadata": {},
   "source": [
    "#### 3. Faça um Programa que peça dois números e imprima a soma."
   ]
  },
  {
   "cell_type": "code",
   "execution_count": 10,
   "id": "b0e79590",
   "metadata": {},
   "outputs": [
    {
     "name": "stdout",
     "output_type": "stream",
     "text": [
      "Informe o primeiro número:3.4\n",
      "Informe o segundo número:3\n",
      "6.4\n"
     ]
    }
   ],
   "source": [
    "prim = float(input('Informe o primeiro número:'))\n",
    "seg = float(input('Informe o segundo número:'))\n",
    "print(seg + prim)\n"
   ]
  },
  {
   "cell_type": "markdown",
   "id": "17826987",
   "metadata": {},
   "source": [
    "#### 4. Faça um Programa que peça as 4 notas bimestrais de um aluno e mostre a média de todas as notas."
   ]
  },
  {
   "cell_type": "code",
   "execution_count": 13,
   "id": "23b66762",
   "metadata": {},
   "outputs": [
    {
     "name": "stdout",
     "output_type": "stream",
     "text": [
      "Informe a nota do primeiro semestre3\n",
      "Informe a nota do segundo semestre3\n",
      "Informe a nota do terceiro semestre3\n",
      "Informe a nota do quarto semestre3\n",
      "A média final do aluno foi 3.0\n"
     ]
    }
   ],
   "source": [
    "pri = float(input('Informe a nota do primeiro semestre'))\n",
    "seg = float(input('Informe a nota do segundo semestre'))\n",
    "ter = float(input('Informe a nota do terceiro semestre'))\n",
    "qua = float(input('Informe a nota do quarto semestre'))\n",
    "soma = pri + seg + ter + qua\n",
    "print(f'A média final do aluno foi {soma / 4}.')"
   ]
  },
  {
   "cell_type": "markdown",
   "id": "62d461c5",
   "metadata": {},
   "source": [
    "#### 5. Faça um Programa que converta metros para centímetros. Você pode pedir o comprimento em metros para o usuário (input)."
   ]
  },
  {
   "cell_type": "code",
   "execution_count": 16,
   "id": "d642f1ba",
   "metadata": {},
   "outputs": [
    {
     "name": "stdout",
     "output_type": "stream",
     "text": [
      "Informe os metros:1.8\n",
      "180.0 Centímetros\n"
     ]
    }
   ],
   "source": [
    "Metros = float(input('Informe os metros:'))\n",
    "Centímetros = Metros * 100\n",
    "print(f'{Centímetros} Centímetros')"
   ]
  },
  {
   "cell_type": "markdown",
   "id": "f1311697",
   "metadata": {},
   "source": [
    "#### 7. Faça um Programa que calcule a área de uma sala de um apartamento. Para isso, o seu programa precisa pedir a largura da sala, o comprimento da sala e imprimir a área em m² da sala."
   ]
  },
  {
   "cell_type": "code",
   "execution_count": 17,
   "id": "612ea24b",
   "metadata": {},
   "outputs": [
    {
     "name": "stdout",
     "output_type": "stream",
     "text": [
      "Informe a largura da sala, em metros:1.8\n",
      "Informe o comprimento da sala, em metros:3.4\n",
      "A área da sala é de 6.12 m²\n"
     ]
    }
   ],
   "source": [
    "largura = float(input('Informe a largura da sala, em metros:'))\n",
    "comprimento = float(input('Informe o comprimento da sala, em metros:'))\n",
    "Área = largura * comprimento\n",
    "print(f'A área da sala é de {Área} m²')"
   ]
  },
  {
   "cell_type": "markdown",
   "id": "2a285929",
   "metadata": {},
   "source": [
    "#### 8. Faça um Programa que pergunte quanto você ganha por hora e o número de horas trabalhadas no mês. Calcule e mostre o total do seu salário no referido mês."
   ]
  },
  {
   "cell_type": "code",
   "execution_count": 19,
   "id": "359e2232",
   "metadata": {},
   "outputs": [
    {
     "name": "stdout",
     "output_type": "stream",
     "text": [
      "Informe o valor ganho por hora:45\n",
      "Informe o número de dias trabalhados:9000\n",
      "Esse é o valor adiquirido esse mês 405000.0 reais.\n"
     ]
    }
   ],
   "source": [
    "Per_H = float(input(\"Informe o valor ganho por hora:\"))\n",
    "Dias = float(input('Informe o número de dias trabalhados:'))\n",
    "Ganhos = Per_H * Dias\n",
    "print(f'Esse é o valor adiquirido esse mês {Ganhos} reais.')"
   ]
  },
  {
   "cell_type": "markdown",
   "id": "7e2d4615",
   "metadata": {},
   "source": [
    "#### 9. Vamos criar um conversor de temperatura. Faça um Programa que peça a temperatura em graus Fahrenheit, transforme e mostre a temperatura em graus Celsius.\n",
    "$C = \\frac{5}{9}(F-32)$"
   ]
  },
  {
   "cell_type": "code",
   "execution_count": 22,
   "id": "82daf9fd",
   "metadata": {},
   "outputs": [
    {
     "name": "stdout",
     "output_type": "stream",
     "text": [
      "Informe a temperatura em Fahrenheit:68\n",
      "A temperatura em °C é 20.0.\n"
     ]
    }
   ],
   "source": [
    "Graus_F = float(input('Informe a temperatura em Fahrenheit:'))\n",
    "Graus_C = 5/9 * (Graus_F - 32)\n",
    "print(f'A temperatura em °C é {Graus_C}.')"
   ]
  },
  {
   "cell_type": "markdown",
   "id": "20708b1c",
   "metadata": {},
   "source": [
    "#### 10. Faça um Programa que peça a temperatura em graus Celsius, transforme e mostre em graus Fahrenheit.\n",
    "$F = \\frac{9}{5}C + 32$"
   ]
  },
  {
   "cell_type": "code",
   "execution_count": 23,
   "id": "c73cfb38",
   "metadata": {},
   "outputs": [
    {
     "name": "stdout",
     "output_type": "stream",
     "text": [
      "Informe a temperatura em Celsius:30\n",
      "A temperatura em °F é 86.0.\n"
     ]
    }
   ],
   "source": [
    "Graus_C = float(input('Informe a temperatura em Celsius:'))\n",
    "Graus_F = 9/5 * Graus_C + 32\n",
    "print(f'A temperatura em °F é {Graus_F}.')"
   ]
  },
  {
   "cell_type": "markdown",
   "id": "b263a9dc",
   "metadata": {},
   "source": [
    "#### 12. Tendo como dados de entrada a altura (h) de uma pessoa, construa um algoritmo que calcule seu peso ideal, usando a seguinte fórmula:\n",
    "$P = 72,7h - 58$\n",
    "\n",
    "Lembrando que \"algoritmo\" nada mais é do que um programa, como todos os outros que você vem fazendo"
   ]
  },
  {
   "cell_type": "code",
   "execution_count": 24,
   "id": "9a9b8dca",
   "metadata": {},
   "outputs": [
    {
     "name": "stdout",
     "output_type": "stream",
     "text": [
      "Informe a sua altura:1.80\n",
      "72.86000000000001\n"
     ]
    }
   ],
   "source": [
    "Peso = float(input(\"Informe a sua altura:\"))\n",
    "Peso_Ideal = 72.7 * Peso - 58\n",
    "print(Peso_Ideal)"
   ]
  },
  {
   "cell_type": "markdown",
   "id": "13bb40d7",
   "metadata": {},
   "source": [
    "#### 13. Tendo como dado de entrada a altura (h) de uma pessoa, construa um algoritmo que calcule seu peso ideal, utilizando as seguintes fórmulas:\n",
    "##### a. Para homens: $P = 72,7h - 58$\n",
    "##### b. Para mulheres: $P = 62,1h - 44,7$"
   ]
  },
  {
   "cell_type": "code",
   "execution_count": 58,
   "id": "bf82dc8c",
   "metadata": {},
   "outputs": [
    {
     "name": "stdout",
     "output_type": "stream",
     "text": [
      "Informe o seu gênero:Masculino\n",
      "Informe a altura em metros: 1.8\n",
      "72.86000000000001\n"
     ]
    }
   ],
   "source": [
    "Genero = input('Informe o seu gênero:')\n",
    "altura = float(input('Informe a altura em metros: '))\n",
    "\n",
    "if Genero != 'Masculino':\n",
    "    peso_ideal = 62.1 * altura - 44.7\n",
    "if Genero != 'Feminino':\n",
    "    peso_ideal = 72.7 * altura - 58\n",
    "\n",
    "print(peso_ideal)"
   ]
  },
  {
   "cell_type": "markdown",
   "id": "f208ef89",
   "metadata": {},
   "source": [
    "#### 15. Faça um Programa que pergunte quanto você ganha por hora e o número de horas trabalhadas no mês."
   ]
  },
  {
   "cell_type": "code",
   "execution_count": 33,
   "id": "2d5b23e0",
   "metadata": {},
   "outputs": [
    {
     "name": "stdout",
     "output_type": "stream",
     "text": [
      "Informe o valor ganho por hora:20\n",
      "Informe o número de horas trabalhados:89\n"
     ]
    }
   ],
   "source": [
    "Per_H = float(input(\"Informe o valor ganho por hora:\"))\n",
    "Horas = float(input('Informe o número de horas trabalhados:'))"
   ]
  },
  {
   "cell_type": "markdown",
   "id": "607dee3c",
   "metadata": {},
   "source": [
    "#####  Calcule o salário bruto (horas * salario por hora)"
   ]
  },
  {
   "cell_type": "code",
   "execution_count": 35,
   "id": "7f80ccbb",
   "metadata": {},
   "outputs": [
    {
     "name": "stdout",
     "output_type": "stream",
     "text": [
      "O salário bruto é 1780.0.\n"
     ]
    }
   ],
   "source": [
    "Salário_Bruto = Per_H * Horas\n",
    "print(f\"O salário bruto é {Salário_Bruto}.\")"
   ]
  },
  {
   "cell_type": "markdown",
   "id": "2ed93cb0",
   "metadata": {},
   "source": [
    "##### Calcule o desconto do IR (11% do salário bruto)"
   ]
  },
  {
   "cell_type": "code",
   "execution_count": 37,
   "id": "3363e22f",
   "metadata": {},
   "outputs": [
    {
     "name": "stdout",
     "output_type": "stream",
     "text": [
      "195.8\n"
     ]
    }
   ],
   "source": [
    "Desconto_IR = Salário_Bruto * 0.11\n",
    "print(Desconto_IR)"
   ]
  },
  {
   "cell_type": "markdown",
   "id": "0994b2c0",
   "metadata": {},
   "source": [
    "##### Calcule o desconto do INSS (8% do salário bruto)"
   ]
  },
  {
   "cell_type": "code",
   "execution_count": 38,
   "id": "748c6088",
   "metadata": {},
   "outputs": [
    {
     "name": "stdout",
     "output_type": "stream",
     "text": [
      "142.4\n"
     ]
    }
   ],
   "source": [
    "Desconto_INSS = Salário_Bruto * 0.08\n",
    "print(Desconto_INSS)"
   ]
  },
  {
   "cell_type": "markdown",
   "id": "06e8dae4",
   "metadata": {},
   "source": [
    "##### Calcule o desconto do sindicato (5% do salário bruto)"
   ]
  },
  {
   "cell_type": "code",
   "execution_count": 40,
   "id": "21b95b15",
   "metadata": {
    "scrolled": true
   },
   "outputs": [
    {
     "name": "stdout",
     "output_type": "stream",
     "text": [
      "89.0\n"
     ]
    }
   ],
   "source": [
    "Desconto_SIND = Salário_Bruto * 0.05\n",
    "print(Desconto_SIND) "
   ]
  },
  {
   "cell_type": "markdown",
   "id": "bb14ce36",
   "metadata": {},
   "source": [
    "##### Calcule o salário líquido (salário bruto - descontos)"
   ]
  },
  {
   "cell_type": "code",
   "execution_count": 41,
   "id": "56317086",
   "metadata": {},
   "outputs": [
    {
     "name": "stdout",
     "output_type": "stream",
     "text": [
      "1352.8\n"
     ]
    }
   ],
   "source": [
    "Sal_Liq = Salário_Bruto - (Desconto_SIND + Desconto_INSS + Desconto_IR)\n",
    "print(Sal_Liq) "
   ]
  },
  {
   "cell_type": "markdown",
   "id": "cfbfcc87",
   "metadata": {},
   "source": [
    "#### 16. Faça um programa para uma loja de tintas. O programa deverá pedir o tamanho em metros quadrados da área a ser pintada. Considere que a cobertura da tinta é de 1 litro para cada 3 metros quadrados e que a tinta é vendida em latas de 18 litros, que custam R\\$ 80,00. Informe ao usuário a quantidades de latas de tinta a serem compradas e o preço total. (para simplificação nesse momento, não se preocupe em arredondar a quantidade de latas a serem compradas - vamos trabalhar isso em breve)"
   ]
  },
  {
   "cell_type": "code",
   "execution_count": 49,
   "id": "fb6a083b",
   "metadata": {},
   "outputs": [
    {
     "name": "stdout",
     "output_type": "stream",
     "text": [
      "Informe a quantidade de m² a serem pintados:57\n",
      "19.0\n",
      "1.0555555555555556\n",
      "O preço total a ser pago é 84.44444444444444 reais.\n"
     ]
    }
   ],
   "source": [
    "Metros_Q = float(input('Informe a quantidade de m² a serem pintados: '))\n",
    "Litros = Metros_Q / 3 \n",
    "print(Litros)\n",
    "N_Lat = Litros / 18\n",
    "print(N_Lat)\n",
    "Preco_Total = N_Lat * 80\n",
    "print(f'O preço total a ser pago é {Preco_Total} reais.')"
   ]
  },
  {
   "cell_type": "markdown",
   "id": "d6503c92",
   "metadata": {},
   "source": [
    "#### 18. Faça um programa que peça o tamanho de um arquivo para download (em MB) e a velocidade de um link de Internet (em Mbps), calcule e informe o tempo aproximado de download do arquivo usando este link (em minutos).\n",
    "\n",
    "Detalhe: MB significa megabyte, Mb (com b minúsculo) significa megabit. Um megabit é 1/8 de um megabyte. "
   ]
  },
  {
   "cell_type": "code",
   "execution_count": 56,
   "id": "0563aa62",
   "metadata": {},
   "outputs": [
    {
     "name": "stdout",
     "output_type": "stream",
     "text": [
      "Informe a quantidades de MB: 100\n",
      "Informe a velocidade de seu link em Mb: 3\n",
      "O tempo para finalizar o download é de 4.444444444444445 min.\n"
     ]
    }
   ],
   "source": [
    "MB = float(input('Informe a quantidades de MB: '))\n",
    "Vel_Mb = float(input('Informe a velocidade de seu link em Mb: '))\n",
    "MB_Mb = MB * 8\n",
    "Tempo = (MB_Mb/Vel_Mb)/60\n",
    "print(f\"O tempo para finalizar o download é de {Tempo} min.\")"
   ]
  },
  {
   "cell_type": "code",
   "execution_count": null,
   "id": "280412ff",
   "metadata": {},
   "outputs": [],
   "source": []
  }
 ],
 "metadata": {
  "kernelspec": {
   "display_name": "Python 3 (ipykernel)",
   "language": "python",
   "name": "python3"
  },
  "language_info": {
   "codemirror_mode": {
    "name": "ipython",
    "version": 3
   },
   "file_extension": ".py",
   "mimetype": "text/x-python",
   "name": "python",
   "nbconvert_exporter": "python",
   "pygments_lexer": "ipython3",
   "version": "3.9.13"
  }
 },
 "nbformat": 4,
 "nbformat_minor": 5
}
