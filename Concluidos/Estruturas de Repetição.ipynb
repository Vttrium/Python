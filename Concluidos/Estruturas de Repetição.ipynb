{
 "cells": [
  {
   "cell_type": "markdown",
   "id": "ac60394f",
   "metadata": {
    "id": "ac60394f"
   },
   "source": [
    "# Estruturas de repetição\n",
    "\n",
    "<span style=\"color: red;\"><b>Todos os exercícios são feitos partindo-se do pressuposto de que todas as entradas são dadas de forma correta. Casos limite não mencionados no enunciado não são abordados porque não fazem parte do exercício.</b></span>"
   ]
  },
  {
   "cell_type": "markdown",
   "id": "017affd0",
   "metadata": {
    "id": "017affd0"
   },
   "source": [
    "#### 1. Faça um programa que peça uma nota, entre zero e dez. Mostre uma mensagem caso o valor seja inválido e continue pedindo até que o usuário informe um valor válido."
   ]
  },
  {
   "cell_type": "code",
   "execution_count": 17,
   "id": "5f12870d",
   "metadata": {
    "id": "5f12870d"
   },
   "outputs": [
    {
     "name": "stdout",
     "output_type": "stream",
     "text": [
      "Informe uma nota, entre 0 e 10: 100\n",
      "Nota inválida!\n",
      "Informe uma nota, entre 0 e 10: 100\n",
      "Nota inválida!\n",
      "Informe uma nota, entre 0 e 10: 100\n",
      "Nota inválida!\n",
      "Informe uma nota, entre 0 e 10: 9\n"
     ]
    }
   ],
   "source": [
    "nota = float(input('Informe uma nota, entre 0 e 10: '))\n",
    "while not nota <= 10 and nota >= 0:\n",
    "    print('Nota inválida!')\n",
    "    nota = float(input('Informe uma nota, entre 0 e 10: '))"
   ]
  },
  {
   "cell_type": "markdown",
   "id": "dd0c6d56",
   "metadata": {
    "id": "dd0c6d56"
   },
   "source": [
    "#### 2. Faça um programa que leia um nome de usuário e a sua senha e não aceite a senha igual ao nome do usuário, mostrando uma mensagem de erro e voltando a pedir as informações."
   ]
  },
  {
   "cell_type": "code",
   "execution_count": 18,
   "id": "f6579866",
   "metadata": {
    "id": "f6579866"
   },
   "outputs": [
    {
     "name": "stdout",
     "output_type": "stream",
     "text": [
      "Informe o login: ho\n",
      "Informe o senha: ho\n",
      "O login não pode ser igual à senha\n",
      "Informe o login: ho\n",
      "Informe o senha: hoe\n"
     ]
    }
   ],
   "source": [
    "login = input('Informe o login: ')\n",
    "senha = input('Informe o senha: ')\n",
    "while login == senha:\n",
    "    print('O login não pode ser igual à senha')\n",
    "    login = input('Informe o login: ')\n",
    "    senha = input('Informe o senha: ')"
   ]
  },
  {
   "cell_type": "markdown",
   "id": "ed113a82",
   "metadata": {
    "id": "ed113a82"
   },
   "source": [
    "#### 3. Faça um programa que leia e valide as seguintes informações (e para cada uma delas, continue pedindo a informação até o usuário inserir corretamente):\n",
    "##### Nome: maior que 3 caracteres;\n",
    "##### Idade: entre 0 e 150;\n",
    "##### Salário: maior que zero;\n",
    "##### Sexo: 'f' ou 'm';\n",
    "##### Estado Civil: 's', 'c', 'v', 'd';"
   ]
  },
  {
   "cell_type": "code",
   "execution_count": 53,
   "id": "7dbc245e",
   "metadata": {},
   "outputs": [
    {
     "name": "stdout",
     "output_type": "stream",
     "text": [
      "Informe o seu nome: Pedro\n",
      "Informe a sua idade: 17\n",
      "Informe seu salário: 9\n",
      "Informe seu Sexo: entre f e m: F\n",
      "Informe um sexo entre f e m!\n",
      "Informe seu Sexo: entre f e m: f\n",
      "Informe seu estado civil, entre s-solteiro, c-casado, v-viúvo ou d-divorciado: v\n"
     ]
    }
   ],
   "source": [
    "nome = input('Informe o seu nome: ')\n",
    "while not len(nome) > 3:\n",
    "    print('O nome tem que ter mais de 3 caracteres!')\n",
    "    nome = input('Informe o seu nome: ')\n",
    "idade = int(input('Informe a sua idade: '))\n",
    "while not idade <= 150 and idade >= 0:\n",
    "    print('A idade tem que estar entre 0 e 150 anos, qualquer número diferente é inválido!')\n",
    "    idade = int(input('Informe a sua idade: '))\n",
    "salario = float(input('Informe seu salário: '))\n",
    "while not salario > 0:\n",
    "    print('O salário tem que ser maior que 0!')\n",
    "    salario = float(input('Informe seu salário: '))\n",
    "Sexo = input('Informe seu Sexo: entre f e m: ')\n",
    "while not (Sexo == 'f' or Sexo == 'm'):\n",
    "    print('Informe um sexo entre f e m!')\n",
    "    Sexo = input('Informe seu Sexo: entre f e m: ')\n",
    "estado_civil = input('Informe seu estado civil, entre s-solteiro, c-casado, v-viúvo ou d-divorciado: ')\n",
    "while not (estado_civil == 's' or estado_civil == 'c' or estado_civil == 'v' or estado_civil == 'd'):\n",
    "    print('Informe o seu estado civil entre: s, c, v ou d')\n",
    "    estado_civil = input('Informe seu estado civil, entre s-solteiro, c-casado, v-viúvo ou d-divorciado: ')"
   ]
  },
  {
   "cell_type": "markdown",
   "id": "2f25dceb",
   "metadata": {
    "id": "2f25dceb"
   },
   "source": [
    "#### 4. Supondo que a população de um país A seja da ordem de 80000 habitantes com uma taxa anual de crescimento de 3% e que a população de B seja 200000 habitantes com uma taxa de crescimento de 1.5%. Faça um programa que calcule e escreva o número de anos necessários para que a população do país A ultrapasse ou iguale a população do país B, mantidas as taxas de crescimento."
   ]
  },
  {
   "cell_type": "code",
   "execution_count": 56,
   "id": "7ad0f5e9",
   "metadata": {
    "id": "7ad0f5e9"
   },
   "outputs": [
    {
     "name": "stdout",
     "output_type": "stream",
     "text": [
      "515033.10280596686\n",
      "510964.41696222295\n",
      "63\n"
     ]
    }
   ],
   "source": [
    "city_A = 80000\n",
    "taxa_A = 0.03\n",
    "city_B = 200000\n",
    "taxa_B = 0.015\n",
    "anos = 0\n",
    "while not city_A >= city_B:\n",
    "    city_A = city_A + (city_A * taxa_A)\n",
    "    city_B = city_B + (city_B * taxa_B)\n",
    "    anos += 1\n",
    "print(city_A)\n",
    "print(city_B)\n",
    "print(anos)"
   ]
  },
  {
   "cell_type": "markdown",
   "id": "e9626858",
   "metadata": {
    "id": "e9626858"
   },
   "source": [
    "#### 5. Altere o programa anterior permitindo ao usuário informar as populações e as taxas de crescimento iniciais. Valide a entrada e permita repetir a operação."
   ]
  },
  {
   "cell_type": "code",
   "execution_count": 58,
   "id": "c7e250a4",
   "metadata": {
    "id": "c7e250a4"
   },
   "outputs": [
    {
     "name": "stdout",
     "output_type": "stream",
     "text": [
      "Informe a quantidade de cidadãos atuais na cidade A: -10000\n",
      "Não pode ser um valor negativo de cidadãos!\n",
      "Informe a quantidade de cidadãos atuais na cidade A: 10000\n",
      "Informe a taxa de crescimento da cidade A: 0.3\n",
      "Informe a quantidade de cidadãos atuais na cidade B: -10\n",
      "Não pode ser um valor negativo de cidadãos!\n",
      "Informe a quantidade de cidadãos atuais na cidade B: 1000000000000\n",
      "Informe a taxa de crescimento da cidade B: -0.09\n",
      "8415003868.347245\n",
      "7415704242.572983\n",
      "52\n"
     ]
    }
   ],
   "source": [
    "anos = 0\n",
    "city_A = int(input('Informe a quantidade de cidadãos atuais na cidade A: '))\n",
    "while city_A < 0:\n",
    "    print('Não pode ser um valor negativo de cidadãos!')\n",
    "    city_A = int(input('Informe a quantidade de cidadãos atuais na cidade A: '))\n",
    "taxa_A = float(input('Informe a taxa de crescimento da cidade A: '))\n",
    "city_B = int(input('Informe a quantidade de cidadãos atuais na cidade B: '))\n",
    "while city_B < 0:\n",
    "    print('Não pode ser um valor negativo de cidadãos!')\n",
    "    city_B = int(input('Informe a quantidade de cidadãos atuais na cidade B: '))   \n",
    "taxa_B = float(input('Informe a taxa de crescimento da cidade B: '))\n",
    "while not city_A >= city_B:\n",
    "    city_A = city_A + (city_A * taxa_A)\n",
    "    city_B = city_B + (city_B * taxa_B)\n",
    "    anos += 1\n",
    "print(city_A)\n",
    "print(city_B)\n",
    "print(anos)"
   ]
  },
  {
   "cell_type": "markdown",
   "id": "b3d268b5",
   "metadata": {
    "id": "b3d268b5"
   },
   "source": [
    "#### 6. Faça um programa que peça para o usuário inserir o faturamento dos últimos 5 meses (individualmente) e informe o maior faturamento"
   ]
  },
  {
   "cell_type": "code",
   "execution_count": 62,
   "id": "8078e7a5",
   "metadata": {
    "id": "8078e7a5"
   },
   "outputs": [
    {
     "name": "stdout",
     "output_type": "stream",
     "text": [
      "Informe o fatumento o mês: 1\n",
      "Informe o fatumento o mês: 1\n",
      "Informe o fatumento o mês: 1\n",
      "Informe o fatumento o mês: 1\n",
      "Informe o fatumento o mês: 2\n",
      "2.0\n"
     ]
    }
   ],
   "source": [
    "for i in range(5):\n",
    "    novo_num = float(input('Informe o fatumento o mês: '))\n",
    "    if i == 0:\n",
    "        maior = novo_num\n",
    "    else:\n",
    "        if novo_num > maior:\n",
    "            maior = novo_num\n",
    "print(maior)"
   ]
  },
  {
   "cell_type": "markdown",
   "id": "6407824c",
   "metadata": {
    "id": "6407824c"
   },
   "source": [
    "#### 7. Faça um programa que peça para o usuário inserir o faturamento dos últimos 5 meses (individualmente) e informe o faturamento total (soma) e o faturamento médio por mês (média)."
   ]
  },
  {
   "cell_type": "code",
   "execution_count": 73,
   "id": "bda9d38e",
   "metadata": {},
   "outputs": [
    {
     "name": "stdout",
     "output_type": "stream",
     "text": [
      "Informe o fatumento o mês: 2\n",
      "Informe o fatumento o mês: 2\n",
      "Informe o fatumento o mês: 2\n",
      "Informe o fatumento o mês: 3\n",
      "Informe o fatumento o mês: 4\n",
      "O faturamento total foi de 13.0\n",
      "O faturamento médio foi de 2.6\n"
     ]
    }
   ],
   "source": [
    "lista = []\n",
    "for i in range(5):\n",
    "    novo_num = float(input('Informe o fatumento o mês: '))\n",
    "    lista.append(novo_num)\n",
    "\n",
    "num = len(lista)\n",
    "soma = sum(lista) \n",
    "media = soma/num\n",
    "print('O faturamento total foi de {}'.format(sum(lista)))\n",
    "\n",
    "print('O faturamento médio foi de {}'.format(media))"
   ]
  },
  {
   "cell_type": "markdown",
   "id": "703f3c4d",
   "metadata": {
    "id": "703f3c4d"
   },
   "source": [
    "#### 8. Faça um programa que consiga categorizar a idade das equipes de uma empresa. Faça um programa que peça para n pessoas a sua idade, ao final o programa devera verificar se a média de idade da equipe varia entre 0 e 25 (jovem) ,26 e 60 (sênior) e maior que 60 (idosa); e então, dizer se a equipe é jovem, sênior ou idosa, conforme a média calculada."
   ]
  },
  {
   "cell_type": "code",
   "execution_count": 109,
   "id": "b56a85de",
   "metadata": {
    "id": "b56a85de"
   },
   "outputs": [
    {
     "name": "stdout",
     "output_type": "stream",
     "text": [
      "Informe sua idade: 90\n",
      "Informe sua idade: 80\n",
      "Informe sua idade: 70\n",
      "Informe sua idade: 60\n",
      "Informe sua idade: 50\n",
      "Informe sua idade: 40\n",
      "Informe sua idade: 30\n",
      "Informe sua idade: 20\n",
      "Informe sua idade: 10\n",
      "Informe sua idade: \n",
      "[90, 80, 70, 60, 50, 40, 30, 20, 10]\n",
      "A equipe de 9, tem uma média de idade de 50.0, considerando-a uma equipe sênior.\n"
     ]
    }
   ],
   "source": [
    "lista = []\n",
    "id = input('Informe sua idade: ')\n",
    "if id == '':\n",
    "    print(lista)\n",
    "id = int(id)\n",
    "while id != '':\n",
    "    lista.append(id)\n",
    "    id = input('Informe sua idade: ')\n",
    "    if id == '':\n",
    "        break\n",
    "    id = int(id)\n",
    "print(lista)\n",
    "media = sum(lista) / len(lista)\n",
    "if media >= 0 and media <= 25:\n",
    "    print('A equipe de {}, tem uma média de idade de {}, considerando-a uma equipe jovem.'.format(len(lista), media))\n",
    "elif media >= 26 and media <= 60:\n",
    "    print('A equipe de {}, tem uma média de idade de {}, considerando-a uma equipe sênior.'.format(len(lista), media))\n",
    "elif media > 60:\n",
    "    print('A equipe de {}, tem uma média de idade de {}, considerando-a uma equipe idosa.'.format(len(lista), media))"
   ]
  },
  {
   "cell_type": "markdown",
   "id": "aad21b98",
   "metadata": {
    "id": "aad21b98"
   },
   "source": [
    "#### 9. Numa eleição existem três candidatos. Faça um programa que peça o número total de eleitores. Peça para cada eleitor votar e ao final mostrar o número de votos de cada candidato."
   ]
  },
  {
   "cell_type": "code",
   "execution_count": 117,
   "id": "84aa7a93",
   "metadata": {
    "id": "84aa7a93"
   },
   "outputs": [
    {
     "name": "stdout",
     "output_type": "stream",
     "text": [
      "Informe a quantidade de eleitores: 3\n",
      "Entre os candidatos\n",
      "1 - Sergin,\n",
      "2 - Gemaplays,\n",
      "3 - José,\n",
      "para qual vai seu voto?1\n",
      "Entre os candidatos\n",
      "1 - Sergin,\n",
      "2 - Gemaplays,\n",
      "3 - José,\n",
      "para qual vai seu voto?2\n",
      "Entre os candidatos\n",
      "1 - Sergin,\n",
      "2 - Gemaplays,\n",
      "3 - José,\n",
      "para qual vai seu voto?2\n",
      "Cand 1 teve 1\n",
      "Cand 2 teve 2\n",
      "Cand 3 teve 0\n"
     ]
    }
   ],
   "source": [
    "candidato1 = 'Sergin'\n",
    "candidato2 = 'Gemaplays'\n",
    "candidato3 = 'José'\n",
    "num_elei = int(input('Informe a quantidade de eleitores: '))\n",
    "votos1 = 0\n",
    "votos2 = 0\n",
    "votos3 = 0\n",
    "for i in range(num_elei):\n",
    "    voto = int(input('Entre os candidatos\\n{},\\n{},\\n{},\\npara qual vai seu voto?'.format('1 - ' + candidato1, '2 - ' + candidato2, '3 - ' + candidato3)))\n",
    "    if voto == 1:\n",
    "        votos1 += 1\n",
    "    elif voto == 2:\n",
    "        votos2 += 1\n",
    "    elif voto == 3:\n",
    "        votos3 += 1\n",
    "    else:\n",
    "        print('Informe o voto para um dos 3 candidatos: 1, 2 ou 3')\n",
    "print(f'Cand 1 teve {votos1}')\n",
    "print(f'Cand 2 teve {votos2}')\n",
    "print(f'Cand 3 teve {votos3}')"
   ]
  },
  {
   "cell_type": "markdown",
   "id": "6e306453",
   "metadata": {
    "id": "6e306453"
   },
   "source": [
    "#### 10. Faça um programa que calcule o valor total investido por um colecionador em sua coleção de CDs e o valor médio gasto em cada um deles. O usuário deverá informar a quantidade de CDs e o valor para em cada um."
   ]
  },
  {
   "cell_type": "code",
   "execution_count": 119,
   "id": "6b7fa4a2",
   "metadata": {
    "id": "6b7fa4a2"
   },
   "outputs": [
    {
     "name": "stdout",
     "output_type": "stream",
     "text": [
      "Informe a qtde de CDs da coleção: 3\n",
      "Informe o valor do 1º CD70\n",
      "Informe o valor do 2º CD80\n",
      "Informe o valor do 3º CD90\n",
      "O valor médio gasto em cada CD foi de 80.0\n",
      "O valor total gasto é de 240.0\n"
     ]
    }
   ],
   "source": [
    "qtde = int(input('Informe a qtde de CDs da coleção: '))\n",
    "lista = []\n",
    "for i in range(qtde):\n",
    "    Valor = float(input(f'Informe o valor do {i + 1}º CD'))\n",
    "    lista.append(Valor)\n",
    "print('O valor médio gasto em cada CD foi de {}'.format(sum(lista)/len(lista)))\n",
    "print('O valor total gasto é de {}'.format(sum(lista)))"
   ]
  },
  {
   "cell_type": "markdown",
   "id": "f19c8d86",
   "metadata": {
    "id": "f19c8d86"
   },
   "source": [
    "#### 11. O Sr. Manoel Joaquim possui uma grande loja de artigos de R\\\\$ 1,99, com cerca de 10 caixas. Para agilizar o cálculo de quanto cada cliente deve pagar ele desenvolveu um tabela que contém o número de itens que o cliente comprou e ao lado o valor da conta. Desta forma a atendente do caixa precisa apenas contar quantos itens o cliente está levando e olhar na tabela de preços. Você foi contratado para desenvolver o programa que monta esta tabela de preços, que conterá os preços de 1 até 50 produtos, conforme o exemplo abaixo:\n",
    "<pre>\n",
    "Lojas Quase Dois - Tabela de preços\n",
    "1 - R$ 1.99\n",
    "2 - R$ 3.98\n",
    "...\n",
    "50 - R$ 99.50\n",
    "</pre>"
   ]
  },
  {
   "cell_type": "code",
   "execution_count": 120,
   "id": "4fc4d54d",
   "metadata": {
    "id": "4fc4d54d"
   },
   "outputs": [
    {
     "name": "stdout",
     "output_type": "stream",
     "text": [
      "Lojas quase dois - tabela de preços:\n",
      "1 - R$ 1.99\n",
      "2 - R$ 3.98\n",
      "3 - R$ 5.97\n",
      "4 - R$ 7.96\n",
      "5 - R$ 9.95\n",
      "6 - R$ 11.94\n",
      "7 - R$ 13.93\n",
      "8 - R$ 15.92\n",
      "9 - R$ 17.91\n",
      "10 - R$ 19.9\n",
      "11 - R$ 21.89\n",
      "12 - R$ 23.88\n",
      "13 - R$ 25.87\n",
      "14 - R$ 27.86\n",
      "15 - R$ 29.85\n",
      "16 - R$ 31.84\n",
      "17 - R$ 33.83\n",
      "18 - R$ 35.82\n",
      "19 - R$ 37.81\n",
      "20 - R$ 39.8\n",
      "21 - R$ 41.79\n",
      "22 - R$ 43.78\n",
      "23 - R$ 45.77\n",
      "24 - R$ 47.76\n",
      "25 - R$ 49.75\n",
      "26 - R$ 51.74\n",
      "27 - R$ 53.73\n",
      "28 - R$ 55.72\n",
      "29 - R$ 57.71\n",
      "30 - R$ 59.7\n",
      "31 - R$ 61.69\n",
      "32 - R$ 63.68\n",
      "33 - R$ 65.67\n",
      "34 - R$ 67.66\n",
      "35 - R$ 69.65\n",
      "36 - R$ 71.64\n",
      "37 - R$ 73.63\n",
      "38 - R$ 75.62\n",
      "39 - R$ 77.61\n",
      "40 - R$ 79.6\n",
      "41 - R$ 81.59\n",
      "42 - R$ 83.58\n",
      "43 - R$ 85.57\n",
      "44 - R$ 87.56\n",
      "45 - R$ 89.55\n",
      "46 - R$ 91.54\n",
      "47 - R$ 93.53\n",
      "48 - R$ 95.52\n",
      "49 - R$ 97.51\n",
      "50 - R$ 99.5\n"
     ]
    }
   ],
   "source": [
    "print('Lojas quase dois - tabela de preços:')\n",
    "for i in range(50):\n",
    "    print(f'{i + 1} - R$ {1.99 * (i + 1)}')"
   ]
  },
  {
   "cell_type": "markdown",
   "id": "6cd19c52",
   "metadata": {
    "id": "6cd19c52"
   },
   "source": [
    "#### 12. Um funcionário de uma empresa recebe aumento salarial anualmente: Sabe-se que:\n",
    "<pre>\n",
    "Esse funcionário foi contratado em 1995, com salário inicial de R$ 1.000,00;\n",
    "Em 1996 recebeu aumento de 1,5% sobre seu salário inicial;\n",
    "A partir de 1997 (inclusive), os aumentos salariais sempre correspondem ao dobro do percentual do ano anterior. Faça um programa que determine o salário desse funcionário em 2003. \n",
    "</pre>"
   ]
  },
  {
   "cell_type": "markdown",
   "id": "227928d1",
   "metadata": {
    "id": "227928d1"
   },
   "source": [
    "#### 13. O cardápio de uma lanchonete é o seguinte:\n",
    "<pre>\n",
    "Especificação   Código  Preço\n",
    "Cachorro Quente 100     R$ 1,20\n",
    "Bauru Simples   101     R$ 1,30\n",
    "Bauru com ovo   102     R$ 1,50\n",
    "Hambúrguer      103     R$ 1,20\n",
    "Cheeseburguer   104     R$ 1,30\n",
    "Refrigerante    105     R$ 1,00\n",
    "Faça um programa que leia o código dos itens pedidos e as quantidades desejadas. Calcule e mostre o valor a ser pago por item (preço * quantidade) e o total geral do pedido. Considere que o cliente deve informar quando o pedido deve ser encerrado.\n",
    "</pre>"
   ]
  },
  {
   "cell_type": "markdown",
   "id": "9877b8ba",
   "metadata": {
    "id": "9877b8ba"
   },
   "source": [
    "#### 14. Uma grande emissora de televisão quer fazer uma enquete entre os seus telespectadores para saber qual o melhor jogador após cada jogo. Para isto, faz-se necessário o desenvolvimento de um programa, que será utilizado pelas telefonistas, para a computação dos votos. Sua equipe foi contratada para desenvolver este programa, utilizando a linguagem de programação Python. Para computar cada voto, a telefonista digitará um número, entre 1 e 23, correspondente ao número da camisa do jogador. Um número de jogador igual zero, indica que a votação foi encerrada. Se um número inválido for digitado, o programa deve ignorá-lo, mostrando uma breve mensagem de aviso, e voltando a pedir outro número. Após o final da votação, o programa deverá exibir:\n",
    "<pre>a. O total de votos computados;\n",
    "b. Os números e respectivos votos de todos os jogadores que receberam votos;\n",
    "c. O percentual de votos de cada um destes jogadores;\n",
    "d. O número do jogador escolhido como o melhor jogador da partida, juntamente com o número de votos e o percentual de votos dados a ele.\n",
    "        Observe que os votos inválidos e o zero final não devem ser computados como votos. O resultado aparece ordenado pelo número do jogador. O programa deve fazer uso de arrays. O programa deverá executar o cálculo do percentual de cada jogador através de uma função. Esta função receberá dois parâmetros: o número de votos de um jogador e o total de votos. A função calculará o percentual e retornará o valor calculado. Abaixo segue uma tela de exemplo. O disposição das informações deve ser o mais próxima possível ao exemplo. Os dados são fictícios e podem mudar a cada execução do programa. Ao final, o programa deve ainda gravar os dados referentes ao resultado da votação em um arquivo texto no disco, obedecendo a mesma disposição apresentada na tela.</pre>\n",
    "```\n",
    "Enquete: Quem foi o melhor jogador?\n",
    "\n",
    "Número do jogador (0=fim): 9\n",
    "Número do jogador (0=fim): 10\n",
    "Número do jogador (0=fim): 9\n",
    "Número do jogador (0=fim): 10\n",
    "Número do jogador (0=fim): 11\n",
    "Número do jogador (0=fim): 10\n",
    "Número do jogador (0=fim): 50\n",
    "Informe um valor entre 1 e 23 ou 0 para sair!\n",
    "Número do jogador (0=fim): 9\n",
    "Número do jogador (0=fim): 9\n",
    "Número do jogador (0=fim): 0\n",
    "\n",
    "Resultado da votação:\n",
    "\n",
    "Foram computados 8 votos.\n",
    "\n",
    "Jogador Votos           %\n",
    "9               4               50,0%\n",
    "10              3               37,5%\n",
    "11              1               12,5%\n",
    "``` "
   ]
  },
  {
   "cell_type": "code",
   "execution_count": 16,
   "id": "a867a372",
   "metadata": {},
   "outputs": [
    {
     "name": "stdout",
     "output_type": "stream",
     "text": [
      "Enquete: Qual foi o melhor jogador?\n",
      "Informe o número do jogador, sendo 0 para encerrar a votação.2\n",
      "Informe o número do jogador, sendo 0 para encerrar a votação.2\n",
      "Informe o número do jogador, sendo 0 para encerrar a votação.2\n",
      "Informe o número do jogador, sendo 0 para encerrar a votação.2\n",
      "Informe o número do jogador, sendo 0 para encerrar a votação.2\n",
      "Informe o número do jogador, sendo 0 para encerrar a votação.0\n",
      "Jogador\tVotos\tPorcentagem\n",
      "2\t5\t100%\n",
      "O melhor jogador foi o 2 com um total de 5 votos, com uma porcentagem de escolha de 100%\n"
     ]
    }
   ],
   "source": [
    "print('Enquete: Qual foi o melhor jogador?')\n",
    "votos = []\n",
    "for i in range(23):\n",
    "    votos.append(0)\n",
    "    \n",
    "while True:\n",
    "    num = int(input('Informe o número do jogador, sendo 0 para encerrar a votação.'))\n",
    "    if num == 0:\n",
    "        break\n",
    "    elif num < 1 or num > 23:\n",
    "        print('Informe um número entre 1 e 23!')\n",
    "        continue\n",
    "    else:\n",
    "        votos[num - 1] += 1\n",
    "\n",
    "for i, voto in enumerate(votos):\n",
    "    if voto > 0:\n",
    "        print('Jogador\\tVotos\\tPorcentagem')\n",
    "        print(f'{i + 1}\\t{voto}\\t{voto/sum(votos):.0%}')\n",
    "melhor = max(votos)\n",
    "i = votos.index(melhor)\n",
    "porcent = melhor/sum(votos)\n",
    "print('O melhor jogador foi o {} com um total de {} votos, com uma porcentagem de escolha de {:.0%}'.format(i + 1, melhor, porcent))"
   ]
  },
  {
   "cell_type": "code",
   "execution_count": null,
   "id": "f4ea8558",
   "metadata": {},
   "outputs": [],
   "source": []
  }
 ],
 "metadata": {
  "colab": {
   "collapsed_sections": [],
   "provenance": []
  },
  "kernelspec": {
   "display_name": "Python 3 (ipykernel)",
   "language": "python",
   "name": "python3"
  },
  "language_info": {
   "codemirror_mode": {
    "name": "ipython",
    "version": 3
   },
   "file_extension": ".py",
   "mimetype": "text/x-python",
   "name": "python",
   "nbconvert_exporter": "python",
   "pygments_lexer": "ipython3",
   "version": "3.9.13"
  }
 },
 "nbformat": 4,
 "nbformat_minor": 5
}
