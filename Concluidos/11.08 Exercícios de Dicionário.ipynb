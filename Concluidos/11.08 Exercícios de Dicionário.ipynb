{
 "cells": [
  {
   "cell_type": "markdown",
   "metadata": {},
   "source": [
    "# Exercícios\n",
    "\n",
    "## 1. Exercício \"menos prático\" para treinar manipulação de dicionário\n",
    "\n",
    "Dessa vez, vamos apenas treinar a manipulação de dicionário. Transforme as listas abaixo em 1 único dicionário no formato:"
   ]
  },
  {
   "cell_type": "raw",
   "metadata": {},
   "source": [
    "dicionario = {\n",
    "    produto: [vendas2019, vendas2020],\n",
    "    produto2: [vendas2019, vendas2020],\n",
    "    produto3: [vendas2019, vendas2020],\n",
    "    ...\n",
    "}"
   ]
  },
  {
   "cell_type": "markdown",
   "metadata": {},
   "source": [
    "- Apesar de parecer \"menos prático\" esse é um procedimento que precisamos nos acostumar a fazer, visto que algumas funções (tema dos próximos módulos) precisam de dicionários para funcionar e saber transformar listas em dicionários (e vice-versa) é uma habilidade muito útil\n",
    "\n",
    "Obs: Lembre do zip para juntar listas.<br>\n",
    "Obs2: Repare que cada item das vendas é na verdade uma lista. Então é provável que você precise fazer esse código em 2 etapas"
   ]
  },
  {
   "cell_type": "code",
   "execution_count": 26,
   "metadata": {},
   "outputs": [
    {
     "name": "stdout",
     "output_type": "stream",
     "text": [
      "iphone foi vendido em 2019: 558147 e em 2020: 951642.\n",
      "galaxy foi vendido em 2019: 712350 e em 2020: 244295.\n",
      "ipad foi vendido em 2019: 573823 e em 2020: 26964.\n",
      "tv foi vendido em 2019: 405252 e em 2020: 787604.\n",
      "máquina de café foi vendido em 2019: 718654 e em 2020: 867660.\n",
      "kindle foi vendido em 2019: 531580 e em 2020: 78830.\n",
      "geladeira foi vendido em 2019: 973139 e em 2020: 710331.\n",
      "adega foi vendido em 2019: 892292 e em 2020: 646016.\n",
      "notebook dell foi vendido em 2019: 422760 e em 2020: 694913.\n",
      "notebook hp foi vendido em 2019: 154753 e em 2020: 539704.\n",
      "notebook asus foi vendido em 2019: 887061 e em 2020: 324831.\n",
      "microsoft surface foi vendido em 2019: 438508 e em 2020: 667179.\n",
      "webcam foi vendido em 2019: 237467 e em 2020: 295633.\n",
      "caixa de som foi vendido em 2019: 489705 e em 2020: 725316.\n",
      "microfone foi vendido em 2019: 328311 e em 2020: 644622.\n",
      "câmera canon foi vendido em 2019: 591120 e em 2020: 994303.\n"
     ]
    }
   ],
   "source": [
    "produtos = ['iphone', 'galaxy', 'ipad', 'tv', 'máquina de café', 'kindle', 'geladeira', 'adega', 'notebook dell', 'notebook hp', 'notebook asus', 'microsoft surface', 'webcam', 'caixa de som', 'microfone', 'câmera canon']\n",
    "vendas2019 = [558147,712350,573823,405252,718654,531580,973139,892292,422760,154753,887061,438508,237467,489705,328311,591120]\n",
    "vendas2020 = [951642,244295,26964,787604,867660,78830,710331,646016,694913,539704,324831,667179,295633,725316,644622,994303]\n",
    "\n",
    "#seu código aqui\n",
    "vendas = zip(vendas2019, vendas2020)\n",
    "produtos_n = zip(produtos, vendas)\n",
    "dicio = dict(produtos_n)\n",
    "for item in dicio:\n",
    "    print('{} foi vendido em 2019: {} e em 2020: {}.'.format(item, dicio[item][0], dicio[item][1]))"
   ]
  }
 ],
 "metadata": {
  "kernelspec": {
   "display_name": "Python 3 (ipykernel)",
   "language": "python",
   "name": "python3"
  },
  "language_info": {
   "codemirror_mode": {
    "name": "ipython",
    "version": 3
   },
   "file_extension": ".py",
   "mimetype": "text/x-python",
   "name": "python",
   "nbconvert_exporter": "python",
   "pygments_lexer": "ipython3",
   "version": "3.9.13"
  }
 },
 "nbformat": 4,
 "nbformat_minor": 4
}
