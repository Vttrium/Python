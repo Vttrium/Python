{
 "cells": [
  {
   "cell_type": "markdown",
   "metadata": {},
   "source": [
    "# Exercícios\n",
    "\n",
    "## 1. Criando um Registro de Hóspedes\n",
    "\n",
    "Digamos que você está criando o sistema para registrar a chegada de hóspedes em um hotel. No hotel, os hóspedes podem ter quartos com 1, 2, 3 e 4 pessoas. Seu sistema deve conseguir:\n",
    "\n",
    "1. Identificar quantas pessoas o hóspede que acabou de chegar vai ter no quarto (perguntando por meio de input)\n",
    "2. De acordo com a quantidade de pessoas do hóspede, ele deve fazer um for para perguntar o cpf e o nome de cada pessoa, a fim de registrá-la no quarto (2 inputs para cada pessoa, 1 para o cpf e outro para o nome)\n",
    "3. O seu programa então deve gerar uma lista com todas as pessoas que ficarão no quarto em que cada item dessa lista é o nome da pessoa e o cpf da pessoa, assim:"
   ]
  },
  {
   "cell_type": "raw",
   "metadata": {},
   "source": [
    "quarto = [\n",
    "    ['João', 'cpf:00000000000'],\n",
    "    ['Julia', 'cpf:11111111111'],\n",
    "    ['Marcus', 'cpf:22222222222'],\n",
    "    ['Maria', 'cpf:33333333333'],\n",
    "]"
   ]
  },
  {
   "cell_type": "markdown",
   "metadata": {},
   "source": [
    "- Para simplificar, não vamos nos preocupar com possibilidades de \"tentar colocar mais de 1 hóspede, digitar o cpf errado, etc. Nosso objetivo é treinar a criação de uma rotina de cadastro"
   ]
  },
  {
   "cell_type": "code",
   "execution_count": 1,
   "metadata": {},
   "outputs": [
    {
     "name": "stdout",
     "output_type": "stream",
     "text": [
      "[['121', '12312312323'], ['123', '12312312323']]\n"
     ]
    }
   ],
   "source": [
    "#seu código aqui[\n",
    "quarto = []\n",
    "quantas = int(input('Informe quantas pessoas estaram nesse quarto: '))\n",
    "if quantas == 1:\n",
    "    nome = input('Informe o seu nome: ')\n",
    "    cpf = input('Informe o seu CPF: ')\n",
    "    lista = []\n",
    "    lista.append(nome)\n",
    "    lista.append(cpf)\n",
    "    quarto.append(lista)\n",
    "    print(quarto)\n",
    "if quantas > 1:\n",
    "    for i in range(quantas):\n",
    "        nome = input('Informe o seu nome: ')\n",
    "        cpf = input('Informe o seu CPF: ')\n",
    "        lista = []\n",
    "        lista.append(nome)\n",
    "        lista.append(cpf)\n",
    "        quarto.append(lista)\n",
    "print(quarto)"
   ]
  },
  {
   "cell_type": "markdown",
   "metadata": {},
   "source": [
    "## 2. Análise de Vendas\n",
    "\n",
    "Nesse exercício vamos fazer uma \"análise simples\" de atingimento de Meta.\n",
    "\n",
    "Temos uma lista com os vendedores e os valores de vendas e queremos identificar (printar) quais os vendedores que bateram a meta e qual foi o valor que eles venderam."
   ]
  },
  {
   "cell_type": "code",
   "execution_count": 14,
   "metadata": {},
   "outputs": [
    {
     "name": "stdout",
     "output_type": "stream",
     "text": [
      "O vendedor João bateu a meta, vendendo 15000.\n",
      "O vendedor Julia bateu a meta, vendendo 27000.\n",
      "O vendedor Ana bateu a meta, vendendo 10300.\n"
     ]
    }
   ],
   "source": [
    "meta = 10000\n",
    "vendas = [\n",
    "    ['João', 15000],\n",
    "    ['Julia', 27000],\n",
    "    ['Marcus', 9900],\n",
    "    ['Maria', 3750],\n",
    "    ['Ana', 10300],\n",
    "    ['Alon', 7870],\n",
    "]\n",
    "#seu código aqui\n",
    "ind = len(vendas)\n",
    "for i in range(ind):\n",
    "    if vendas[i][1] > meta:\n",
    "        print('O vendedor {} bateu a meta, vendendo {}.'.format(vendas[i][0], vendas[i][1]))\n",
    "    else:\n",
    "        pass"
   ]
  },
  {
   "cell_type": "markdown",
   "metadata": {},
   "source": [
    "## 3. Comparação com Ano Anterior\n",
    "\n",
    "Digamos que você está analisando as vendas de produtos de um ecommerce e quer identificar quais produtos tiveram no ano de 2020 mais vendas do que no ano de 2019, para reportar isso para a diretoria.\n",
    "\n",
    "Sua resposta pode ser um print de cada produto, qual foi a venda de 2019, a venda de 2020 e o % de crescimento de 2020 para 2019.\n",
    "\n",
    "Lembrando, para calcular o % de crescimento de um produto de um ano para o outro, podemos fazer: (vendas_produto2020/vendas_produto2019 - 1)\n",
    "\n",
    "Dica: lembre do enumerate, ele pode facilitar seu \"for\""
   ]
  },
  {
   "cell_type": "code",
   "execution_count": 35,
   "metadata": {},
   "outputs": [
    {
     "name": "stdout",
     "output_type": "stream",
     "text": [
      "O produto iphone, teve em 2019: 558147 vendas, em 2020: 951642 vendas e teve um crescimento de +70.50%.\n",
      "\n",
      "O produto galaxy, teve em 2019: 712350 vendas, em 2020: 244295 vendas e teve um crescimento de -65.71%.\n",
      "\n",
      "O produto ipad, teve em 2019: 573823 vendas, em 2020: 26964 vendas e teve um crescimento de -95.30%.\n",
      "\n",
      "O produto tv, teve em 2019: 405252 vendas, em 2020: 787604 vendas e teve um crescimento de +94.35%.\n",
      "\n",
      "O produto máquina de café, teve em 2019: 718654 vendas, em 2020: 867660 vendas e teve um crescimento de +20.73%.\n",
      "\n",
      "O produto kindle, teve em 2019: 531580 vendas, em 2020: 78830 vendas e teve um crescimento de -85.17%.\n",
      "\n",
      "O produto geladeira, teve em 2019: 973139 vendas, em 2020: 710331 vendas e teve um crescimento de -27.01%.\n",
      "\n",
      "O produto adega, teve em 2019: 892292 vendas, em 2020: 646016 vendas e teve um crescimento de -27.60%.\n",
      "\n",
      "O produto notebook dell, teve em 2019: 422760 vendas, em 2020: 694913 vendas e teve um crescimento de +64.38%.\n",
      "\n",
      "O produto notebook hp, teve em 2019: 154753 vendas, em 2020: 539704 vendas e teve um crescimento de +248.75%.\n",
      "\n",
      "O produto notebook asus, teve em 2019: 887061 vendas, em 2020: 324831 vendas e teve um crescimento de -63.38%.\n",
      "\n",
      "O produto microsoft surface, teve em 2019: 438508 vendas, em 2020: 667179 vendas e teve um crescimento de +52.15%.\n",
      "\n",
      "O produto webcam, teve em 2019: 237467 vendas, em 2020: 295633 vendas e teve um crescimento de +24.49%.\n",
      "\n",
      "O produto caixa de som, teve em 2019: 489705 vendas, em 2020: 725316 vendas e teve um crescimento de +48.11%.\n",
      "\n",
      "O produto microfone, teve em 2019: 328311 vendas, em 2020: 644622 vendas e teve um crescimento de +96.34%.\n",
      "\n",
      "O produto câmera canon, teve em 2019: 591120 vendas, em 2020: 994303 vendas e teve um crescimento de +68.21%.\n",
      "\n"
     ]
    }
   ],
   "source": [
    "produtos = ['iphone', 'galaxy', 'ipad', 'tv', 'máquina de café', 'kindle', 'geladeira', 'adega', 'notebook dell', 'notebook hp', 'notebook asus', 'microsoft surface', 'webcam', 'caixa de som', 'microfone', 'câmera canon']\n",
    "vendas2019 = [558147,712350,573823,405252,718654,531580,973139,892292,422760,154753,887061,438508,237467,489705,328311,591120]\n",
    "vendas2020 = [951642,244295,26964,787604,867660,78830,710331,646016,694913,539704,324831,667179,295633,725316,644622,994303]\n",
    "#seu código aqui\n",
    "\n",
    "for i, qtde in enumerate(vendas2019):\n",
    "    vendas_percent = vendas2020[i]/vendas2019[i] - 1\n",
    "    if vendas2020[i]  < vendas2019[i]:\n",
    "        print('O produto {}, teve em 2019: {} vendas, em 2020: {} vendas e teve um crescimento de {:.2%}.\\n'.format(produtos[i], vendas2019[i], vendas2020[i], vendas_percent))\n",
    "    else:\n",
    "        print('O produto {}, teve em 2019: {} vendas, em 2020: {} vendas e teve um crescimento de {:+.2%}.\\n'.format(produtos[i], vendas2019[i], vendas2020[i], vendas_percent))"
   ]
  },
  {
   "cell_type": "code",
   "execution_count": null,
   "metadata": {},
   "outputs": [],
   "source": []
  }
 ],
 "metadata": {
  "kernelspec": {
   "display_name": "Python 3",
   "language": "python",
   "name": "python3"
  },
  "language_info": {
   "codemirror_mode": {
    "name": "ipython",
    "version": 3
   },
   "file_extension": ".py",
   "mimetype": "text/x-python",
   "name": "python",
   "nbconvert_exporter": "python",
   "pygments_lexer": "ipython3",
   "version": "3.11.9"
  }
 },
 "nbformat": 4,
 "nbformat_minor": 4
}
