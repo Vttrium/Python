{
 "cells": [
  {
   "cell_type": "markdown",
   "id": "2b04bbea",
   "metadata": {},
   "source": [
    "# Strings\n",
    "\n",
    "<span style=\"color: red;\"><b>Todos os exercícios são feitos partindo-se do pressuposto de que todas as entradas são dadas de forma correta. Casos limite não mencionados no enunciado não são abordados porque não fazem parte do exercício.</b></span>"
   ]
  },
  {
   "cell_type": "markdown",
   "id": "5b1f33b9",
   "metadata": {},
   "source": [
    "#### 1. Tamanho de strings. Faça um programa que leia 2 strings e informe o conteúdo delas seguido do seu comprimento. Informe também se as duas strings possuem o mesmo comprimento e são iguais ou diferentes no conteúdo.\n",
    "<pre>\n",
    "Compara duas strings\n",
    "String 1: Brasil Hexa 2006\n",
    "String 2: Brasil! Hexa 2006!\n",
    "Tamanho de \"Brasil Hexa 2006\": 16 caracteres\n",
    "Tamanho de \"Brasil! Hexa 2006!\": 18 caracteres\n",
    "As duas strings são de tamanhos diferentes.\n",
    "As duas strings possuem conteúdo diferente.\n",
    "</pre>"
   ]
  },
  {
   "cell_type": "code",
   "execution_count": 3,
   "id": "c492b657",
   "metadata": {},
   "outputs": [
    {
     "name": "stdout",
     "output_type": "stream",
     "text": [
      "Informe uma frase ou texto: 980\n",
      "Informe uma frase ou texto: 890\n",
      "As duas strings são de tamanhos iguais.\n",
      "As duas strings possuem conteúdo diferente.\n"
     ]
    }
   ],
   "source": [
    "string_1 = input('Informe uma frase ou texto: ')\n",
    "string_2 = input('Informe uma frase ou texto: ')\n",
    "\n",
    "if len(string_1) == len(string_2):\n",
    "    print('As duas strings são de tamanhos iguais.')\n",
    "else:\n",
    "    print('As duas strings são de tamanhos diferentes.')\n",
    "if string_1 == string_2:\n",
    "    print('As duas strings possuem conteúdo igual.')\n",
    "else:\n",
    "    print('As duas strings possuem conteúdo diferente.')"
   ]
  },
  {
   "cell_type": "markdown",
   "id": "c3068a53",
   "metadata": {},
   "source": [
    "#### 2. Valida e corrige número de telefone. Faça um programa que leia um número de telefone, e corrija o número no caso deste conter somente 7 dígitos, acrescentando o '3' na frente. O usuário pode informar o número com ou sem o traço separador.\n",
    "<pre>\n",
    "Valida e corrige número de telefone\n",
    "Telefone: 461-0133\n",
    "Telefone possui 7 dígitos. Vou acrescentar o digito três na frente.\n",
    "Telefone corrigido sem formatação: 34610133\n",
    "Telefone corrigido com formatação: 3461-0133\n",
    "</pre>"
   ]
  },
  {
   "cell_type": "code",
   "execution_count": 26,
   "id": "0308566d",
   "metadata": {},
   "outputs": [
    {
     "name": "stdout",
     "output_type": "stream",
     "text": [
      "Informe o número: oooo-ooo0\n",
      "Número inválido\n"
     ]
    }
   ],
   "source": [
    "num = input('Informe o número: ')\n",
    "\n",
    "num = num.replace('-', '')\n",
    "str(len(num))\n",
    "if len(num) == 7 and num.isnumeric():\n",
    "    num1 = ('3' + num)\n",
    "    print(num1)\n",
    "else:\n",
    "    if len(num) != 8 or not num.isalpha():\n",
    "        print('Número inválido')\n",
    "    else:\n",
    "        print(num)"
   ]
  },
  {
   "cell_type": "code",
   "execution_count": null,
   "id": "3296b290",
   "metadata": {},
   "outputs": [],
   "source": []
  }
 ],
 "metadata": {
  "kernelspec": {
   "display_name": "Python 3 (ipykernel)",
   "language": "python",
   "name": "python3"
  },
  "language_info": {
   "codemirror_mode": {
    "name": "ipython",
    "version": 3
   },
   "file_extension": ".py",
   "mimetype": "text/x-python",
   "name": "python",
   "nbconvert_exporter": "python",
   "pygments_lexer": "ipython3",
   "version": "3.9.13"
  }
 },
 "nbformat": 4,
 "nbformat_minor": 5
}
