{
 "cells": [
  {
   "cell_type": "markdown",
   "id": "8535c274",
   "metadata": {
    "id": "8535c274"
   },
   "source": [
    "# Estruturas de decisão\n",
    "\n",
    "<span style=\"color: red;\"><b>Todos os exercícios são feitos partindo-se do pressuposto de que todas as entradas são dadas de forma correta. Casos limite não mencionados no enunciado não são abordados porque não fazem parte do exercício.</b></span>"
   ]
  },
  {
   "cell_type": "markdown",
   "id": "9c3d817e",
   "metadata": {
    "id": "9c3d817e"
   },
   "source": [
    "#### 1. Faça um Programa que peça dois números e imprima o maior deles."
   ]
  },
  {
   "cell_type": "code",
   "execution_count": 3,
   "id": "ae45c028",
   "metadata": {
    "id": "ae45c028"
   },
   "outputs": [
    {
     "name": "stdout",
     "output_type": "stream",
     "text": [
      "Informe um número:2\n",
      "Informe um número:1\n",
      "2\n"
     ]
    }
   ],
   "source": [
    "Num1 = int(input('Informe um número:'))\n",
    "Num2 = int(input('Informe um número:'))\n",
    "\n",
    "if Num1 > Num2:\n",
    "    print(Num1)\n",
    "else:\n",
    "    print(Num2)"
   ]
  },
  {
   "cell_type": "markdown",
   "id": "ff510803",
   "metadata": {
    "id": "ff510803"
   },
   "source": [
    "#### 2. Faça um Programa que peça um valor e mostre na tela se o valor é positivo ou negativo."
   ]
  },
  {
   "cell_type": "code",
   "execution_count": 5,
   "id": "8952f58f",
   "metadata": {
    "id": "8952f58f"
   },
   "outputs": [
    {
     "name": "stdout",
     "output_type": "stream",
     "text": [
      "Informe um valor:-1\n",
      "O valor é negativo.\n"
     ]
    }
   ],
   "source": [
    "num = float(input('Informe um valor:'))\n",
    "\n",
    "if num < 0:\n",
    "    print('O valor é negativo.')\n",
    "else:\n",
    "    print('O valor é positivo.')"
   ]
  },
  {
   "cell_type": "markdown",
   "id": "6966546b",
   "metadata": {
    "id": "6966546b"
   },
   "source": [
    "#### 3. Faça um Programa que verifique o estado civil de uma pessoa. Se a letra digitada é \"C\" (Casado), \"S\" (Solteiro), \"D\" (Divorciado), \"V\" (Viúvo) ou \"O\" (outros). Conforme a letra escrita pelo usuário seu programa deve escrever o estado civil, exemplo:\n",
    "\n",
    "Usuário digita: C\n",
    "\n",
    "Seu programa deve responder:\n",
    "C - Casado"
   ]
  },
  {
   "cell_type": "code",
   "execution_count": 18,
   "id": "876a1e67",
   "metadata": {
    "id": "876a1e67"
   },
   "outputs": [
    {
     "name": "stdout",
     "output_type": "stream",
     "text": [
      "Informe o seu estado civil: C, S, D, V ou O: C\n",
      "C - Casado\n"
     ]
    }
   ],
   "source": [
    "Letra = input('Informe o seu estado civil: C, S, D, V ou O: ')\n",
    "\n",
    "if Letra == '':\n",
    "    print('Preença seu estado civil.')\n",
    "else:\n",
    "    if Letra == 'C':\n",
    "        print('C - Casado')\n",
    "    else:\n",
    "        pass\n",
    "    if Letra == 'S':\n",
    "        print('S - Solteiro')\n",
    "    else:\n",
    "        pass\n",
    "    if Letra == 'D':\n",
    "        print('D - Divorviado')\n",
    "    else:\n",
    "        pass\n",
    "    if Letra == 'V':\n",
    "        print('V - Viúvo')\n",
    "    else:\n",
    "        pass\n",
    "    if Letra == 'O':\n",
    "        print('O - Outros')"
   ]
  },
  {
   "cell_type": "markdown",
   "id": "c122c0cf",
   "metadata": {
    "id": "c122c0cf"
   },
   "source": [
    "#### 4. Faça um Programa que verifique se o e-mail digitado faz parte dos e-mails de spam."
   ]
  },
  {
   "cell_type": "code",
   "execution_count": 30,
   "id": "59bed184",
   "metadata": {
    "id": "59bed184"
   },
   "outputs": [
    {
     "name": "stdout",
     "output_type": "stream",
     "text": [
      "Informe o email a ser verificado: e@.c\n",
      "Esse email não faz parte dos emails de spam.\n"
     ]
    }
   ],
   "source": [
    "emails_spam = \"fulano@gmail.com,beltrano@gmail.com,ciclano@gmail.com\"\n",
    "\n",
    "Email = input('Informe o email a ser verificado: ')\n",
    "\n",
    "if not '@' in Email:\n",
    "    print('Informe um email!')\n",
    "else:\n",
    "    if Email == ('fulano@gmail.com' or 'beltrano@gmail.com' or 'ciclano@gmail.com'):\n",
    "        print('Esse email faz parte dos emails de spam.')\n",
    "    else:\n",
    "        print('Esse email não faz parte dos emails de spam.')"
   ]
  },
  {
   "cell_type": "markdown",
   "id": "487ee073",
   "metadata": {
    "id": "487ee073"
   },
   "source": [
    "#### 5. Faça um programa para a leitura de duas notas parciais de um aluno. O programa deve calcular a média alcançada por aluno e apresentar:\n",
    "\n",
    "##### A mensagem \"Aprovado\", se a média alcançada for maior ou igual a sete;\n",
    "##### A mensagem \"Reprovado\", se a média for menor do que sete;\n",
    "##### A mensagem \"Aprovado com Distinção\", se a média for igual a dez."
   ]
  },
  {
   "cell_type": "code",
   "execution_count": 38,
   "id": "7f5c7096",
   "metadata": {
    "id": "7f5c7096"
   },
   "outputs": [
    {
     "name": "stdout",
     "output_type": "stream",
     "text": [
      "Informe a primeira nota do aluno: 4\n",
      "Informe a segunda nota do aluno: 4\n",
      "Reprovado.\n",
      "Reprovado\n"
     ]
    }
   ],
   "source": [
    "nota1 = float(input('Informe a primeira nota do aluno: '))\n",
    "nota2 = float(input('Informe a segunda nota do aluno: '))\n",
    "\n",
    "media = (nota1 + nota2) / 2\n",
    "\n",
    "if media >= 7:\n",
    "    if media == 10:\n",
    "        print('Aprovado com Distinção.')\n",
    "    else:\n",
    "        print('Aprovado.')\n",
    "else:\n",
    "    print('Reprovado.')\n",
    "\n",
    "\n",
    "if media < 7:\n",
    "    print('Reprovado')\n",
    "elif media == 10:\n",
    "    print('Aprovado com Distinção')\n",
    "else:\n",
    "    print('Aprovado')"
   ]
  },
  {
   "cell_type": "markdown",
   "id": "6dd3f171",
   "metadata": {
    "id": "6dd3f171"
   },
   "source": [
    "#### 6. Faça um Programa que leia o orçamento de 3 empresas e mostre o maior deles."
   ]
  },
  {
   "cell_type": "code",
   "execution_count": 46,
   "id": "51b591e5",
   "metadata": {
    "id": "51b591e5"
   },
   "outputs": [
    {
     "name": "stdout",
     "output_type": "stream",
     "text": [
      "Informe o orçamento da 1° Empresa: 10\n",
      "Informe o orçamento da 2° Empresa: 2\n",
      "Informe o orçamento da 3° Empresa: 4\n",
      "O maior orçamento é da empresa 1: 10.0.\n"
     ]
    }
   ],
   "source": [
    "empresa_1 = float(input('Informe o orçamento da 1° Empresa: '))\n",
    "empresa_2 = float(input('Informe o orçamento da 2° Empresa: '))\n",
    "empresa_3 = float(input('Informe o orçamento da 3° Empresa: '))\n",
    "\n",
    "if empresa_1 > (empresa_2 and empresa_3):\n",
    "    print(f'O maior orçamento é da empresa 1: {empresa_1}.')\n",
    "else:\n",
    "    pass\n",
    "if empresa_2 > (empresa_1 and empresa_3):\n",
    "    print(f'O maior orçamento é da empresa 2: {empresa_2}.')\n",
    "else:\n",
    "    pass\n",
    "if empresa_3 > (empresa_2 and empresa_1):\n",
    "    print(f'O maior orçamento é da empresa 3: {empresa_3}.')"
   ]
  },
  {
   "cell_type": "markdown",
   "id": "ce09ed1c",
   "metadata": {
    "id": "ce09ed1c"
   },
   "source": [
    "#### 7. Faça um Programa que leia três orçamentos e mostre o maior e o menor deles."
   ]
  },
  {
   "cell_type": "code",
   "execution_count": 60,
   "id": "249f1eb8",
   "metadata": {
    "id": "249f1eb8"
   },
   "outputs": [
    {
     "name": "stdout",
     "output_type": "stream",
     "text": [
      "Informe o orçamento da 1° Empresa: 1\n",
      "Informe o orçamento da 2° Empresa: 10\n",
      "Informe o orçamento da 3° Empresa: 2\n",
      "O maior orçamento é da empresa 2: 10.0.\n",
      "O menor orçamento é da empresa 1: 1.0.\n"
     ]
    }
   ],
   "source": [
    "empresa_1 = float(input('Informe o orçamento da 1° Empresa: '))\n",
    "empresa_2 = float(input('Informe o orçamento da 2° Empresa: '))\n",
    "empresa_3 = float(input('Informe o orçamento da 3° Empresa: '))\n",
    "\n",
    "if empresa_1 > empresa_2 and empresa_1 > empresa_3:\n",
    "    print(f'O maior orçamento é da empresa 1: {empresa_1}.')\n",
    "elif empresa_2 > empresa_1 and empresa_2 > empresa_3:\n",
    "    print(f'O maior orçamento é da empresa 2: {empresa_2}.')\n",
    "elif empresa_3 > empresa_1 and empresa_3 > empresa_2:\n",
    "    print(f'O maior orçamento é da empresa 3: {empresa_3}.')\n",
    "    \n",
    "if empresa_1 < empresa_2 and empresa_1 < empresa_3:\n",
    "    print(f'O menor orçamento é da empresa 1: {empresa_1}.')\n",
    "elif empresa_2 < empresa_1 and empresa_2 < empresa_3:\n",
    "    print(f'O menor orçamento é da empresa 2: {empresa_2}.')\n",
    "elif empresa_3 < empresa_1 and empresa_3 < empresa_2:\n",
    "    print(f'O menor orçamento é da empresa 3: {empresa_3}.')"
   ]
  },
  {
   "cell_type": "markdown",
   "id": "7453d43a",
   "metadata": {
    "id": "7453d43a"
   },
   "source": [
    "#### 8. Faça um programa que pergunte o preço de três produtos e informe qual produto você deve comprar, sabendo que a decisão é sempre pelo mais barato."
   ]
  },
  {
   "cell_type": "code",
   "execution_count": 61,
   "id": "26a9503e",
   "metadata": {
    "id": "26a9503e"
   },
   "outputs": [
    {
     "name": "stdout",
     "output_type": "stream",
     "text": [
      "Informe o preço do produto 1: 3\n",
      "Informe o preço do produto 2: 2\n",
      "Informe o preço do produto 3: 4\n",
      "O menor preço é do preço 2: 2.0.\n"
     ]
    }
   ],
   "source": [
    "preco_1 = float(input('Informe o preço do produto 1: '))\n",
    "preco_2 = float(input('Informe o preço do produto 2: '))\n",
    "preco_3 = float(input('Informe o preço do produto 3: '))\n",
    "\n",
    "if preco_1 < preco_2 and preco_1 < preco_3:\n",
    "    print(f'O menor preço é do preço 1: {preco_1}.')\n",
    "elif preco_2 < preco_1 and preco_2 < preco_3:\n",
    "    print(f'O menor preço é do preço 2: {preco_2}.')\n",
    "elif preco_3 < preco_1 and preco_3 < preco_2:\n",
    "    print(f'O menor preço é do preço 3: {preco_3}.')\n"
   ]
  },
  {
   "cell_type": "markdown",
   "id": "9ade258f",
   "metadata": {
    "id": "9ade258f"
   },
   "source": [
    "#### 9. Faça um Programa que leia três números e mostre-os em ordem decrescente."
   ]
  },
  {
   "cell_type": "code",
   "execution_count": 70,
   "id": "3172076f",
   "metadata": {},
   "outputs": [
    {
     "name": "stdout",
     "output_type": "stream",
     "text": [
      "Informe o valor do número 1: 3\n",
      "Informe o preço do número 2: 1\n",
      "Informe o preço do número 3: 2\n",
      "O maior orçamento é da num 1: 3.0.\n",
      "2.0\n",
      "O menor orçamento é da num 2: 1.0.\n"
     ]
    }
   ],
   "source": [
    "num_1 = float(input('Informe o valor do número 1: '))\n",
    "num_2 = float(input('Informe o preço do número 2: '))\n",
    "num_3 = float(input('Informe o preço do número 3: '))\n",
    "\n",
    "if num_1 > num_2 and num_1 > num_3:\n",
    "    print(f'O maior orçamento é da num 1: {num_1}.')\n",
    "elif num_2 > num_1 and num_2 > num_3:\n",
    "    print(f'O maior orçamento é da num 2: {num_2}.')\n",
    "elif num_3 > num_1 and num_3 > num_2:\n",
    "    print(f'O maior orçamento é da empresa 3: {num_3}.')\n",
    "    \n",
    "if num_1 > num_2 and num_1 > num_3:\n",
    "    pass\n",
    "else:\n",
    "    if num_1 < num_2 and num_1 < num_3:\n",
    "        pass\n",
    "    else:\n",
    "        print(num_1)\n",
    "if num_2 > num_1 and num_2 > num_3:\n",
    "    pass\n",
    "else:\n",
    "    if num_2 < num_1 and num_2 < num_3:\n",
    "        pass\n",
    "    else:\n",
    "        print(num_2)\n",
    "if num_3 > num_1 and num_3 > num_2:\n",
    "    pass\n",
    "else:\n",
    "    if num_3 < num_2 and num_3 < num_1:\n",
    "        pass\n",
    "    else:\n",
    "        print(num_3)\n",
    "\n",
    "if num_1 < num_2 and num_1 < num_3: \n",
    "    print(f'O menor orçamento é da num 1: {num_1}.') \n",
    "elif num_2 < num_1 and num_2 < num_3: \n",
    "    print(f'O menor orçamento é da num 2: {num_2}.')\n",
    "elif num_3 < num_1 and num_3 < num_2:\n",
    "    print(f'O menor orçamento é da num 3: {num_3}.')"
   ]
  },
  {
   "cell_type": "markdown",
   "id": "d06e2fe8",
   "metadata": {
    "id": "d06e2fe8"
   },
   "source": [
    "#### 10. Faça um Programa que pergunte em que turno você estuda. Peça para digitar M-matutino ou V-Vespertino ou N- Noturno. Imprima a mensagem \"Bom Dia!\", \"Boa Tarde!\" ou \"Boa Noite!\" ou \"Valor Inválido!\", conforme o caso."
   ]
  },
  {
   "cell_type": "code",
   "execution_count": 79,
   "id": "1eb36141",
   "metadata": {
    "id": "1eb36141"
   },
   "outputs": [
    {
     "name": "stdout",
     "output_type": "stream",
     "text": [
      "Informe o seu turno entre: M-matutino, V-Vespertino e N-Noturno: N- Noturno\n",
      "Valor Inválido!\n"
     ]
    }
   ],
   "source": [
    "turno = input('Informe o seu turno entre: M-matutino, V-Vespertino e N-Noturno: ')\n",
    "\n",
    "if 'M-matutino' in turno:\n",
    "    print('Bom dia!')\n",
    "elif 'V-Vespertino' in turno:\n",
    "    print('Boa Tarde!')\n",
    "elif 'N-Noturno' in turno:\n",
    "    print('Boa Noite!')\n",
    "else:\n",
    "    print('Valor Inválido!')"
   ]
  },
  {
   "cell_type": "markdown",
   "id": "4864b755",
   "metadata": {
    "id": "4864b755"
   },
   "source": [
    "#### 11. As Organizações Tabajara resolveram dar um aumento de salário aos seus colaboradores e lhe contraram para desenvolver o programa que calculará os reajustes. Faça um programa que recebe o salário de um colaborador e o reajuste segundo o seguinte critério, baseado no salário atual:\n",
    "\n",
    "##### salários até R\\\\$ 280,00 (incluindo) : aumento de 20% \n",
    "\n",
    "##### salários entre R\\\\$ 280,00 e R\\\\$ 700,00 : aumento de 15% \n",
    "\n",
    "##### salários entre R\\\\$ 700,00 e R\\\\$ 1500,00 : aumento de 10% \n",
    "\n",
    "##### salários de R\\\\$ 1500,00 em diante : aumento de 5% Após o aumento ser realizado, informe na tela: \n",
    "\n",
    "###### o salário antes do reajuste;\n",
    "\n",
    "###### o percentual de aumento aplicado;\n",
    "\n",
    "###### o valor do aumento;\n",
    "\n",
    "###### o novo salário, após o aumento.\n",
    "\n",
    "###### Obs: Não vamos nos preocupar tanto com a formatação dos números (nº de casas decimais, por exemplo, veremos isso no próximo módulo)"
   ]
  },
  {
   "cell_type": "code",
   "execution_count": 86,
   "id": "f0d34916",
   "metadata": {
    "id": "f0d34916"
   },
   "outputs": [
    {
     "name": "stdout",
     "output_type": "stream",
     "text": [
      "Informe seu salário:1501\n",
      "1501.0\n",
      "0.05\n",
      "75.05\n",
      "1576.05\n"
     ]
    }
   ],
   "source": [
    "salario = float(input('Informe seu salário:'))\n",
    "\n",
    "if salario <= 280:\n",
    "    taxa = 0.20\n",
    "    print(salario)\n",
    "    print(taxa)\n",
    "    aumento = taxa * salario    \n",
    "    print(taxa * salario)\n",
    "    print(salario + aumento)\n",
    "elif salario > 280 and salario <= 700:\n",
    "    taxa = 0.15\n",
    "    print(salario)\n",
    "    print(taxa)\n",
    "    aumento = taxa * salario    \n",
    "    print(taxa * salario)\n",
    "    print(salario + aumento)\n",
    "elif salario > 700 and salario <= 1500:\n",
    "    taxa = 0.10\n",
    "    print(salario)\n",
    "    print(taxa)\n",
    "    aumento = taxa * salario    \n",
    "    print(taxa * salario)\n",
    "    print(salario + aumento)\n",
    "elif salario > 1500:\n",
    "    taxa = 0.05\n",
    "    print(salario)\n",
    "    print(taxa)\n",
    "    aumento = taxa * salario    \n",
    "    print(taxa * salario)\n",
    "    print(salario + aumento)"
   ]
  },
  {
   "cell_type": "markdown",
   "id": "b037f1e8",
   "metadata": {
    "id": "b037f1e8"
   },
   "source": [
    "#### 12 . Faça um programa para o cálculo de uma folha de pagamento, sabendo que os descontos são do Imposto de Renda, que depende do salário bruto (conforme tabela abaixo) e 3% para o Sindicato e que o FGTS corresponde a 11% do Salário Bruto, mas não é descontado (é a empresa que deposita). O Salário Líquido corresponde ao Salário Bruto menos os descontos. O programa deverá pedir ao usuário o valor da sua hora e a quantidade de horas trabalhadas no mês.\n",
    "\n",
    "Desconto do IR:<br>\n",
    "Salário Bruto até 900 (inclusive) - isento<br>\n",
    "Salário Bruto até 1500 (inclusive) - desconto de 5%<br>\n",
    "Salário Bruto até 2500 (inclusive) - desconto de 10%<br>\n",
    "Salário Bruto acima de 2500 - desconto de 20%<br>\n",
    "Imprima na tela as informações, dispostas conforme o exemplo abaixo. No exemplo o valor da hora é 5 e a quantidade de hora é 220.\n",
    "\n",
    "Salário Bruto: (5 * 220)        : R\\\\$ 1100,00<br>\n",
    "(-) IR (5%)                     : R\\\\$   55,00<br>\n",
    "(-) INSS ( 10%)                 : R\\\\$  110,00<br>\n",
    "FGTS (11%)                      : R\\\\$  121,00<br>\n",
    "Total de descontos              : R\\\\$  165,00<br>\n",
    "Salário Liquido                 : R\\\\$  935,00<br>\n",
    "\n",
    "###### Obs: Não vamos nos preocupar tanto com a formatação dos números (nº de casas decimais, por exemplo, veremos isso no próximo módulo)"
   ]
  },
  {
   "cell_type": "code",
   "execution_count": 88,
   "id": "dad18bb2",
   "metadata": {
    "id": "dad18bb2"
   },
   "outputs": [
    {
     "name": "stdout",
     "output_type": "stream",
     "text": [
      "Informe quanto vale a sua hora trabalhada:3\n",
      "Informe quantas horas foram trabalhadas:220\n",
      "O salário bruto é de 660.0.\n",
      "O desconto de IR é de 0.\n",
      "O desconto do sindicato é de 19.8.\n",
      "O desconto do FGTS é de 72.6.\n",
      "O desconto total no salário é de 19.8.\n",
      "O salário líquido é de 640.2.\n"
     ]
    }
   ],
   "source": [
    "valor_h = float(input('Informe quanto vale a sua hora trabalhada:'))\n",
    "horas = int(input('Informe quantas horas foram trabalhadas:'))\n",
    "salario = valor_h * horas\n",
    "\n",
    "desconto_Sin = 0.03 * salario\n",
    "desconto_FGTS = 0.11 * salario\n",
    "\n",
    "if salario <= 900 and salario > 0:\n",
    "    desconto_IR = 0\n",
    "elif salario <= 1500:\n",
    "    desconto_IR = 0.05\n",
    "elif salario <= 2500:\n",
    "    desconto_IR = 0.10\n",
    "elif salario > 2500:\n",
    "    desconto_IR = 0.20\n",
    "else:\n",
    "    print('Insira um valor positivo!')\n",
    "\n",
    "print(f'O salário bruto é de {salario}.')\n",
    "print(f'O desconto de IR é de {desconto_IR}.')\n",
    "print(f'O desconto do sindicato é de {desconto_Sin}.')\n",
    "print(f'O desconto do FGTS é de {desconto_FGTS}.')\n",
    "print(f'O desconto total no salário é de {desconto_IR + desconto_Sin}.')\n",
    "print(f'O salário líquido é de {salario - (desconto_IR + desconto_Sin)}.')\n",
    "\n"
   ]
  },
  {
   "cell_type": "markdown",
   "id": "814fc211",
   "metadata": {
    "id": "814fc211"
   },
   "source": [
    "#### 13. Faça um Programa que leia um número e exiba o dia correspondente da semana. (1-Domingo, 2- Segunda, etc.), se digitar outro valor deve aparecer valor inválido."
   ]
  },
  {
   "cell_type": "code",
   "execution_count": 96,
   "id": "f2c2b8d8",
   "metadata": {
    "id": "f2c2b8d8"
   },
   "outputs": [
    {
     "name": "stdout",
     "output_type": "stream",
     "text": [
      "Informe um número correspondente ao dia da semana, de 1-7:7\n",
      "Sábado\n"
     ]
    }
   ],
   "source": [
    "dia = int(input('Informe um número correspondente ao dia da semana, de 1-7:'))\n",
    "\n",
    "if dia > 0 and dia < 8:\n",
    "    if dia == 1:\n",
    "        print('Domingo')\n",
    "    elif dia == 2:\n",
    "        print('Segunda')\n",
    "    elif dia == 3:\n",
    "        print('Terça')\n",
    "    elif dia == 4:\n",
    "        print('Quarta')\n",
    "    elif dia == 5:\n",
    "        print('Quinta')\n",
    "    elif dia == 6:\n",
    "        print('Sexta')\n",
    "    elif dia == 7:\n",
    "        print('Sábado')\n",
    "else:\n",
    "    print('Valor Inválido!')"
   ]
  },
  {
   "cell_type": "markdown",
   "id": "6e5f461e",
   "metadata": {
    "id": "6e5f461e"
   },
   "source": [
    "#### 14. Faça um programa que lê as duas notas parciais obtidas por um aluno numa disciplina ao longo de um semestre, e calcule a sua média. Em seguida, mostre qual conceito o aluno teve. A atribuição de conceitos obedece à tabela abaixo:\n",
    "<pre>\n",
    "Média de Aproveitamento  Conceito\n",
    "Entre 9.0 e 10.0        A\n",
    "Entre 7.5 e 9.0         B\n",
    "Entre 6.0 e 7.5         C\n",
    "Entre 4.0 e 6.0         D\n",
    "Entre 4.0 e zero        E\n",
    "</pre>"
   ]
  },
  {
   "cell_type": "code",
   "execution_count": 99,
   "id": "29721a43",
   "metadata": {
    "id": "29721a43"
   },
   "outputs": [
    {
     "name": "stdout",
     "output_type": "stream",
     "text": [
      "Informe a primeira nota do aluno:3\n",
      "Informe a segunda nota do aluno:5\n",
      "D\n"
     ]
    }
   ],
   "source": [
    "nota_1 = float(input('Informe a primeira nota do aluno:'))\n",
    "nota_2 = float(input('Informe a segunda nota do aluno:'))\n",
    "media = (nota_1 + nota_2) / 2\n",
    "\n",
    "if media >= 0 and media < 4:\n",
    "    conceito = 'E'\n",
    "elif media >= 4 and media < 6:\n",
    "    conceito = 'D'\n",
    "elif media >= 6 and media < 7.5:\n",
    "    conceito = 'C'\n",
    "elif media >= 7.5 and media < 9:\n",
    "    conceito = 'B'\n",
    "elif media >= 9 and media < 10:\n",
    "    conceito = 'A'\n",
    "else:\n",
    "    print('Valor Inválido!')\n",
    "    \n",
    "print(conceito)"
   ]
  },
  {
   "cell_type": "markdown",
   "id": "e6b3bcaf",
   "metadata": {
    "id": "e6b3bcaf"
   },
   "source": [
    "#### 15. Você está construindo um calendário para controlar dias de trabalho a pedido do RH. Nessa construção, você vai precisar definir quais anos são bissextos e quais não são, para montar o calendário de forma correta. Faça um Programa que peça um número correspondente a um determinado ano e em seguida informe se este ano é ou não bissexto.\n",
    "<pre>\n",
    "Dica para determinar se um ano é bissexto: \n",
    "- São bissextos todos os anos múltiplos de 400, p.ex.: 1600, 2000, 2400, 2800...\n",
    "- São bissextos todos os múltiplos de 4, exceto se for múltiplo de 100 mas não de 400, \n",
    "p.ex.: 1996, 2000, 2004, 2008, 2012, 2016, 2020, 2024, 2028...\n",
    "- Não são bissextos todos os demais anos.<br>\n",
    "ex1: 2004 é múltiplo de 4, mas não é múltiplo de 100, então é bissexto.\n",
    "ex2: 2000 é múltiplo de 4, mas é múltiplo de 100, só que também é multiplo de 400, então é bissexto (porque todo ano múltiplo de 400 é bissexto, independente do resto).\n",
    "ex3: 1900 é múltiplo de 4, é múltiplo de 100, mas não é múltiplo de 400, então não é bissexto\n",
    "\n",
    "</pre>\n",
    "\n",
    "Dica: lembre que: numero % 4 é o resto da divisão do número por 4, ex: 10 % 3 = 1 (já que 10/3 = 3 e resta 1)"
   ]
  },
  {
   "cell_type": "code",
   "execution_count": 102,
   "id": "56af223f",
   "metadata": {
    "id": "56af223f"
   },
   "outputs": [
    {
     "name": "stdout",
     "output_type": "stream",
     "text": [
      "Informe o ano:1900\n",
      "0\n",
      "0\n",
      "300\n",
      "Não é bissexto\n"
     ]
    }
   ],
   "source": [
    "ano = int(input('Informe o ano:'))\n",
    "resto_4 = ano % 4\n",
    "resto_100 = ano % 100\n",
    "resto_400 = ano % 400\n",
    "\n",
    "print(resto_4)\n",
    "print(resto_100)\n",
    "print(resto_400)\n",
    "\n",
    "if resto_400 == 0:\n",
    "    print('É bissexto')\n",
    "elif resto_4 == 0 and resto_100 != 0:\n",
    "    print('É bissexto')\n",
    "else:\n",
    "    print('Não é bissexto')"
   ]
  },
  {
   "cell_type": "markdown",
   "id": "9fe532c8",
   "metadata": {
    "id": "9fe532c8"
   },
   "source": [
    "#### 16. Faça um Programa para leitura de três notas parciais de um aluno. O programa deve calcular a média alcançada por aluno e presentar:\n",
    "<pre>\n",
    "A mensagem \"Aprovado\", se a média for maior ou igual a 7, com a respectiva média alcançada;\n",
    "A mensagem \"Reprovado\", se a média for menor do que 7, com a respectiva média alcançada;\n",
    "A mensagem \"Aprovado com Distinção\", se a média for igual a 10.\n",
    "</pre>"
   ]
  },
  {
   "cell_type": "code",
   "execution_count": 105,
   "id": "1a56e99f",
   "metadata": {
    "id": "1a56e99f"
   },
   "outputs": [
    {
     "name": "stdout",
     "output_type": "stream",
     "text": [
      "Informe a primeira nota do aluno: 9\n",
      "Informe a segunda nota do aluno: 9\n",
      "Informe a terceira nota do aluno: 9\n",
      "Aprovado.\n"
     ]
    }
   ],
   "source": [
    "nota1 = float(input('Informe a primeira nota do aluno: '))\n",
    "nota2 = float(input('Informe a segunda nota do aluno: '))\n",
    "nota3 = float(input('Informe a terceira nota do aluno: '))\n",
    "\n",
    "media = (nota1 + nota2 + nota3) / 3\n",
    "\n",
    "if media >= 7:\n",
    "    if media == 10:\n",
    "        print('Aprovado com Distinção.')\n",
    "    else:\n",
    "        print('Aprovado.')\n",
    "else:\n",
    "    print('Reprovado.')\n"
   ]
  },
  {
   "cell_type": "markdown",
   "id": "d544412e",
   "metadata": {
    "id": "d544412e"
   },
   "source": [
    "#### 17. João Papo-de-Pescador, homem de bem, comprou um microcomputador para controlar o rendimento diário de seu trabalho. Toda vez que ele traz um peso de peixes maior que o estabelecido pelo regulamento de pesca do estado de São Paulo (50 quilos) deve pagar uma multa de R$ 4,00 por quilo excedente. João precisa que você faça um programa que leia a variável peso (peso de peixes) e calcule o excesso. Gravar na variável excesso a quantidade de quilos além do limite e na variável multa o valor da multa que João deverá pagar. Imprima os dados do programa com as mensagens adequadas."
   ]
  },
  {
   "cell_type": "code",
   "execution_count": 114,
   "id": "971ed027",
   "metadata": {
    "id": "971ed027"
   },
   "outputs": [
    {
     "name": "stdout",
     "output_type": "stream",
     "text": [
      "Peso de peixes do dia, em quilos:80\n",
      "120.0\n"
     ]
    }
   ],
   "source": [
    "peso = float(input('Peso de peixes do dia, em quilos:'))\n",
    "limite = 50\n",
    "\n",
    "if peso > limite:\n",
    "    quilos_ex = peso - limite\n",
    "    pag_ex = quilos_ex * 4\n",
    "    print(pag_ex)\n",
    "elif peso < limite and peso < 0:\n",
    "    print('Valor Inválido!')\n",
    "else:\n",
    "    print('Não tem que pagar nada.')"
   ]
  },
  {
   "cell_type": "markdown",
   "id": "0e5256e0",
   "metadata": {
    "id": "0e5256e0"
   },
   "source": [
    "#### 18. Faça um Programa para um caixa eletrônico. O programa deverá perguntar ao usuário a valor do saque e depois informar quantas notas de cada valor serão fornecidas. As notas disponíveis serão as de 1, 5, 10, 50 e 100 reais. O valor mínimo é de 10 reais e o máximo de 600 reais. O programa não deve se preocupar com a quantidade de notas existentes na máquina.\n",
    "<pre>\n",
    "Exemplo 1: Para sacar a quantia de 256 reais, o programa fornece duas notas de 100, uma nota de 50, uma nota de 5 e uma nota de 1;\n",
    "Exemplo 2: Para sacar a quantia de 399 reais, o programa fornece três notas de 100, uma nota de 50, quatro notas de 10, uma nota de 5 e quatro notas de 1.\n",
    "</pre>\n",
    "\n",
    "Dica1: numero // 10 vai te dar como resposta a parte inteira da divisão do número por 10.<br>\n",
    "Dica2: numero % 10 vai te dar o resto da divisão do número por 10."
   ]
  },
  {
   "cell_type": "code",
   "execution_count": 119,
   "id": "9b4244c7",
   "metadata": {
    "id": "9b4244c7"
   },
   "outputs": [
    {
     "name": "stdout",
     "output_type": "stream",
     "text": [
      "Informe a quantia que quer saquar, entre 10 e 600 reais: 567\n",
      "O número de notas de 100 é de 5.\n",
      "O número de notas de 50 é de 1.\n",
      "O número de notas de 10 é de 1.\n",
      "O número de notas de 5 é de 1.\n",
      "O número de notas de 1 é de 2.\n"
     ]
    }
   ],
   "source": [
    "valor_saque = int(input('Informe a quantia que quer saquar, entre 10 e 600 reais: '))\n",
    "\n",
    "if valor_saque >= 10 and valor_saque <= 600:\n",
    "    if valor_saque >= 100:\n",
    "        notas_100 = valor_saque // 100\n",
    "        resto_100 = valor_saque % 100 \n",
    "        print(f'O número de notas de 100 é de {notas_100}.')\n",
    "        notas_50 = resto_100 // 50\n",
    "        resto_50 = resto_100 % 50\n",
    "        print(f'O número de notas de 50 é de {notas_50}.')\n",
    "        notas_10 = resto_50 // 10\n",
    "        resto_10 = resto_50 % 10\n",
    "        print(f'O número de notas de 10 é de {notas_10}.')\n",
    "        notas_5 = resto_10 // 5\n",
    "        resto_5 = resto_10 % 5\n",
    "        print(f'O número de notas de 5 é de {notas_5}.')\n",
    "        notas_1 = resto_5 // 1\n",
    "        resto_1 = resto_5 % 1\n",
    "        print(f'O número de notas de 1 é de {notas_1}.')\n",
    "    "
   ]
  },
  {
   "cell_type": "markdown",
   "id": "18901e98",
   "metadata": {
    "id": "18901e98"
   },
   "source": [
    "#### 20. Um posto está vendendo combustíveis com a seguinte tabela de descontos:\n",
    "<pre>\n",
    "Álcool:\n",
    "até 20 litros, desconto de 3% por litro\n",
    "acima de 20 litros, desconto de 5% por litro\n",
    "Gasolina:\n",
    "até 20 litros, desconto de 4% por litro\n",
    "acima de 20 litros, desconto de 6% por litro\n",
    "\n",
    "Escreva um algoritmo que leia o número de litros vendidos, o tipo de combustível (codificado da seguinte forma: A-álcool, G-gasolina), calcule e imprima o valor a ser pago pelo cliente sabendo-se que o preço do litro da gasolina é R$ 2,50 o preço do litro do álcool é R$ 1,90.\n",
    "</pre>"
   ]
  },
  {
   "cell_type": "code",
   "execution_count": 142,
   "id": "191d36e0",
   "metadata": {},
   "outputs": [
    {
     "name": "stdout",
     "output_type": "stream",
     "text": [
      "Telefonou para a vítima?Positivo\n",
      "Esteve no local do crime?\n",
      "Mora perto da vítima?N\n",
      "Devia para a vítima?N\n",
      "Já trabalhou com a vítima?Positivo\n",
      "Resposta 2 está inválida, responta geral comprometida.\n",
      "Inocente.\n"
     ]
    }
   ],
   "source": [
    "perg_1 = input(\"Telefonou para a vítima?\")\n",
    "perg_2 = input(\"Esteve no local do crime?\")\n",
    "perg_3 = input(\"Mora perto da vítima?\")\n",
    "perg_4 = input(\"Devia para a vítima?\")\n",
    "perg_5 = input(\"Já trabalhou com a vítima?\")\n",
    "\n",
    "sim = 0\n",
    "\n",
    "if perg_1 == \"Positivo\" or perg_1 == \"N\":\n",
    "    if perg_1 == \"Positivo\":\n",
    "        sim1 = (sim + 1)\n",
    "    elif perg_1 == \"N\":\n",
    "        sim1 = sim\n",
    "else:\n",
    "    print('Resposta 1 está inválida, resposta geral comprometida.')\n",
    "if perg_2 == \"Positivo\" or perg_2 == \"N\":\n",
    "    if perg_2 == \"Positivo\":\n",
    "        sim2 = (sim1 + 1)\n",
    "    elif perg_2 == \"N\": \n",
    "        sim2 = sim1\n",
    "else:\n",
    "    print('Resposta 2 está inválida, resposta geral comprometida.')\n",
    "if perg_3 == \"Positivo\" or perg_3 == \"N\":\n",
    "    if perg_3 == \"Positivo\":\n",
    "        sim3 = (sim2 + 1)\n",
    "    elif perg_3 == \"N\":\n",
    "        sim3 = sim2\n",
    "else:\n",
    "    print('Resposta 3 está inválida, resposta geral comprometida.')\n",
    "if perg_4 == \"Positivo\" or perg_4 == \"N\":\n",
    "    if perg_4 == \"Positivo\":\n",
    "        sim4 = (sim3 + 1)\n",
    "    elif perg_4 == \"N\":\n",
    "        sim4 = sim3\n",
    "else:\n",
    "    print('Resposta 4 está inválida, resposta geral comprometida.')\n",
    "if perg_5 == \"Positivo\" or perg_5 == \"N\":\n",
    "    if perg_5 == \"Positivo\":\n",
    "        sim5 = (sim4 + 1)\n",
    "    elif perg_5 == \"N\":\n",
    "        sim5 = sim4\n",
    "else:\n",
    "    print('Resposta 5 está inválida, resposta geral comprometida.')\n",
    "\n",
    "if sim5 == 2:\n",
    "    print('Suspeita.')\n",
    "elif sim5 == 3 or sim5 == 4:\n",
    "    print('Cúmplice.')\n",
    "elif sim5 == 5:\n",
    "    print('Assassino!')\n",
    "elif sim5 < 2:\n",
    "    print('Inocente.')"
   ]
  },
  {
   "cell_type": "markdown",
   "id": "be0f8f32",
   "metadata": {
    "id": "be0f8f32"
   },
   "source": [
    "#### 21. Uma fruteira está vendendo frutas com a seguinte tabela de preços:\n",
    "<pre>\n",
    "                      Até 5 Kg           Acima de 5 Kg\n",
    "Morango         R$ 2,50 por Kg          R$ 2,20 por Kg\n",
    "Maçã            R$ 1,80 por Kg          R$ 1,50 por Kg\n",
    "Se o cliente comprar mais de 8 Kg em frutas ou o valor total da compra ultrapassar R$ 25,00, receberá ainda um desconto de 10% sobre este total. Escreva um algoritmo para ler a quantidade (em Kg) de morangos e a quantidade (em Kg) de maças adquiridas e escreva o valor a ser pago pelo cliente.\n",
    "</pre>"
   ]
  },
  {
   "cell_type": "code",
   "execution_count": 145,
   "id": "35c47c8e",
   "metadata": {
    "id": "35c47c8e"
   },
   "outputs": [
    {
     "name": "stdout",
     "output_type": "stream",
     "text": [
      "Informe o peso de maçã comprada em Kg: 6\n",
      "Informe o peso de morango comprado em Kg: 6\n",
      "19.980000000000004\n"
     ]
    }
   ],
   "source": [
    "peso_maca = float(input('Informe o peso de maçã comprada em Kg: '))\n",
    "peso_morango = float(input('Informe o peso de morango comprado em Kg: '))\n",
    "\n",
    "if peso_morango <= 5 and peso_morango > 0:\n",
    "    preco_Kg_morango = 2.5\n",
    "elif peso_morango > 5:\n",
    "    preco_Kg_morango = 2.2\n",
    "else:\n",
    "    print('Valor positivo nos Kg de maçã!')\n",
    "if peso_maca <= 5 and peso_maca > 0:\n",
    "    preco_Kg_maca = 1.8\n",
    "elif peso_maca > 5:\n",
    "    preco_Kg_maca = 1.5\n",
    "else:\n",
    "    print('Valor positivo nos Kg de morango!')\n",
    "\n",
    "preço_maça = peso_maca * preco_Kg_maca\n",
    "preço_morango = peso_morango * preco_Kg_morango\n",
    "\n",
    "if (peso_maca + peso_morango) > 8 or (preço_maça + preço_morango) > 25:\n",
    "    preço_final = (preço_maça + preço_morango) - (preço_maça + preço_morango) * 0.10\n",
    "else:\n",
    "    preço_final = (preço_maça + preço_morango)\n",
    "    \n",
    "print(preço_final)"
   ]
  },
  {
   "cell_type": "markdown",
   "id": "4dbd53ed",
   "metadata": {
    "id": "4dbd53ed"
   },
   "source": [
    "#### 22. O Hipermercado Tabajara está com uma promoção de carnes que é imperdível. Confira:\n",
    "<pre>\n",
    "                      Até 5 Kg           Acima de 5 Kg\n",
    "File Duplo      R$ 4,90 por Kg          R$ 5,80 por Kg\n",
    "Alcatra         R$ 5,90 por Kg          R$ 6,80 por Kg\n",
    "Picanha         R$ 6,90 por Kg          R$ 7,80 por Kg\n",
    "Para atender a todos os clientes, cada cliente poderá levar apenas um dos tipos de carne da promoção, porém não há limites para a quantidade de carne por cliente. Se compra for feita no cartão Tabajara o cliente receberá ainda um desconto de 5% sobre o total da compra. Escreva um programa que peça o tipo e a quantidade de carne comprada pelo usuário e gere um cupom fiscal, contendo as informações da compra: tipo e quantidade de carne, preço total, tipo de pagamento, valor do desconto e valor a pagar.\n",
    "</pre>"
   ]
  },
  {
   "cell_type": "code",
   "execution_count": 186,
   "id": "15a77357",
   "metadata": {
    "id": "15a77357",
    "scrolled": true
   },
   "outputs": [
    {
     "name": "stdout",
     "output_type": "stream",
     "text": [
      "Informe o tipo de carne comprada: \n",
      "Informe quantos Kg foram comprados: 8\n",
      "0\n"
     ]
    }
   ],
   "source": [
    "Tipo = input('Informe o tipo de carne comprada: ')\n",
    "Peso = int(input('Informe quantos Kg foram comprados: '))\n",
    "\n",
    "if Tipo == 'File Duplo' or 'Alcatra' or 'Picanha':\n",
    "    if Tipo == 'File Duplo':\n",
    "        if Peso <= 5 and Peso > 0:\n",
    "            preco_Kg = 4.9\n",
    "        elif Peso > 5:\n",
    "            preco_Kg = 5.8\n",
    "    else:\n",
    "        if Tipo == 'Alcatra':\n",
    "            if Peso <= 5 and Peso > 0:\n",
    "                preco_Kg = 5.9\n",
    "            elif Peso > 5:\n",
    "                preco_Kg = 6.8\n",
    "        else:\n",
    "            if Tipo == 'Picanha':\n",
    "                if Peso <= 5 and Peso > 0:\n",
    "                    preco_Kg = 6.9\n",
    "                elif Peso > 5:\n",
    "                    preco_Kg = 7.8\n",
    "                else:\n",
    "                    pass\n",
    "else:\n",
    "    print('Informe um tipo de Carne válida!')\n",
    "        \n",
    "preço_final = Peso * preco_Kg\n",
    "print(preço_final)"
   ]
  },
  {
   "cell_type": "markdown",
   "id": "b949545b",
   "metadata": {
    "id": "b949545b"
   },
   "source": [
    "#### 23. Faça um Programa para uma loja de tintas. O programa deverá pedir o tamanho em metros quadrados da área a ser pintada. Considere que a cobertura da tinta é de 1 litro para cada 6 metros quadrados e que a tinta é vendida em latas de 18 litros, que custam R\\\\$ 80,00 ou em galões de 3,6 litros, que custam R\\\\$ 25,00."
   ]
  },
  {
   "cell_type": "code",
   "execution_count": null,
   "id": "b11185b0",
   "metadata": {
    "id": "b11185b0"
   },
   "outputs": [],
   "source": [
    "area = float(input('Informe o tamanho da área a ser pintada em m²: '))\n",
    "litros_tinta = area / 6"
   ]
  },
  {
   "cell_type": "markdown",
   "id": "b3d0598f",
   "metadata": {
    "id": "b3d0598f"
   },
   "source": [
    "##### Informe ao usuário as quantidades de tinta a serem compradas e os respectivos preços em 3 situações.\n",
    "\n",
    "Dica: lembre dos operadores // e % mostrados em exercícios anteriores<br>\n",
    "Dica1: numero // 10 vai te dar como resposta a parte inteira da divisão do número por 10.<br>\n",
    "Dica2: numero % 10 vai te dar o resto da divisão do número por 10.\n",
    "\n",
    "##### 1. Comprar apenas latas de 18 litros: (apenas latas inteiras)"
   ]
  },
  {
   "cell_type": "code",
   "execution_count": 188,
   "id": "ed599d53",
   "metadata": {
    "id": "ed599d53"
   },
   "outputs": [
    {
     "name": "stdout",
     "output_type": "stream",
     "text": [
      "Informe o tamanho da área a ser pintada em m²: 60\n",
      "0.5555555555555556\n",
      "44.44444444444444\n"
     ]
    }
   ],
   "source": [
    "area = float(input('Informe o tamanho da área a ser pintada em m²: '))\n",
    "litros_tinta = area / 6\n",
    "latas = litros_tinta / 18\n",
    "preço = latas * 80\n",
    "print(latas)\n",
    "print(preço)"
   ]
  },
  {
   "cell_type": "markdown",
   "id": "ab03bc10",
   "metadata": {
    "id": "ab03bc10"
   },
   "source": [
    "##### 2. Comprar apenas galões de 3,6 litros: (apenas galoes inteiros)"
   ]
  },
  {
   "cell_type": "code",
   "execution_count": 189,
   "id": "542f4a77",
   "metadata": {
    "id": "542f4a77"
   },
   "outputs": [
    {
     "name": "stdout",
     "output_type": "stream",
     "text": [
      "Informe o tamanho da área a ser pintada em m²: 60\n",
      "2.7777777777777777\n",
      "69.44444444444444\n"
     ]
    }
   ],
   "source": [
    "area = float(input('Informe o tamanho da área a ser pintada em m²: '))\n",
    "litros_tinta = area / 6\n",
    "galões = litros_tinta / 3.6\n",
    "preço = galões * 25\n",
    "print(galões)\n",
    "print(preço)"
   ]
  },
  {
   "cell_type": "markdown",
   "id": "8Jbw7RupH9Nc",
   "metadata": {
    "id": "8Jbw7RupH9Nc"
   },
   "source": [
    "##### 3. Misturar latas e galões, de forma que o desperdício de tinta seja menor. Acrescente 10% de folga e sempre arredonde os valores para cima, isto é, considere latas cheias."
   ]
  },
  {
   "cell_type": "markdown",
   "id": "93d4157b",
   "metadata": {
    "id": "93d4157b"
   },
   "source": [
    "O custo da lata é 80/18 = 4,44 R\\\\$/L\n",
    "\n",
    "O custo do galão é 25/3,6 = 6,94 R\\\\$/L\n",
    "\n",
    "A lata é mais econômica, então todas as latas inteiras que pudermos usar devemos comprar em latas. Se ficar faltando alguma coisa para completar devemos avaliar se é melhor comprar latas ou galões. Exemplo:\n",
    "\n",
    "Se queremos comprar 90 litros. 5 latas dão exatamente 90 litros. Então devemos comprar tudo em latas.\n",
    "\n",
    "Se queremos comprar 95 litros. 5 latas dão exatamente 90 litros. Então devemos comprar pelo menos 5 latas e avaliar o que falta, se estes últimos 5 litros valem mais apenas em latas ou galões.\n",
    "\n",
    "Para os 5 litros faltantes precisamos de 2 galões que custam 50 reais no total. Ou de uma lata que custa 80 reais no total. Portanto, neste caso vale mais a pena usar 2 galões.\n",
    "\n",
    "Se queremos comprar 107 litros. 5 latas dão exatamente 90 litros. Então devemos comprar pelo menos 5 latas e avaliar o que falta, se estes últimos 5 litros valem mais apenas em latas ou galões.\n",
    "\n",
    "Para os 17 litros faltantes precisamos de 5 galões que custam 125 reais no total. Ou de uma lata que custa 80 reais no total. Portanto, neste caso vale mais a pena usar uma lata.\n",
    "\n",
    "3 galões custam 75 reais, 4 galões custam 100 reais. Então, se for possível completar com até 3 galões escolhe-se galões. Qualquer quantidade maior que 3 galões, usa-se latas.\n",
    "\n",
    "Podemos ir ao exercício:"
   ]
  },
  {
   "cell_type": "code",
   "execution_count": 207,
   "id": "01d104b6",
   "metadata": {
    "id": "01d104b6"
   },
   "outputs": [
    {
     "name": "stdout",
     "output_type": "stream",
     "text": [
      "Informe o tamanho da área a ser pintada em m²: 18\n",
      "5.0\n",
      "0.0\n"
     ]
    }
   ],
   "source": [
    "# acrescentamos a folga de 10%\n",
    "litros_folga = litros_tinta * 1.1\n",
    "galoes = 0\n",
    "\n",
    "# só latas inteiras\n",
    "latas = litros_folga // 18\n",
    "\n",
    "\n",
    "# aqui vemos a tinta que faltou que não cabe em uma lata completa\n",
    "tinta_faltante = litros_folga - 18 * latas\n",
    "\n",
    "# tinta faltante em galões\n",
    "if tinta_faltante > 0:\n",
    "    if tinta_faltante % 3.6 > 0:\n",
    "        faltante_galoes = tinta_faltante // 3.6 + 1\n",
    "    else:\n",
    "        faltante_galoes = tinta_faltante // 3.6\n",
    "    if faltante_galoes <= 3:\n",
    "        galoes = faltante_galoes\n",
    "    else:\n",
    "        galoes = 0\n",
    "        latas = latas + 1\n",
    "\n",
    "preco = latas * 80 + galoes * 25\n",
    "print(f'São necessários {latas} latas e {galoes} galões. Custando R$ {preco} no total')"
   ]
  },
  {
   "cell_type": "code",
   "execution_count": null,
   "id": "9ad6b7c0",
   "metadata": {},
   "outputs": [],
   "source": []
  },
  {
   "cell_type": "code",
   "execution_count": null,
   "id": "227a72c7",
   "metadata": {},
   "outputs": [],
   "source": []
  }
 ],
 "metadata": {
  "colab": {
   "collapsed_sections": [],
   "provenance": []
  },
  "kernelspec": {
   "display_name": "Python 3 (ipykernel)",
   "language": "python",
   "name": "python3"
  },
  "language_info": {
   "codemirror_mode": {
    "name": "ipython",
    "version": 3
   },
   "file_extension": ".py",
   "mimetype": "text/x-python",
   "name": "python",
   "nbconvert_exporter": "python",
   "pygments_lexer": "ipython3",
   "version": "3.9.13"
  }
 },
 "nbformat": 4,
 "nbformat_minor": 5
}
