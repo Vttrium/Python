{
 "cells": [
  {
   "cell_type": "markdown",
   "metadata": {},
   "source": [
    "# Exercícios\n",
    "\n",
    "## 1. Faturamento do Melhor e do Pior Mês do Ano\n",
    "\n",
    "Qual foi o valor de vendas do melhor mês do Ano?\n",
    "E valor do pior mês do ano?"
   ]
  },
  {
   "cell_type": "code",
   "execution_count": 8,
   "metadata": {},
   "outputs": [
    {
     "name": "stdout",
     "output_type": "stream",
     "text": [
      "[25000, 29000, 22200, 17750, 15870, 19900, 19850, 20120, 17540, 15555, 49051, 9650]\n",
      "49051\n",
      "9650\n"
     ]
    }
   ],
   "source": [
    "meses = ['jan', 'fev', 'mar', 'abr', 'mai', 'jun', 'jul', 'ago', 'set', 'out', 'nov', 'dez']\n",
    "vendas_1sem = [25000, 29000, 22200, 17750, 15870, 19900]\n",
    "vendas_2sem = [19850, 20120, 17540, 15555, 49051, 9650]\n",
    "vendas_1sem += vendas_2sem\n",
    "max_vendas = max(vendas_1sem)\n",
    "min_vendas = min(vendas_2sem) \n",
    "print(vendas_1sem)\n",
    "print(max_vendas)\n",
    "print(min_vendas)"
   ]
  },
  {
   "cell_type": "markdown",
   "metadata": {},
   "source": [
    "## 2. Continuação\n",
    "\n",
    "Agora relacione as duas listas para printar 'O melhor mês do ano foi {} com {} vendas' e o mesmo para o pior mês do ano.\n",
    "\n",
    "Calcule também o faturamento total do Ano e quanto que o melhor mês representou do faturamento total.\n",
    "\n",
    "Obs: Para o faturamento total, pode usar a função sum(lista) que soma todos os itens de uma lista"
   ]
  },
  {
   "cell_type": "code",
   "execution_count": 12,
   "metadata": {},
   "outputs": [
    {
     "name": "stdout",
     "output_type": "stream",
     "text": [
      "O melhor mês do ano foi nov\n",
      "com 49051 vendas\n",
      "O pior mês do ano foi dez\n",
      "com 9650 vendas\n",
      "O faturamento total foi de 261486.\n",
      "nov representou 18.76% do faturamento total do ano.\n"
     ]
    }
   ],
   "source": [
    "Best_month_i = vendas_1sem.index(max(vendas_1sem))\n",
    "Worst_month_i = vendas_1sem.index(min(vendas_2sem))\n",
    "Best_month = meses[Best_month_i]\n",
    "Worst_month = meses[Worst_month_i]\n",
    "print('O melhor mês do ano foi {}\\ncom {} vendas'.format(Best_month, max_vendas))\n",
    "print('O pior mês do ano foi {}\\ncom {} vendas'.format(Worst_month, min_vendas))\n",
    "print(f'O faturamento total foi de {sum(vendas_1sem)}.')\n",
    "percent = max_vendas / sum(vendas_1sem)\n",
    "print('{} representou {:.2%} do faturamento total do ano.'.format(Best_month, percent))"
   ]
  },
  {
   "cell_type": "markdown",
   "metadata": {},
   "source": [
    "## 3. Crie uma lista com o top 3 valores de vendas do ano (sem fazer \"no olho\")\n",
    "\n",
    "Dica: o método remove retira um item da lista."
   ]
  },
  {
   "cell_type": "code",
   "execution_count": 29,
   "metadata": {},
   "outputs": [
    {
     "name": "stdout",
     "output_type": "stream",
     "text": [
      "[22200, 17750, 15870, 19900, 19850, 20120, 17540, 15555, 9650]\n",
      "[49051, 29000, 25000]\n"
     ]
    }
   ],
   "source": [
    "vendas_1sem = [25000, 29000, 22200, 17750, 15870, 19900]\n",
    "vendas_2sem = [19850, 20120, 17540, 15555, 49051, 9650]\n",
    "vendas_1sem += vendas_2sem\n",
    "top3 = []\n",
    "max_vendas = max(vendas_1sem)\n",
    "top3.append(max_vendas)\n",
    "vendas_1sem.remove(max_vendas)\n",
    "max_vendas = max(vendas_1sem)\n",
    "top3.append(max_vendas)\n",
    "vendas_1sem.remove(max_vendas)\n",
    "max_vendas = max(vendas_1sem)\n",
    "top3.append(max_vendas)\n",
    "vendas_1sem.remove(max_vendas)\n",
    "print(vendas_1sem)\n",
    "Top3 = top3\n",
    "print(Top3)"
   ]
  },
  {
   "cell_type": "code",
   "execution_count": 25,
   "metadata": {},
   "outputs": [
    {
     "name": "stdout",
     "output_type": "stream",
     "text": [
      "None\n"
     ]
    }
   ],
   "source": []
  },
  {
   "cell_type": "code",
   "execution_count": null,
   "metadata": {},
   "outputs": [],
   "source": []
  }
 ],
 "metadata": {
  "kernelspec": {
   "display_name": "Python 3 (ipykernel)",
   "language": "python",
   "name": "python3"
  },
  "language_info": {
   "codemirror_mode": {
    "name": "ipython",
    "version": 3
   },
   "file_extension": ".py",
   "mimetype": "text/x-python",
   "name": "python",
   "nbconvert_exporter": "python",
   "pygments_lexer": "ipython3",
   "version": "3.9.13"
  }
 },
 "nbformat": 4,
 "nbformat_minor": 4
}
