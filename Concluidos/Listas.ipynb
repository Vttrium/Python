{
 "cells": [
  {
   "cell_type": "markdown",
   "id": "2b04bbea",
   "metadata": {
    "id": "2b04bbea"
   },
   "source": [
    "# Listas\n",
    "\n",
    "<span style=\"color: red;\"><b>Todos os exercícios são feitos partindo-se do pressuposto de que todas as entradas são dadas de forma correta. Casos limite não mencionados no enunciado não são abordados porque não fazem parte do exercício.</b></span>"
   ]
  },
  {
   "cell_type": "markdown",
   "id": "dcb81b29",
   "metadata": {
    "id": "dcb81b29"
   },
   "source": [
    "#### 1. Faça um Programa que leia as vendas dos vendedores, mostre a venda de cada vendedor com o seu nome e a média de vendas. "
   ]
  },
  {
   "cell_type": "code",
   "execution_count": 7,
   "id": "09c0d2b3",
   "metadata": {
    "id": "09c0d2b3"
   },
   "outputs": [
    {
     "name": "stdout",
     "output_type": "stream",
     "text": [
      "O vendedor Fulano vendeu R$1,000.00, numa média geral de R$1,250.00\n",
      "O vendedor Beltrano vendeu R$1,500.00, numa média geral de R$1,250.00\n",
      "O vendedor Ciclano vendeu R$1,200.00, numa média geral de R$1,250.00\n",
      "O vendedor Lira vendeu R$1,300.00, numa média geral de R$1,250.00\n"
     ]
    }
   ],
   "source": [
    "vendas = [1000, 1500, 1200, 1300]\n",
    "vendedores = [\"Fulano\", \"Beltrano\", \"Ciclano\", \"Lira\"]\n",
    "\n",
    "soma = sum(vendas)\n",
    "media = soma / len(vendas)\n",
    "for i in range(len(vendas)):\n",
    "    print('O vendedor {} vendeu R${:,.2f}, numa média geral de R${:,.2f}'.format(vendedores[i], vendas[i], media))"
   ]
  },
  {
   "cell_type": "markdown",
   "id": "cbda91b3",
   "metadata": {
    "id": "cbda91b3"
   },
   "source": [
    "#### 2. Faça um Programa que crie uma lista com as médias de cada aluno, imprima as médias de cada aluno e a quantidade de alunos com média maior que 7."
   ]
  },
  {
   "cell_type": "code",
   "execution_count": 12,
   "id": "c93dd233",
   "metadata": {
    "id": "c93dd233"
   },
   "outputs": [
    {
     "name": "stdout",
     "output_type": "stream",
     "text": [
      "O aluno José teve um média de 8.75.\n",
      "O aluno Joana teve um média de 6.5.\n",
      "O aluno Maria teve um média de 10.0.\n",
      "O aluno Carla teve um média de 6.75.\n",
      "O aluno Mauricio teve um média de 6.25.\n",
      "O aluno Andre teve um média de 7.25.\n",
      "O aluno Tiago teve um média de 7.5.\n",
      "O aluno Enzo teve um média de 6.5.\n",
      "O aluno Amanda teve um média de 7.5.\n",
      "O aluno Alessandra teve um média de 4.25.\n",
      "Teve 5 Média(s) acima de 7\n"
     ]
    }
   ],
   "source": [
    "alunos = [\"José\", \"Joana\", \"Maria\", \"Carla\", \"Mauricio\", \"Andre\", \"Tiago\", \"Enzo\", \"Amanda\", \"Alessandra\"]\n",
    "notas = [\n",
    "    [10, 9, 8, 8],\n",
    "    [9, 7, 6, 4],\n",
    "    [10, 10, 10, 10],\n",
    "    [5, 3, 10, 9],\n",
    "    [7, 6, 6, 6],\n",
    "    [7, 7, 8, 7],\n",
    "    [7, 7, 7, 9],\n",
    "    [8, 5, 6, 7],\n",
    "    [10, 9, 7, 4],\n",
    "    [10, 1, 3, 3],\n",
    "]\n",
    "media_7 = 0\n",
    "for i, aluno in enumerate(alunos):\n",
    "    soma_nota = sum(notas[i])\n",
    "    media = soma_nota / len(notas[i])\n",
    "    print('O aluno {} teve um média de {}.'.format(aluno, media))\n",
    "    if media > 7:\n",
    "        media_7 += 1\n",
    "    else:\n",
    "        pass\n",
    "print('Teve {} Média(s) acima de 7'.format(media_7))"
   ]
  },
  {
   "cell_type": "markdown",
   "id": "c3068a53",
   "metadata": {
    "id": "c3068a53"
   },
   "source": [
    "#### 3. Foram anotadas as idades e salários de 30 funcionários. Faça um programa que determine quantos funcionários com mais de 25 anos possuem salário inferior à média de todos os salários."
   ]
  },
  {
   "cell_type": "code",
   "execution_count": 14,
   "id": "3748efa0",
   "metadata": {},
   "outputs": [
    {
     "name": "stdout",
     "output_type": "stream",
     "text": [
      "12\n"
     ]
    }
   ],
   "source": [
    "idades = [35,32,50,33,48,50,33,48,22,49,35,38,20,47,49,48,34,21,48,44,48,30,25,42,42,23,25,23,38,35]\n",
    "salarios = [3739,2219,3554,3978,4014,3270,4792,3879,2981,2384,4826,2460,3680,4318,1872,1770,4640,3929,3295,1729,3965,4267,4007,1916,2987,2943,3852,4543,2055,1730]\n",
    "media_salarial = sum(salarios) / len(salarios)\n",
    "\n",
    "abaixo = 0\n",
    "for i, idade in enumerate(idades):\n",
    "    if idade > 25:\n",
    "        if salarios[i] < media_salarial:\n",
    "            abaixo += 1\n",
    "        else:\n",
    "            pass\n",
    "    else:\n",
    "        pass\n",
    "print(abaixo)"
   ]
  },
  {
   "cell_type": "markdown",
   "id": "1611081b",
   "metadata": {
    "id": "1611081b"
   },
   "source": [
    "#### 4.Em quais meses a média de temperatura foi maior do que a média nacional?"
   ]
  },
  {
   "cell_type": "code",
   "execution_count": 17,
   "id": "62f72e2b",
   "metadata": {
    "id": "62f72e2b"
   },
   "outputs": [
    {
     "name": "stdout",
     "output_type": "stream",
     "text": [
      "7\n",
      "25.833333333333332\n"
     ]
    }
   ],
   "source": [
    "meses = [\n",
    "    'Janeiro',\n",
    "    'Fevereiro',\n",
    "    'Março',\n",
    "    'Abril',\n",
    "    'Maio',\n",
    "    'Junho',\n",
    "    'Julho',\n",
    "    'Agosto',\n",
    "    'Setembro',\n",
    "    'Outubro',\n",
    "    'Novembro',\n",
    "    'Dezembro'\n",
    "]\n",
    "\n",
    "temperaturas = [30, 29, 28, 28, 25, 26, 20, 21, 19, 25, 27, 32]\n",
    "\n",
    "meses_quentes = 0\n",
    "media = sum(temperaturas) / len(temperaturas)\n",
    "for i in range(len(meses)):\n",
    "    if temperaturas[i] > media:\n",
    "        meses_quentes += 1\n",
    "    else:\n",
    "        pass\n",
    "print(meses_quentes)\n",
    "print(media)"
   ]
  },
  {
   "cell_type": "markdown",
   "id": "8946af31",
   "metadata": {
    "id": "8946af31"
   },
   "source": [
    "#### 5. As Organizações Tabajara resolveram dar um abono aos seus colaboradores em reconhecimento ao bom resultado alcançado durante o ano que passou. Para isto contratou você para desenvolver a aplicação que servirá como uma projeção de quanto será gasto com o pagamento deste abono.\n",
    "<pre>Após reuniões envolvendo a diretoria executiva, a diretoria financeira e os representantes do sindicato laboral, chegou-se a seguinte forma de cálculo:\n",
    ". Cada funcionário receberá o equivalente a 20% do seu salário bruto de dezembro;\n",
    ". O piso do abono será de 100 reais, isto é, aqueles funcionários cujo salário for muito baixo, recebem este valor mínimo; \n",
    "\n",
    "Neste momento, não se deve ter nenhuma preocupação com colaboradores com tempo menor de casa, descontos, impostos ou outras particularidades. O programa deverá calcular o valor do abono concedido a cada colaborador, de acordo com a regra definida acima. Ao final, o programa deverá apresentar:</pre>\n",
    "<pre>\n",
    "O salário de cada funcionário, juntamente com o valor do abono;\n",
    "O número total de funcionário processados;\n",
    "O valor total a ser gasto com o pagamento do abono;\n",
    "O número de funcionário que receberá o valor mínimo de 100 reais;\n",
    "O maior valor pago como abono; A tela abaixo é um exemplo de execução do programa, apenas para fins ilustrativos.\n",
    "<pre>\n",
    "Projeção de Gastos com Abono\n",
    "============================ \n",
    " \n",
    "Salário: 1000\n",
    "Salário: 300\n",
    "Salário: 500\n",
    "Salário: 100\n",
    "Salário: 4500\n",
    "Salário: 0\n",
    " \n",
    "Salário    - Abono     \n",
    "R$ 1000.00 - R$  200.00\n",
    "R$  300.00 - R$  100.00\n",
    "R$  500.00 - R$  100.00\n",
    "R$  100.00 - R$  100.00\n",
    "R$ 4500.00 - R$  900.00\n",
    " \n",
    "Foram processados 5 colaboradores\n",
    "Total gasto com abonos: R$ 1400.00\n",
    "Valor mínimo pago a 3 colaboradores\n",
    "Maior valor de abono pago: R$ 900.00"
   ]
  },
  {
   "cell_type": "code",
   "execution_count": 47,
   "id": "0f842030",
   "metadata": {},
   "outputs": [
    {
     "name": "stdout",
     "output_type": "stream",
     "text": [
      "  Salário - Abono(Mínimo)\n",
      "\n",
      "  R$300.00 - R$100.00\n",
      "  R$500.00 - R$100.00\n",
      "  R$200.00 - R$100.00\n",
      "  R$250.00 - R$100.00\n",
      "\n",
      "  Salário - Abono(Normal)\n",
      "\n",
      "  R$1,000.00 - R$200.00\n",
      "  R$1,500.00 - R$300.00\n",
      "  R$3,000.00 - R$600.00\n",
      "  R$3,400.00 - R$680.00\n",
      "  R$5,000.00 - R$1,000.00\n",
      "  R$7,000.00 - R$1,400.00\n",
      "  R$2,000.00 - R$400.00\n",
      "  R$600.00 - R$120.00\n",
      "  R$800.00 - R$160.00\n",
      "  R$1,500.00 - R$300.00\n",
      "  R$20,000.00 - R$4,000.00\n",
      "O número de processados no sistema é de 15\n",
      "O número de colaboradores que receberam abono mínimo é de 4\n",
      "Total gasto foi de: R$9,560.00\n",
      "O maior abono é de R$4,000.00\n"
     ]
    }
   ],
   "source": [
    "lista_salarios = [1000, 300, 500, 200, 1500, 3000, 3400, 5000, 7000, 2000, 600, 800, 250, 1500, 20000]\n",
    "abonos = []\n",
    "abonos_minimos = 0\n",
    "lista_lista = []\n",
    "total_abono_nor = 0\n",
    "total_abono_min = 0\n",
    "abono_max = 0\n",
    "for i, salario in enumerate(lista_salarios):\n",
    "    if salario * 0.20 <= 100:\n",
    "        abonos_minimos += 1\n",
    "        sal_abo = salario, 100\n",
    "        lista_lista.append(sal_abo)\n",
    "        total_abono_min = len(lista_lista) * 100\n",
    "    else:\n",
    "        abono = salario * 0.20\n",
    "        sal_abon = salario, abono\n",
    "        abonos.append(sal_abon)\n",
    "        total_abono_nor += abono\n",
    "print('''  Salário - Abono(Mínimo)\\n''')\n",
    "for item in lista_lista:\n",
    "    print('  R${:,.2f} - R${:,.2f}'.format(item[0], item[1]))\n",
    "print('')\n",
    "print('''  Salário - Abono(Normal)\\n''')    \n",
    "for item in abonos:\n",
    "    print('  R${:,.2f} - R${:,.2f}'.format(item[0], item[1]))\n",
    "    if abono > abono_max:\n",
    "        abono_max = abono\n",
    "print('O número de processados no sistema é de {}'.format(len(lista_lista) + len(abonos)))\n",
    "print('O número de colaboradores que receberam abono mínimo é de {}'.format(len(lista_lista)))\n",
    "print('Total gasto foi de: R${:,.2f}'.format(total_abono_min + total_abono_nor))\n",
    "print('O maior abono é de R${:,.2f}'.format(abono_max))\n"
   ]
  },
  {
   "cell_type": "markdown",
   "id": "382b0981",
   "metadata": {
    "id": "382b0981"
   },
   "source": [
    "#### 6. Faça um programa que carregue uma lista com os modelos de cinco carros (exemplo de modelos: FUSCA, GOL, VECTRA etc). Carregue uma outra lista com o consumo desses carros, isto é, quantos quilômetros cada um desses carros faz com um litro de combustível. Calcule e mostre:\n",
    "<pre>\n",
    "a. O modelo do carro mais econômico;\n",
    "b. Quantos litros de combustível cada um dos carros cadastrados consome para percorrer uma distância de 1000 quilômetros e quanto isto custará, considerando um que a gasolina custe R$ 2,25 o litro. Abaixo segue uma tela de exemplo. O disposição das informações deve ser o mais próxima possível ao exemplo. Os dados são fictícios e podem mudar a cada execução do programa.</pre>\n",
    "```\n",
    "Comparativo de Consumo de Combustível\n",
    "\n",
    "Veículo 1\n",
    "Nome: fusca\n",
    "Km por litro: 7\n",
    "Veículo 2\n",
    "Nome: gol\n",
    "Km por litro: 10\n",
    "Veículo 3\n",
    "Nome: uno\n",
    "Km por litro: 12.5\n",
    "Veículo 4\n",
    "Nome: Vectra\n",
    "Km por litro: 9\n",
    "Veículo 5\n",
    "Nome: Peugeout\n",
    "Km por litro: 14.5\n",
    "\n",
    "Relatório Final\n",
    " 1 - fusca           -    7.0 -  142.9 litros - R$ 321.43\n",
    " 2 - gol             -   10.0 -  100.0 litros - R$ 225.00\n",
    " 3 - uno             -   12.5 -   80.0 litros - R$ 180.00\n",
    " 4 - vectra          -    9.0 -  111.1 litros - R$ 250.00\n",
    " 5 - peugeout        -   14.5 -   69.0 litros - R$ 155.17\n",
    "O menor consumo é do peugeout.\n",
    "```"
   ]
  },
  {
   "cell_type": "code",
   "execution_count": 68,
   "id": "6b6c8b06",
   "metadata": {
    "id": "6b6c8b06"
   },
   "outputs": [
    {
     "name": "stdout",
     "output_type": "stream",
     "text": [
      "Comparativo de Consumo de Combustível\n",
      "Veiculo 0\n",
      "Nome: Fusca\n",
      "Km por litro: 7\n",
      "Veiculo 1\n",
      "Nome:  Gol\n",
      "Km por litro: 10\n",
      "Veiculo 2\n",
      "Nome: Uno\n",
      "Km por litro: 12.5\n",
      "Veiculo 3\n",
      "Nome: Vectra\n",
      "Km por litro: 9\n",
      "Veiculo 4\n",
      "Nome: Peugeot\n",
      "Km por litro: 14.5\n",
      "Relatório Final\n",
      " 0 - fusca - 7 - 142.9 - R$ 321.43\n",
      " 1 -  gol - 10 - 100.0 - R$ 225.00\n",
      " 2 - uno - 12.5 - 80.0 - R$ 180.00\n",
      " 3 - vectra - 9 - 111.1 - R$ 250.00\n",
      " 4 - peugeot - 14.5 - 69.0 - R$ 155.17\n"
     ]
    }
   ],
   "source": [
    "print('Comparativo de Consumo de Combustível')\n",
    "veiculos = ['fusca',' gol', 'uno', 'vectra', 'peugeot']\n",
    "autonomias = [7, 10, 12.5, 9, 14.5]\n",
    "preço_g = 2.25\n",
    "lista = []\n",
    "for i, item in enumerate(veiculos):\n",
    "    print('Veiculo ' + str(i))\n",
    "    print('Nome: ' + veiculos[i].title())\n",
    "    print('Km por litro: ' + str(autonomias[i]))\n",
    "\n",
    "Relatorio = []\n",
    "print('Relatório Final')\n",
    "for i in range(len(veiculos)):\n",
    "    litros_1000 = 1000 / autonomias[i]\n",
    "    custo = litros_1000 * preço_g\n",
    "    print(' {} - {} - {} - {:.1f} - R$ {:,.2f}'.format(i, veiculos[i], autonomias[i], litros_1000, custo))"
   ]
  },
  {
   "cell_type": "markdown",
   "id": "1d0260a3",
   "metadata": {
    "id": "1d0260a3"
   },
   "source": [
    "#### 7. Uma empresa paga seus vendedores com base em comissões. O vendedor recebe \\\\$200 por semana mais 9 por cento de suas vendas brutas daquela semana. Por exemplo, um vendedor que teve vendas brutas de \\\\$3000 em uma semana recebe \\\\$200 mais 9 por cento de \\\\$3000, ou seja, um total de \\\\$470. Escreva um programa (usando um array de contadores) que determine quantos vendedores receberam salários nos seguintes intervalos de valores:\n",
    "<pre>\n",
    "$200 - $299\n",
    "$300 - $399\n",
    "$400 - $499\n",
    "$500 - $599\n",
    "$600 - $699\n",
    "$700 - $799\n",
    "$800 - $899\n",
    "$900 - $999\n",
    "$1000 em diante\n",
    "</pre>\n",
    "\n",
    "Existem várias formas de fazer. Faça primeiro da forma que parecer mais intuitiva para você.\n",
    "\n",
    "Em seguida, caso queira um desafio:\n",
    "Desafio: Crie uma forma para chegar na posição da lista a partir do salário, sem fazer vários ifs aninhados."
   ]
  },
  {
   "cell_type": "code",
   "execution_count": 74,
   "id": "fc6eaae4",
   "metadata": {
    "id": "fc6eaae4"
   },
   "outputs": [
    {
     "name": "stdout",
     "output_type": "stream",
     "text": [
      "290.0\n",
      "1\n",
      "380.0\n",
      "2\n",
      "470.0\n",
      "3\n",
      "560.0\n",
      "4\n",
      "650.0\n",
      "5\n",
      "740.0\n",
      "6\n",
      "695.0\n",
      "5\n",
      "605.0\n",
      "5\n",
      "524.0\n",
      "4\n",
      "Entre 200 e 299: 1\n",
      "Entre 300 e 399: 1\n",
      "Entre 400 e 499: 1\n",
      "Entre 500 e 599: 2\n",
      "Entre 600 e 699: 3\n",
      "Entre 700 e 799: 1\n",
      "Entre 800 e 899: 0\n",
      "Entre 900 e 999: 0\n",
      "Mais que mil: 0\n"
     ]
    }
   ],
   "source": [
    "vendas = [1000, 2000, 3000, 4000, 5000, 6000, 5500, 4500, 3600]\n",
    "faixas = []\n",
    "tamanho_faixas = 100\n",
    "qtde_faixas = 9\n",
    "\n",
    "for venda in vendas:\n",
    "    bonus = venda * 0.09\n",
    "    salario = 200 + bonus\n",
    "    print(salario)\n",
    "    faixa = int(bonus / tamanho_faixas) + 1\n",
    "    faixas.append(faixa)\n",
    "for i in range(qtde_faixas-1):\n",
    "    print(f'Entre {i*100 + 200} e {i*100 + 299}:', faixas.count(i+1))\n",
    "    \n",
    "print('Mais que mil:', faixas.count(qtde_faixas))"
   ]
  },
  {
   "cell_type": "code",
   "execution_count": 73,
   "id": "0b02aecc",
   "metadata": {},
   "outputs": [
    {
     "name": "stdout",
     "output_type": "stream",
     "text": [
      "4\n"
     ]
    }
   ],
   "source": [
    "faixa = int(bonus / tamanho_faixas) + 1\n",
    "faixas.append(faixa)\n",
    "print(faixa)    "
   ]
  },
  {
   "cell_type": "code",
   "execution_count": null,
   "id": "132f7214",
   "metadata": {},
   "outputs": [],
   "source": []
  }
 ],
 "metadata": {
  "colab": {
   "provenance": []
  },
  "kernelspec": {
   "display_name": "Python 3 (ipykernel)",
   "language": "python",
   "name": "python3"
  },
  "language_info": {
   "codemirror_mode": {
    "name": "ipython",
    "version": 3
   },
   "file_extension": ".py",
   "mimetype": "text/x-python",
   "name": "python",
   "nbconvert_exporter": "python",
   "pygments_lexer": "ipython3",
   "version": "3.9.13"
  }
 },
 "nbformat": 4,
 "nbformat_minor": 5
}
